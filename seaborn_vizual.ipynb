{
 "cells": [
  {
   "cell_type": "code",
   "execution_count": 1,
   "metadata": {},
   "outputs": [],
   "source": [
    "import pandas as pd\n",
    "import seaborn as sns\n",
    "import matplotlib.pyplot as plt"
   ]
  },
  {
   "cell_type": "code",
   "execution_count": 2,
   "metadata": {},
   "outputs": [],
   "source": [
    "url = \"https://vincentarelbundock.github.io/Rdatasets/csv/Stat2Data/Hawks.csv\"\n",
    "hawks = pd.read_csv(url, index_col=0)"
   ]
  },
  {
   "cell_type": "code",
   "execution_count": 3,
   "metadata": {},
   "outputs": [
    {
     "data": {
      "text/html": [
       "<div>\n",
       "<style scoped>\n",
       "    .dataframe tbody tr th:only-of-type {\n",
       "        vertical-align: middle;\n",
       "    }\n",
       "\n",
       "    .dataframe tbody tr th {\n",
       "        vertical-align: top;\n",
       "    }\n",
       "\n",
       "    .dataframe thead th {\n",
       "        text-align: right;\n",
       "    }\n",
       "</style>\n",
       "<table border=\"1\" class=\"dataframe\">\n",
       "  <thead>\n",
       "    <tr style=\"text-align: right;\">\n",
       "      <th></th>\n",
       "      <th>Month</th>\n",
       "      <th>Day</th>\n",
       "      <th>Year</th>\n",
       "      <th>CaptureTime</th>\n",
       "      <th>ReleaseTime</th>\n",
       "      <th>BandNumber</th>\n",
       "      <th>Species</th>\n",
       "      <th>Age</th>\n",
       "      <th>Sex</th>\n",
       "      <th>Wing</th>\n",
       "      <th>Weight</th>\n",
       "      <th>Culmen</th>\n",
       "      <th>Hallux</th>\n",
       "      <th>Tail</th>\n",
       "      <th>StandardTail</th>\n",
       "      <th>Tarsus</th>\n",
       "      <th>WingPitFat</th>\n",
       "      <th>KeelFat</th>\n",
       "      <th>Crop</th>\n",
       "    </tr>\n",
       "  </thead>\n",
       "  <tbody>\n",
       "    <tr>\n",
       "      <th>1</th>\n",
       "      <td>9</td>\n",
       "      <td>19</td>\n",
       "      <td>1992</td>\n",
       "      <td>13:30</td>\n",
       "      <td>NaN</td>\n",
       "      <td>877-76317</td>\n",
       "      <td>RT</td>\n",
       "      <td>I</td>\n",
       "      <td>NaN</td>\n",
       "      <td>385.0</td>\n",
       "      <td>920.0</td>\n",
       "      <td>25.7</td>\n",
       "      <td>30.1</td>\n",
       "      <td>219</td>\n",
       "      <td>NaN</td>\n",
       "      <td>NaN</td>\n",
       "      <td>NaN</td>\n",
       "      <td>NaN</td>\n",
       "      <td>NaN</td>\n",
       "    </tr>\n",
       "    <tr>\n",
       "      <th>2</th>\n",
       "      <td>9</td>\n",
       "      <td>22</td>\n",
       "      <td>1992</td>\n",
       "      <td>10:30</td>\n",
       "      <td></td>\n",
       "      <td>877-76318</td>\n",
       "      <td>RT</td>\n",
       "      <td>I</td>\n",
       "      <td>NaN</td>\n",
       "      <td>376.0</td>\n",
       "      <td>930.0</td>\n",
       "      <td>NaN</td>\n",
       "      <td>NaN</td>\n",
       "      <td>221</td>\n",
       "      <td>NaN</td>\n",
       "      <td>NaN</td>\n",
       "      <td>NaN</td>\n",
       "      <td>NaN</td>\n",
       "      <td>NaN</td>\n",
       "    </tr>\n",
       "    <tr>\n",
       "      <th>3</th>\n",
       "      <td>9</td>\n",
       "      <td>23</td>\n",
       "      <td>1992</td>\n",
       "      <td>12:45</td>\n",
       "      <td></td>\n",
       "      <td>877-76319</td>\n",
       "      <td>RT</td>\n",
       "      <td>I</td>\n",
       "      <td>NaN</td>\n",
       "      <td>381.0</td>\n",
       "      <td>990.0</td>\n",
       "      <td>26.7</td>\n",
       "      <td>31.3</td>\n",
       "      <td>235</td>\n",
       "      <td>NaN</td>\n",
       "      <td>NaN</td>\n",
       "      <td>NaN</td>\n",
       "      <td>NaN</td>\n",
       "      <td>NaN</td>\n",
       "    </tr>\n",
       "    <tr>\n",
       "      <th>4</th>\n",
       "      <td>9</td>\n",
       "      <td>23</td>\n",
       "      <td>1992</td>\n",
       "      <td>10:50</td>\n",
       "      <td></td>\n",
       "      <td>745-49508</td>\n",
       "      <td>CH</td>\n",
       "      <td>I</td>\n",
       "      <td>F</td>\n",
       "      <td>265.0</td>\n",
       "      <td>470.0</td>\n",
       "      <td>18.7</td>\n",
       "      <td>23.5</td>\n",
       "      <td>220</td>\n",
       "      <td>NaN</td>\n",
       "      <td>NaN</td>\n",
       "      <td>NaN</td>\n",
       "      <td>NaN</td>\n",
       "      <td>NaN</td>\n",
       "    </tr>\n",
       "    <tr>\n",
       "      <th>5</th>\n",
       "      <td>9</td>\n",
       "      <td>27</td>\n",
       "      <td>1992</td>\n",
       "      <td>11:15</td>\n",
       "      <td></td>\n",
       "      <td>1253-98801</td>\n",
       "      <td>SS</td>\n",
       "      <td>I</td>\n",
       "      <td>F</td>\n",
       "      <td>205.0</td>\n",
       "      <td>170.0</td>\n",
       "      <td>12.5</td>\n",
       "      <td>14.3</td>\n",
       "      <td>157</td>\n",
       "      <td>NaN</td>\n",
       "      <td>NaN</td>\n",
       "      <td>NaN</td>\n",
       "      <td>NaN</td>\n",
       "      <td>NaN</td>\n",
       "    </tr>\n",
       "  </tbody>\n",
       "</table>\n",
       "</div>"
      ],
      "text/plain": [
       "   Month  Day  Year CaptureTime ReleaseTime  BandNumber Species Age  Sex  \\\n",
       "1      9   19  1992       13:30         NaN   877-76317      RT   I  NaN   \n",
       "2      9   22  1992       10:30               877-76318      RT   I  NaN   \n",
       "3      9   23  1992       12:45               877-76319      RT   I  NaN   \n",
       "4      9   23  1992       10:50               745-49508      CH   I    F   \n",
       "5      9   27  1992       11:15              1253-98801      SS   I    F   \n",
       "\n",
       "    Wing  Weight  Culmen  Hallux  Tail  StandardTail  Tarsus  WingPitFat  \\\n",
       "1  385.0   920.0    25.7    30.1   219           NaN     NaN         NaN   \n",
       "2  376.0   930.0     NaN     NaN   221           NaN     NaN         NaN   \n",
       "3  381.0   990.0    26.7    31.3   235           NaN     NaN         NaN   \n",
       "4  265.0   470.0    18.7    23.5   220           NaN     NaN         NaN   \n",
       "5  205.0   170.0    12.5    14.3   157           NaN     NaN         NaN   \n",
       "\n",
       "   KeelFat  Crop  \n",
       "1      NaN   NaN  \n",
       "2      NaN   NaN  \n",
       "3      NaN   NaN  \n",
       "4      NaN   NaN  \n",
       "5      NaN   NaN  "
      ]
     },
     "execution_count": 3,
     "metadata": {},
     "output_type": "execute_result"
    }
   ],
   "source": [
    "hawks.head()"
   ]
  },
  {
   "cell_type": "code",
   "execution_count": 4,
   "metadata": {},
   "outputs": [
    {
     "name": "stdout",
     "output_type": "stream",
     "text": [
      "<class 'pandas.core.frame.DataFrame'>\n",
      "Int64Index: 908 entries, 1 to 908\n",
      "Data columns (total 19 columns):\n",
      " #   Column        Non-Null Count  Dtype  \n",
      "---  ------        --------------  -----  \n",
      " 0   Month         908 non-null    int64  \n",
      " 1   Day           908 non-null    int64  \n",
      " 2   Year          908 non-null    int64  \n",
      " 3   CaptureTime   908 non-null    object \n",
      " 4   ReleaseTime   907 non-null    object \n",
      " 5   BandNumber    908 non-null    object \n",
      " 6   Species       908 non-null    object \n",
      " 7   Age           908 non-null    object \n",
      " 8   Sex           332 non-null    object \n",
      " 9   Wing          907 non-null    float64\n",
      " 10  Weight        898 non-null    float64\n",
      " 11  Culmen        901 non-null    float64\n",
      " 12  Hallux        902 non-null    float64\n",
      " 13  Tail          908 non-null    int64  \n",
      " 14  StandardTail  571 non-null    float64\n",
      " 15  Tarsus        75 non-null     float64\n",
      " 16  WingPitFat    77 non-null     float64\n",
      " 17  KeelFat       567 non-null    float64\n",
      " 18  Crop          565 non-null    float64\n",
      "dtypes: float64(9), int64(4), object(6)\n",
      "memory usage: 141.9+ KB\n"
     ]
    }
   ],
   "source": [
    "hawks.info()"
   ]
  },
  {
   "cell_type": "code",
   "execution_count": 5,
   "metadata": {},
   "outputs": [
    {
     "data": {
      "text/html": [
       "<div>\n",
       "<style scoped>\n",
       "    .dataframe tbody tr th:only-of-type {\n",
       "        vertical-align: middle;\n",
       "    }\n",
       "\n",
       "    .dataframe tbody tr th {\n",
       "        vertical-align: top;\n",
       "    }\n",
       "\n",
       "    .dataframe thead th {\n",
       "        text-align: right;\n",
       "    }\n",
       "</style>\n",
       "<table border=\"1\" class=\"dataframe\">\n",
       "  <thead>\n",
       "    <tr style=\"text-align: right;\">\n",
       "      <th></th>\n",
       "      <th>Month</th>\n",
       "      <th>Day</th>\n",
       "      <th>Year</th>\n",
       "      <th>Wing</th>\n",
       "      <th>Weight</th>\n",
       "      <th>Culmen</th>\n",
       "      <th>Hallux</th>\n",
       "      <th>Tail</th>\n",
       "      <th>StandardTail</th>\n",
       "      <th>Tarsus</th>\n",
       "      <th>WingPitFat</th>\n",
       "      <th>KeelFat</th>\n",
       "      <th>Crop</th>\n",
       "    </tr>\n",
       "  </thead>\n",
       "  <tbody>\n",
       "    <tr>\n",
       "      <th>count</th>\n",
       "      <td>908.000000</td>\n",
       "      <td>908.000000</td>\n",
       "      <td>908.000000</td>\n",
       "      <td>907.000000</td>\n",
       "      <td>898.000000</td>\n",
       "      <td>901.000000</td>\n",
       "      <td>902.000000</td>\n",
       "      <td>908.000000</td>\n",
       "      <td>571.000000</td>\n",
       "      <td>75.000000</td>\n",
       "      <td>77.000000</td>\n",
       "      <td>567.000000</td>\n",
       "      <td>565.000000</td>\n",
       "    </tr>\n",
       "    <tr>\n",
       "      <th>mean</th>\n",
       "      <td>9.842511</td>\n",
       "      <td>15.740088</td>\n",
       "      <td>1998.253304</td>\n",
       "      <td>315.637486</td>\n",
       "      <td>772.080178</td>\n",
       "      <td>21.801498</td>\n",
       "      <td>26.410865</td>\n",
       "      <td>198.831498</td>\n",
       "      <td>199.182137</td>\n",
       "      <td>71.950667</td>\n",
       "      <td>0.792208</td>\n",
       "      <td>2.184303</td>\n",
       "      <td>0.234540</td>\n",
       "    </tr>\n",
       "    <tr>\n",
       "      <th>std</th>\n",
       "      <td>0.685717</td>\n",
       "      <td>8.413164</td>\n",
       "      <td>3.454180</td>\n",
       "      <td>95.277591</td>\n",
       "      <td>462.311760</td>\n",
       "      <td>7.284175</td>\n",
       "      <td>17.734704</td>\n",
       "      <td>36.824403</td>\n",
       "      <td>38.197755</td>\n",
       "      <td>17.263204</td>\n",
       "      <td>0.878660</td>\n",
       "      <td>1.044073</td>\n",
       "      <td>0.461597</td>\n",
       "    </tr>\n",
       "    <tr>\n",
       "      <th>min</th>\n",
       "      <td>8.000000</td>\n",
       "      <td>1.000000</td>\n",
       "      <td>1992.000000</td>\n",
       "      <td>37.200000</td>\n",
       "      <td>56.000000</td>\n",
       "      <td>8.600000</td>\n",
       "      <td>9.500000</td>\n",
       "      <td>119.000000</td>\n",
       "      <td>115.000000</td>\n",
       "      <td>24.700000</td>\n",
       "      <td>0.000000</td>\n",
       "      <td>0.000000</td>\n",
       "      <td>0.000000</td>\n",
       "    </tr>\n",
       "    <tr>\n",
       "      <th>25%</th>\n",
       "      <td>9.000000</td>\n",
       "      <td>9.000000</td>\n",
       "      <td>1995.000000</td>\n",
       "      <td>202.000000</td>\n",
       "      <td>185.000000</td>\n",
       "      <td>12.800000</td>\n",
       "      <td>15.100000</td>\n",
       "      <td>160.000000</td>\n",
       "      <td>162.000000</td>\n",
       "      <td>55.600000</td>\n",
       "      <td>0.000000</td>\n",
       "      <td>2.000000</td>\n",
       "      <td>0.000000</td>\n",
       "    </tr>\n",
       "    <tr>\n",
       "      <th>50%</th>\n",
       "      <td>10.000000</td>\n",
       "      <td>16.000000</td>\n",
       "      <td>1999.000000</td>\n",
       "      <td>370.000000</td>\n",
       "      <td>970.000000</td>\n",
       "      <td>25.500000</td>\n",
       "      <td>29.400000</td>\n",
       "      <td>214.000000</td>\n",
       "      <td>215.000000</td>\n",
       "      <td>79.300000</td>\n",
       "      <td>1.000000</td>\n",
       "      <td>2.000000</td>\n",
       "      <td>0.000000</td>\n",
       "    </tr>\n",
       "    <tr>\n",
       "      <th>75%</th>\n",
       "      <td>10.000000</td>\n",
       "      <td>23.000000</td>\n",
       "      <td>2001.000000</td>\n",
       "      <td>390.000000</td>\n",
       "      <td>1120.000000</td>\n",
       "      <td>27.300000</td>\n",
       "      <td>31.400000</td>\n",
       "      <td>225.000000</td>\n",
       "      <td>226.000000</td>\n",
       "      <td>87.000000</td>\n",
       "      <td>1.000000</td>\n",
       "      <td>3.000000</td>\n",
       "      <td>0.250000</td>\n",
       "    </tr>\n",
       "    <tr>\n",
       "      <th>max</th>\n",
       "      <td>11.000000</td>\n",
       "      <td>31.000000</td>\n",
       "      <td>2003.000000</td>\n",
       "      <td>480.000000</td>\n",
       "      <td>2030.000000</td>\n",
       "      <td>39.200000</td>\n",
       "      <td>341.400000</td>\n",
       "      <td>288.000000</td>\n",
       "      <td>335.000000</td>\n",
       "      <td>94.000000</td>\n",
       "      <td>3.000000</td>\n",
       "      <td>4.000000</td>\n",
       "      <td>5.000000</td>\n",
       "    </tr>\n",
       "  </tbody>\n",
       "</table>\n",
       "</div>"
      ],
      "text/plain": [
       "            Month         Day         Year        Wing       Weight  \\\n",
       "count  908.000000  908.000000   908.000000  907.000000   898.000000   \n",
       "mean     9.842511   15.740088  1998.253304  315.637486   772.080178   \n",
       "std      0.685717    8.413164     3.454180   95.277591   462.311760   \n",
       "min      8.000000    1.000000  1992.000000   37.200000    56.000000   \n",
       "25%      9.000000    9.000000  1995.000000  202.000000   185.000000   \n",
       "50%     10.000000   16.000000  1999.000000  370.000000   970.000000   \n",
       "75%     10.000000   23.000000  2001.000000  390.000000  1120.000000   \n",
       "max     11.000000   31.000000  2003.000000  480.000000  2030.000000   \n",
       "\n",
       "           Culmen      Hallux        Tail  StandardTail     Tarsus  \\\n",
       "count  901.000000  902.000000  908.000000    571.000000  75.000000   \n",
       "mean    21.801498   26.410865  198.831498    199.182137  71.950667   \n",
       "std      7.284175   17.734704   36.824403     38.197755  17.263204   \n",
       "min      8.600000    9.500000  119.000000    115.000000  24.700000   \n",
       "25%     12.800000   15.100000  160.000000    162.000000  55.600000   \n",
       "50%     25.500000   29.400000  214.000000    215.000000  79.300000   \n",
       "75%     27.300000   31.400000  225.000000    226.000000  87.000000   \n",
       "max     39.200000  341.400000  288.000000    335.000000  94.000000   \n",
       "\n",
       "       WingPitFat     KeelFat        Crop  \n",
       "count   77.000000  567.000000  565.000000  \n",
       "mean     0.792208    2.184303    0.234540  \n",
       "std      0.878660    1.044073    0.461597  \n",
       "min      0.000000    0.000000    0.000000  \n",
       "25%      0.000000    2.000000    0.000000  \n",
       "50%      1.000000    2.000000    0.000000  \n",
       "75%      1.000000    3.000000    0.250000  \n",
       "max      3.000000    4.000000    5.000000  "
      ]
     },
     "execution_count": 5,
     "metadata": {},
     "output_type": "execute_result"
    }
   ],
   "source": [
    "hawks.describe()"
   ]
  },
  {
   "cell_type": "code",
   "execution_count": 6,
   "metadata": {},
   "outputs": [
    {
     "data": {
      "text/plain": [
       "<Axes: >"
      ]
     },
     "execution_count": 6,
     "metadata": {},
     "output_type": "execute_result"
    },
    {
     "data": {
      "image/png": "[encoded data removed]",
      "text/plain": [
       "<Figure size 1000x600 with 2 Axes>"
      ]
     },
     "metadata": {},
     "output_type": "display_data"
    }
   ],
   "source": [
    "plt.figure(figsize=(10,6))\n",
    "sns.heatmap(hawks.isna().transpose(),\n",
    "            cmap=\"YlGnBu\",\n",
    "            cbar_kws={'label': 'Missing Data'})\n",
    "\n",
    "\n"
   ]
  },
  {
   "cell_type": "code",
   "execution_count": 7,
   "metadata": {},
   "outputs": [
    {
     "data": {
      "text/plain": [
       "array([nan, 'F', 'M'], dtype=object)"
      ]
     },
     "execution_count": 7,
     "metadata": {},
     "output_type": "execute_result"
    }
   ],
   "source": [
    "hawks['Sex'].unique()"
   ]
  },
  {
   "cell_type": "code",
   "execution_count": 8,
   "metadata": {},
   "outputs": [
    {
     "data": {
      "text/plain": [
       "array([ nan, 89.3, 57. , 48.4, 86.6, 48.6, 54.3, 56. , 48.3, 50.5, 90.2,\n",
       "       73.3, 44.5, 57.6, 57.5, 50.2, 55. , 82.8, 85.5, 67.5, 49.8, 24.7,\n",
       "       85.1, 88.9, 87.4, 67.2, 74.4, 56.5, 47.7, 87.1, 85.4, 85.2, 86.9,\n",
       "       90.1, 84.8, 86.8, 91.3, 58.1, 52.4, 84.9, 81.7, 91.7, 89. , 94. ,\n",
       "       79.3, 91.2, 90.3, 84.4, 54.6, 75.3, 86.2, 91. , 52.5, 71.2, 92.5,\n",
       "       55.9, 53.4, 93.7, 91.9, 50. , 84.1, 69.2, 60.1, 56.8, 55.3, 87.9,\n",
       "       80.8, 54. ])"
      ]
     },
     "execution_count": 8,
     "metadata": {},
     "output_type": "execute_result"
    }
   ],
   "source": [
    "hawks['Tarsus'].unique()"
   ]
  },
  {
   "cell_type": "code",
   "execution_count": 9,
   "metadata": {},
   "outputs": [
    {
     "data": {
      "text/plain": [
       "<seaborn.axisgrid.FacetGrid at 0x1bc06543df0>"
      ]
     },
     "execution_count": 9,
     "metadata": {},
     "output_type": "execute_result"
    },
    {
     "data": {
      "text/plain": [
       "<Figure size 1000x600 with 0 Axes>"
      ]
     },
     "metadata": {},
     "output_type": "display_data"
    },
    {
     "data": {
      "image/png": "[encoded data removed]",
      "text/plain": [
       "<Figure size 709.875x500 with 1 Axes>"
      ]
     },
     "metadata": {},
     "output_type": "display_data"
    }
   ],
   "source": [
    "plt.figure(figsize=(10,6))\n",
    "sns.displot(\n",
    "    data=hawks.isna().melt(value_name=\"missing\"),\n",
    "    y=\"variable\",\n",
    "    hue=\"missing\",\n",
    "    multiple=\"fill\",\n",
    "    aspect=1.25\n",
    ")"
   ]
  },
  {
   "cell_type": "code",
   "execution_count": 10,
   "metadata": {},
   "outputs": [
    {
     "data": {
      "text/plain": [
       "array([ 920.,  930.,  990.,  470.,  170., 1090.,  960.,  855., 1210.,\n",
       "       1120., 1010.,   nan, 1170., 1390., 1150.,  950.,  910., 1070.,\n",
       "       1190.,  101., 1330.,  100., 1100.,  180., 1490., 1040.,  820.,\n",
       "       1030., 1300., 1500., 1080., 1320.,   88.,  324., 1060., 1140.,\n",
       "       1000., 1050., 1110.,  980.,  134., 1270.,  880.,  340., 1255.,\n",
       "       1180.,  760., 1250.,  475., 1130., 1160., 1345., 1385., 1455.,\n",
       "       1025., 1360.,  194.,  159.,   90., 1065., 1125., 1340., 1275.,\n",
       "        168.,  146.,  108.,   94., 1085.,  188.,  154.,  810.,  905.,\n",
       "        420., 1240.,  365.,   91.,  860.,  970.,  985.,   89.,   97.,\n",
       "         93., 1350., 1370.,  103.,  151.,  940., 1310., 1035.,  965.,\n",
       "        975.,   95.,  195., 1205., 1045.,  955.,  900., 1075.,  211.,\n",
       "        995., 1095.,  196.,  176.,  164.,  158., 1465.,  169., 1105.,\n",
       "       1015.,  183., 1405., 1055., 1670.,  190.,  105.,  206., 1195.,\n",
       "        890.,  160.,   99.,  165.,  125.,  155., 1285.,  390.,  150.,\n",
       "        130.,  550.,  999.,  530., 1260., 1280., 1220., 1135.,  480.,\n",
       "        925.,  730., 1020.,  350.,  375., 1175., 1540., 1420.,  400.,\n",
       "       1142.,  157.,   98.,  813.,  181.,   92., 1024.,  464.,  186.,\n",
       "       1023.,  163., 1119.,  917.,  946.,  337.,  742.,  439.,  187.,\n",
       "       1094.,  832., 1244.,  974., 1289.,  994., 1004., 1097.,  185.,\n",
       "       1092., 1049.,  998., 1091.,  987., 1151.,  971., 1159., 1239.,\n",
       "       1216.,  177.,  469., 1039., 1079.,  162.,  339., 1403.,  175.,\n",
       "       1473., 1001.,  914., 1059., 1147.,  949.,  102.,  973.,  327.,\n",
       "       1064.,  749.,  201., 1213., 1200.,  113.,  919., 1487., 1254.,\n",
       "        156., 1189.,  979.,   96., 1339., 1199., 1344.,  969., 1054.,\n",
       "        334., 1449., 1598.,  992.,  569., 1354., 1439., 1019., 1399.,\n",
       "       1169., 1164.,  429., 1215., 1165., 1044.,  895.,  540.,  590.,\n",
       "       1225.,  110.,  850., 1145.,  200.,  505.,  800., 1460., 1585.,\n",
       "       1315., 1005.,  280.,  775.,  107.,  909., 1560.,  145., 1089.,\n",
       "       1194.,  945.,  785.,   56.,  320., 1185.,   85.,  565.,  325.,\n",
       "       1400., 1430.,  915.,  535.,  120., 1290., 1335., 1115.,  115.,\n",
       "        229.,  235., 1435., 1235.,  490.,  845.,  865., 2030.,  515.,\n",
       "       1265.,  191.,  205., 1595.,  240.,  875.,  330.,  455., 1305.,\n",
       "        795., 1155.,  380.,  640.,  935.,  525.,  305.,  510.,  440.,\n",
       "        295.,  300.,  335.,  210.,  830.,  360.,  840., 1325.,  805.,\n",
       "       1525.,  790.])"
      ]
     },
     "execution_count": 10,
     "metadata": {},
     "output_type": "execute_result"
    }
   ],
   "source": [
    "hawks['Weight'].unique()"
   ]
  },
  {
   "cell_type": "code",
   "execution_count": 11,
   "metadata": {},
   "outputs": [
    {
     "data": {
      "text/plain": [
       "576"
      ]
     },
     "execution_count": 11,
     "metadata": {},
     "output_type": "execute_result"
    }
   ],
   "source": [
    "hawks['Sex'].isnull().sum()"
   ]
  },
  {
   "cell_type": "code",
   "execution_count": 12,
   "metadata": {},
   "outputs": [
    {
     "data": {
      "text/plain": [
       "576"
      ]
     },
     "execution_count": 12,
     "metadata": {},
     "output_type": "execute_result"
    }
   ],
   "source": [
    "hawks['Sex'].isna().sum()"
   ]
  }
 ],
 "metadata": {
  "kernelspec": {
   "display_name": "Python 3",
   "language": "python",
   "name": "python3"
  },
  "language_info": {
   "codemirror_mode": {
    "name": "ipython",
    "version": 3
   },
   "file_extension": ".py",
   "mimetype": "text/x-python",
   "name": "python",
   "nbconvert_exporter": "python",
   "pygments_lexer": "ipython3",
   "version": "3.10.8"
  },
  "orig_nbformat": 4
 },
 "nbformat": 4,
 "nbformat_minor": 2
}
