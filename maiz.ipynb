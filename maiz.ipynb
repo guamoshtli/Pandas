{
 "cells": [
  {
   "cell_type": "code",
   "execution_count": 1,
   "metadata": {},
   "outputs": [],
   "source": [
    "import pandas as pd\n",
    "import numpy as np\n",
    "import matplotlib.pyplot as plt\n",
    "from pandasql import sqldf"
   ]
  },
  {
   "cell_type": "code",
   "execution_count": 27,
   "metadata": {},
   "outputs": [
    {
     "data": {
      "text/html": [
       "<div>\n",
       "<style scoped>\n",
       "    .dataframe tbody tr th:only-of-type {\n",
       "        vertical-align: middle;\n",
       "    }\n",
       "\n",
       "    .dataframe tbody tr th {\n",
       "        vertical-align: top;\n",
       "    }\n",
       "\n",
       "    .dataframe thead th {\n",
       "        text-align: right;\n",
       "    }\n",
       "</style>\n",
       "<table border=\"1\" class=\"dataframe\">\n",
       "  <thead>\n",
       "    <tr style=\"text-align: right;\">\n",
       "      <th></th>\n",
       "      <th>FECHA_EMISION</th>\n",
       "      <th>FECHA_ULTIMO_PAGO</th>\n",
       "      <th>PLAZO_APROBADO</th>\n",
       "      <th>DESCRIPCION_PRODUCTO_CREDITO</th>\n",
       "      <th>DESCRIPCION_DESTINO_CREDITO</th>\n",
       "      <th>MONTO_OTORGADO</th>\n",
       "      <th>SALDO_CAPITAL</th>\n",
       "      <th>TASA_EFECTIVA_ANUAL</th>\n",
       "      <th>COBRA_IVA</th>\n",
       "      <th>NOMBRE_ACTIVIDAD_ECONOMICA</th>\n",
       "      <th>DESCRIPCION_ACTIVIDAD</th>\n",
       "    </tr>\n",
       "  </thead>\n",
       "  <tbody>\n",
       "    <tr>\n",
       "      <th>1148194</th>\n",
       "      <td>20160812</td>\n",
       "      <td>20161205</td>\n",
       "      <td>120.0</td>\n",
       "      <td>CREDITO SOLIDARIO</td>\n",
       "      <td>COMPRA DE MERCANCIA</td>\n",
       "      <td>5000.0</td>\n",
       "      <td>0.0</td>\n",
       "      <td>0.0</td>\n",
       "      <td>N</td>\n",
       "      <td>CAMPESINO                                     ...</td>\n",
       "      <td>SIEMBRA DE MAIZ Y HUERTAS DE AGUACATE</td>\n",
       "    </tr>\n",
       "    <tr>\n",
       "      <th>2220816</th>\n",
       "      <td>20201211</td>\n",
       "      <td>20201228</td>\n",
       "      <td>17.0</td>\n",
       "      <td>CREDITO GARANTIZADO SOBRE INVERSION           ...</td>\n",
       "      <td>OTROS</td>\n",
       "      <td>19300.0</td>\n",
       "      <td>0.0</td>\n",
       "      <td>0.0</td>\n",
       "      <td>N</td>\n",
       "      <td>CAMPESINO                                     ...</td>\n",
       "      <td>SIEMBRA MAIZ, TOMATE Y CHILE CRIOLLO</td>\n",
       "    </tr>\n",
       "    <tr>\n",
       "      <th>2996011</th>\n",
       "      <td>20220513</td>\n",
       "      <td>20230222</td>\n",
       "      <td>321.0</td>\n",
       "      <td>CREDITO A LA PALABRA</td>\n",
       "      <td>COMPRA CASA</td>\n",
       "      <td>40000.0</td>\n",
       "      <td>0.0</td>\n",
       "      <td>0.0</td>\n",
       "      <td>N</td>\n",
       "      <td>CAMPESINO                                     ...</td>\n",
       "      <td>SIEMBRA DE SORGO Y MAIZ</td>\n",
       "    </tr>\n",
       "    <tr>\n",
       "      <th>2036617</th>\n",
       "      <td>20200326</td>\n",
       "      <td>20200804</td>\n",
       "      <td>180.0</td>\n",
       "      <td>CREDITO AL CONSUMO</td>\n",
       "      <td>PAGO DE RENTA NEGOCIO</td>\n",
       "      <td>5000.0</td>\n",
       "      <td>0.0</td>\n",
       "      <td>0.0</td>\n",
       "      <td>Y</td>\n",
       "      <td>CAMPESINO                                     ...</td>\n",
       "      <td>SIEMBRA DE JITOMATE, TOMATE, MAIZ, CALABAZA, C...</td>\n",
       "    </tr>\n",
       "    <tr>\n",
       "      <th>2058379</th>\n",
       "      <td>20200415</td>\n",
       "      <td>20210310</td>\n",
       "      <td>330.0</td>\n",
       "      <td>CREDITO AGROPECUARIO</td>\n",
       "      <td>COMPRA CASA</td>\n",
       "      <td>7500.0</td>\n",
       "      <td>0.0</td>\n",
       "      <td>0.0</td>\n",
       "      <td>N</td>\n",
       "      <td>CAMPESINO                                     ...</td>\n",
       "      <td>CAMPESINO CULTIVO DE MAIZ, TRABAJA CON SU TRACTOR</td>\n",
       "    </tr>\n",
       "    <tr>\n",
       "      <th>303287</th>\n",
       "      <td>20130423</td>\n",
       "      <td>20131023</td>\n",
       "      <td>180.0</td>\n",
       "      <td>CREDINEGOCIO</td>\n",
       "      <td>COMPRA DE MERCANCIA</td>\n",
       "      <td>9000.0</td>\n",
       "      <td>0.0</td>\n",
       "      <td>0.0</td>\n",
       "      <td>N</td>\n",
       "      <td>CAMPESINO                                     ...</td>\n",
       "      <td>CULTIVO DE MAIZ</td>\n",
       "    </tr>\n",
       "    <tr>\n",
       "      <th>347635</th>\n",
       "      <td>20130620</td>\n",
       "      <td>20131221</td>\n",
       "      <td>180.0</td>\n",
       "      <td>CREDINEGOCIO</td>\n",
       "      <td>COMPRA DE ANIMALES DE TRASPATIO</td>\n",
       "      <td>6000.0</td>\n",
       "      <td>0.0</td>\n",
       "      <td>0.0</td>\n",
       "      <td>N</td>\n",
       "      <td>CAMPESINO                                     ...</td>\n",
       "      <td>PRODUCTOR DE MAIZ.</td>\n",
       "    </tr>\n",
       "    <tr>\n",
       "      <th>2945221</th>\n",
       "      <td>20210429</td>\n",
       "      <td>20220222</td>\n",
       "      <td>300.0</td>\n",
       "      <td>CREDITO AGROPECUARIO</td>\n",
       "      <td>COMPRA CASA</td>\n",
       "      <td>9500.0</td>\n",
       "      <td>0.0</td>\n",
       "      <td>0.0</td>\n",
       "      <td>N</td>\n",
       "      <td>CAMPESINO                                     ...</td>\n",
       "      <td>SIEMBRA DE MAIZ ELOTERO VARIEDAD 7573 ASGROW H...</td>\n",
       "    </tr>\n",
       "    <tr>\n",
       "      <th>357647</th>\n",
       "      <td>20130624</td>\n",
       "      <td>20131219</td>\n",
       "      <td>180.0</td>\n",
       "      <td>CREDITO AGROPECUARIO</td>\n",
       "      <td>COMPRA INSUMOS</td>\n",
       "      <td>9000.0</td>\n",
       "      <td>0.0</td>\n",
       "      <td>0.0</td>\n",
       "      <td>N</td>\n",
       "      <td>CAMPESINO                                     ...</td>\n",
       "      <td>CULTIVO DE SORGO Y MAIZ</td>\n",
       "    </tr>\n",
       "    <tr>\n",
       "      <th>2893999</th>\n",
       "      <td>20200420</td>\n",
       "      <td>20201215</td>\n",
       "      <td>240.0</td>\n",
       "      <td>CREDITO AGROPECUARIO</td>\n",
       "      <td>COMPRA CASA</td>\n",
       "      <td>9500.0</td>\n",
       "      <td>0.0</td>\n",
       "      <td>0.0</td>\n",
       "      <td>N</td>\n",
       "      <td>CAMPESINO                                     ...</td>\n",
       "      <td>SIEMBRA DE SORGO, EJOTE, MAIZ</td>\n",
       "    </tr>\n",
       "  </tbody>\n",
       "</table>\n",
       "</div>"
      ],
      "text/plain": [
       "         FECHA_EMISION  FECHA_ULTIMO_PAGO   PLAZO_APROBADO  \\\n",
       "1148194       20160812           20161205            120.0   \n",
       "2220816       20201211           20201228             17.0   \n",
       "2996011       20220513           20230222            321.0   \n",
       "2036617       20200326           20200804            180.0   \n",
       "2058379       20200415           20210310            330.0   \n",
       "303287        20130423           20131023            180.0   \n",
       "347635        20130620           20131221            180.0   \n",
       "2945221       20210429           20220222            300.0   \n",
       "357647        20130624           20131219            180.0   \n",
       "2893999       20200420           20201215            240.0   \n",
       "\n",
       "                              DESCRIPCION_PRODUCTO_CREDITO  \\\n",
       "1148194                                  CREDITO SOLIDARIO   \n",
       "2220816  CREDITO GARANTIZADO SOBRE INVERSION           ...   \n",
       "2996011                               CREDITO A LA PALABRA   \n",
       "2036617                                 CREDITO AL CONSUMO   \n",
       "2058379                               CREDITO AGROPECUARIO   \n",
       "303287                                        CREDINEGOCIO   \n",
       "347635                                        CREDINEGOCIO   \n",
       "2945221                               CREDITO AGROPECUARIO   \n",
       "357647                                CREDITO AGROPECUARIO   \n",
       "2893999                               CREDITO AGROPECUARIO   \n",
       "\n",
       "             DESCRIPCION_DESTINO_CREDITO   MONTO_OTORGADO   SALDO_CAPITAL  \\\n",
       "1148194              COMPRA DE MERCANCIA           5000.0             0.0   \n",
       "2220816                            OTROS          19300.0             0.0   \n",
       "2996011                      COMPRA CASA          40000.0             0.0   \n",
       "2036617            PAGO DE RENTA NEGOCIO           5000.0             0.0   \n",
       "2058379                      COMPRA CASA           7500.0             0.0   \n",
       "303287               COMPRA DE MERCANCIA           9000.0             0.0   \n",
       "347635   COMPRA DE ANIMALES DE TRASPATIO           6000.0             0.0   \n",
       "2945221                      COMPRA CASA           9500.0             0.0   \n",
       "357647                   COMPRA INSUMOS            9000.0             0.0   \n",
       "2893999                      COMPRA CASA           9500.0             0.0   \n",
       "\n",
       "          TASA_EFECTIVA_ANUAL  COBRA_IVA  \\\n",
       "1148194                   0.0          N   \n",
       "2220816                   0.0          N   \n",
       "2996011                   0.0          N   \n",
       "2036617                   0.0          Y   \n",
       "2058379                   0.0          N   \n",
       "303287                    0.0          N   \n",
       "347635                    0.0          N   \n",
       "2945221                   0.0          N   \n",
       "357647                    0.0          N   \n",
       "2893999                   0.0          N   \n",
       "\n",
       "                                NOMBRE_ACTIVIDAD_ECONOMICA  \\\n",
       "1148194  CAMPESINO                                     ...   \n",
       "2220816  CAMPESINO                                     ...   \n",
       "2996011  CAMPESINO                                     ...   \n",
       "2036617  CAMPESINO                                     ...   \n",
       "2058379  CAMPESINO                                     ...   \n",
       "303287   CAMPESINO                                     ...   \n",
       "347635   CAMPESINO                                     ...   \n",
       "2945221  CAMPESINO                                     ...   \n",
       "357647   CAMPESINO                                     ...   \n",
       "2893999  CAMPESINO                                     ...   \n",
       "\n",
       "                                     DESCRIPCION_ACTIVIDAD  \n",
       "1148194              SIEMBRA DE MAIZ Y HUERTAS DE AGUACATE  \n",
       "2220816               SIEMBRA MAIZ, TOMATE Y CHILE CRIOLLO  \n",
       "2996011                            SIEMBRA DE SORGO Y MAIZ  \n",
       "2036617  SIEMBRA DE JITOMATE, TOMATE, MAIZ, CALABAZA, C...  \n",
       "2058379  CAMPESINO CULTIVO DE MAIZ, TRABAJA CON SU TRACTOR  \n",
       "303287                                     CULTIVO DE MAIZ  \n",
       "347635                                  PRODUCTOR DE MAIZ.  \n",
       "2945221  SIEMBRA DE MAIZ ELOTERO VARIEDAD 7573 ASGROW H...  \n",
       "357647                             CULTIVO DE SORGO Y MAIZ  \n",
       "2893999                      SIEMBRA DE SORGO, EJOTE, MAIZ  "
      ]
     },
     "execution_count": 27,
     "metadata": {},
     "output_type": "execute_result"
    }
   ],
   "source": [
    "df = pd.read_csv('./maiz.csv', encoding='UTF-8')\n",
    "df.sample(10)"
   ]
  },
  {
   "cell_type": "code",
   "execution_count": 28,
   "metadata": {},
   "outputs": [
    {
     "data": {
      "text/plain": [
       "Index(['FECHA_EMISION', 'FECHA_ULTIMO_PAGO', ' PLAZO_APROBADO',\n",
       "       ' DESCRIPCION_PRODUCTO_CREDITO', ' DESCRIPCION_DESTINO_CREDITO',\n",
       "       ' MONTO_OTORGADO', ' SALDO_CAPITAL', ' TASA_EFECTIVA_ANUAL',\n",
       "       ' COBRA_IVA', ' NOMBRE_ACTIVIDAD_ECONOMICA', ' DESCRIPCION_ACTIVIDAD'],\n",
       "      dtype='object')"
      ]
     },
     "execution_count": 28,
     "metadata": {},
     "output_type": "execute_result"
    }
   ],
   "source": [
    "df.columns"
   ]
  },
  {
   "cell_type": "code",
   "execution_count": 30,
   "metadata": {},
   "outputs": [],
   "source": [
    "df.rename(columns={' SALDO_CAPITAL':'SCAPITAL', \n",
    "                   ' DESCRIPCION_DESTINO_CREDITO':'DESTINO',\n",
    "                   ' DESCRIPCION_PRODUCTO_CREDITO':'PRODUCTO',\n",
    "                   ' DESCRIPCION_ACTIVIDAD':'DACTIVIDAD',\n",
    "                   ' PLAZO_APROBADO':'PLAZO',\n",
    "                   ' MONTO_OTORGADO':'MONTO',\n",
    "                   ' NOMBRE_ACTIVIDAD_ECONOMICA':'NOM_ACT'\n",
    "                   \n",
    "                   }, inplace=True)\n"
   ]
  },
  {
   "cell_type": "code",
   "execution_count": 31,
   "metadata": {},
   "outputs": [
    {
     "data": {
      "text/plain": [
       "(3507087, 11)"
      ]
     },
     "execution_count": 31,
     "metadata": {},
     "output_type": "execute_result"
    }
   ],
   "source": [
    "df.shape"
   ]
  },
  {
   "cell_type": "code",
   "execution_count": 32,
   "metadata": {},
   "outputs": [
    {
     "name": "stdout",
     "output_type": "stream",
     "text": [
      "<class 'pandas.core.frame.DataFrame'>\n",
      "RangeIndex: 3507087 entries, 0 to 3507086\n",
      "Data columns (total 11 columns):\n",
      " #   Column                Dtype  \n",
      "---  ------                -----  \n",
      " 0   FECHA_EMISION         int64  \n",
      " 1   FECHA_ULTIMO_PAGO     int64  \n",
      " 2   PLAZO                 float64\n",
      " 3   PRODUCTO              object \n",
      " 4   DESTINO               object \n",
      " 5   MONTO                 float64\n",
      " 6   SCAPITAL              float64\n",
      " 7    TASA_EFECTIVA_ANUAL  float64\n",
      " 8    COBRA_IVA            object \n",
      " 9   NOM_ACT               object \n",
      " 10  DACTIVIDAD            object \n",
      "dtypes: float64(4), int64(2), object(5)\n",
      "memory usage: 294.3+ MB\n"
     ]
    }
   ],
   "source": [
    "df.info()"
   ]
  },
  {
   "cell_type": "code",
   "execution_count": 33,
   "metadata": {},
   "outputs": [],
   "source": [
    "df['FECHA_EMISION'] = pd.to_datetime(df['FECHA_EMISION'], format='%Y%m%d' )"
   ]
  },
  {
   "cell_type": "code",
   "execution_count": 34,
   "metadata": {},
   "outputs": [
    {
     "data": {
      "text/plain": [
       "'Wednesday'"
      ]
     },
     "execution_count": 34,
     "metadata": {},
     "output_type": "execute_result"
    }
   ],
   "source": [
    "df.loc[0,'FECHA_EMISION'].day_name()"
   ]
  },
  {
   "cell_type": "code",
   "execution_count": 35,
   "metadata": {},
   "outputs": [
    {
     "data": {
      "text/plain": [
       "'Wednesday'"
      ]
     },
     "execution_count": 35,
     "metadata": {},
     "output_type": "execute_result"
    }
   ],
   "source": [
    "df['FECHA_ULTIMO_PAGO'] = pd.to_datetime(df['FECHA_ULTIMO_PAGO'], format='%Y%m%d' )\n",
    "df.loc[0,'FECHA_ULTIMO_PAGO'].day_name()"
   ]
  },
  {
   "cell_type": "code",
   "execution_count": 36,
   "metadata": {},
   "outputs": [
    {
     "data": {
      "text/plain": [
       "2557837                    COMPRA CASA\n",
       "1349989                      MIGRACIÓN\n",
       "652148                 COMPRA INSUMOS \n",
       "2950886            COMPRA DE MERCANCIA\n",
       "3342960                      AGUACATE \n",
       "425616             COMPRA DE MERCANCIA\n",
       "1449710                          OTROS\n",
       "3416168                      AGUACATE \n",
       "1368207        ALIMENTACIÓN (DESPENSA)\n",
       "1239785                      MIGRACIÓN\n",
       "2800915    COMPRA/ REFACCIÓN VEHICULO \n",
       "1325286              GASTOS ESCOLARES \n",
       "803644               COMPRA DE GANADO \n",
       "1551140                    COMPRA CASA\n",
       "1621069                    COMPRA CASA\n",
       "Name: DESTINO, dtype: object"
      ]
     },
     "execution_count": 36,
     "metadata": {},
     "output_type": "execute_result"
    }
   ],
   "source": [
    "df['DESTINO'].sample(15)"
   ]
  },
  {
   "cell_type": "code",
   "execution_count": 37,
   "metadata": {},
   "outputs": [
    {
     "data": {
      "text/plain": [
       "791013     CREDITO AGROPECUARIO\n",
       "2214195              CREDICAMPO\n",
       "3382128    CREDITO AGROPECUARIO\n",
       "2844795    CREDITO AGROPECUARIO\n",
       "1476018    CREDITO AGROPECUARIO\n",
       "999246     CREDITO AGROPECUARIO\n",
       "2917754      CREDITO AL CONSUMO\n",
       "1214990    CREDITO AGROPECUARIO\n",
       "1590862    CREDITO AGROPECUARIO\n",
       "809051        CREDITO SOLIDARIO\n",
       "121259             CREDINEGOCIO\n",
       "63212              CREDINEGOCIO\n",
       "1968370    CREDITO AGROPECUARIO\n",
       "2243576    CREDITO AGROPECUARIO\n",
       "1449101    CREDITO AGROPECUARIO\n",
       "Name: PRODUCTO, dtype: object"
      ]
     },
     "execution_count": 37,
     "metadata": {},
     "output_type": "execute_result"
    }
   ],
   "source": [
    "df['PRODUCTO'].sample(15)"
   ]
  },
  {
   "cell_type": "code",
   "execution_count": 38,
   "metadata": {},
   "outputs": [
    {
     "data": {
      "text/plain": [
       "CREDITO AGROPECUARIO                                  1800239\n",
       "CREDINEGOCIO                                           735028\n",
       "CREDITO AL CONSUMO                                     253433\n",
       "CREDIVIVIENDA                                          227838\n",
       "CREDICAMPO                                             185409\n",
       "CREDITO SOLIDARIO                                       94222\n",
       "CREDITO A LA PALABRA                                    91568\n",
       "CREDITO GARANTIZADO SOBRE INVERSION                     50274\n",
       "MICRO-AGRO                                              22799\n",
       "CREDIMOTO                                               19872\n",
       "CREDICONFIANZA                                          11063\n",
       "CREDITO  AVIO AGROPECUARIO EN CO-FINANCIAMIENTO          6124\n",
       "TRATAMIENTO ESPECIAL                                     4141\n",
       "MICRO-NEGOCIO                                            4115\n",
       "CREDITO AGROPECUARIO Es                                   962\n",
       "Name: PRODUCTO, dtype: int64"
      ]
     },
     "execution_count": 38,
     "metadata": {},
     "output_type": "execute_result"
    }
   ],
   "source": [
    "df['PRODUCTO'].value_counts()"
   ]
  },
  {
   "cell_type": "code",
   "execution_count": 12,
   "metadata": {},
   "outputs": [],
   "source": [
    "df.set_index('FECHA_EMISION', inplace=True)\n"
   ]
  },
  {
   "cell_type": "code",
   "execution_count": 39,
   "metadata": {},
   "outputs": [
    {
     "data": {
      "text/html": [
       "<div>\n",
       "<style scoped>\n",
       "    .dataframe tbody tr th:only-of-type {\n",
       "        vertical-align: middle;\n",
       "    }\n",
       "\n",
       "    .dataframe tbody tr th {\n",
       "        vertical-align: top;\n",
       "    }\n",
       "\n",
       "    .dataframe thead th {\n",
       "        text-align: right;\n",
       "    }\n",
       "</style>\n",
       "<table border=\"1\" class=\"dataframe\">\n",
       "  <thead>\n",
       "    <tr style=\"text-align: right;\">\n",
       "      <th></th>\n",
       "      <th>FECHA_EMISION</th>\n",
       "      <th>FECHA_ULTIMO_PAGO</th>\n",
       "      <th>PLAZO</th>\n",
       "      <th>PRODUCTO</th>\n",
       "      <th>DESTINO</th>\n",
       "      <th>MONTO</th>\n",
       "      <th>SCAPITAL</th>\n",
       "      <th>TASA_EFECTIVA_ANUAL</th>\n",
       "      <th>COBRA_IVA</th>\n",
       "      <th>NOM_ACT</th>\n",
       "      <th>DACTIVIDAD</th>\n",
       "    </tr>\n",
       "  </thead>\n",
       "  <tbody>\n",
       "    <tr>\n",
       "      <th>0</th>\n",
       "      <td>2012-04-18</td>\n",
       "      <td>2013-04-17</td>\n",
       "      <td>360.0</td>\n",
       "      <td>CREDINEGOCIO</td>\n",
       "      <td>COMPRA INSUMOS</td>\n",
       "      <td>12000.0</td>\n",
       "      <td>0.0</td>\n",
       "      <td>0.0</td>\n",
       "      <td>N</td>\n",
       "      <td>COMERCIANTE                                   ...</td>\n",
       "      <td>CAMPESINO Y COMERCIANTE (CULTIVO DE MAIZ Y SORGO)</td>\n",
       "    </tr>\n",
       "    <tr>\n",
       "      <th>1</th>\n",
       "      <td>2012-04-18</td>\n",
       "      <td>2013-04-17</td>\n",
       "      <td>360.0</td>\n",
       "      <td>CREDINEGOCIO</td>\n",
       "      <td>COMPRA INSUMOS</td>\n",
       "      <td>12000.0</td>\n",
       "      <td>0.0</td>\n",
       "      <td>0.0</td>\n",
       "      <td>N</td>\n",
       "      <td>CAMPESINO                                     ...</td>\n",
       "      <td>SIEMBRA DE MAIZ,JITOMATE,TOMATE Y PEPINO</td>\n",
       "    </tr>\n",
       "    <tr>\n",
       "      <th>2</th>\n",
       "      <td>2012-04-18</td>\n",
       "      <td>2013-04-17</td>\n",
       "      <td>360.0</td>\n",
       "      <td>CREDINEGOCIO</td>\n",
       "      <td>COMPRA INSUMOS</td>\n",
       "      <td>12000.0</td>\n",
       "      <td>0.0</td>\n",
       "      <td>0.0</td>\n",
       "      <td>N</td>\n",
       "      <td>CAMPESINO                                     ...</td>\n",
       "      <td>SIEMBRA DE LOS CULTIVOS DE MAIZ, JITOMATE.</td>\n",
       "    </tr>\n",
       "    <tr>\n",
       "      <th>3</th>\n",
       "      <td>2012-04-18</td>\n",
       "      <td>2013-04-17</td>\n",
       "      <td>360.0</td>\n",
       "      <td>CREDINEGOCIO</td>\n",
       "      <td>COMPRA INSUMOS</td>\n",
       "      <td>12000.0</td>\n",
       "      <td>0.0</td>\n",
       "      <td>0.0</td>\n",
       "      <td>N</td>\n",
       "      <td>CAMPESINO                                     ...</td>\n",
       "      <td>SIEMBRA MAIZ, TOMATE, FRIJOL Y CHELE CRIOLLO</td>\n",
       "    </tr>\n",
       "    <tr>\n",
       "      <th>4</th>\n",
       "      <td>2012-04-18</td>\n",
       "      <td>2013-04-17</td>\n",
       "      <td>360.0</td>\n",
       "      <td>CREDINEGOCIO</td>\n",
       "      <td>COMPRA INSUMOS</td>\n",
       "      <td>12000.0</td>\n",
       "      <td>0.0</td>\n",
       "      <td>0.0</td>\n",
       "      <td>N</td>\n",
       "      <td>CAMPESINO                                     ...</td>\n",
       "      <td>SEMBRARA MAIZ, AL CULTIVO DE ABEJAS</td>\n",
       "    </tr>\n",
       "  </tbody>\n",
       "</table>\n",
       "</div>"
      ],
      "text/plain": [
       "  FECHA_EMISION FECHA_ULTIMO_PAGO  PLAZO      PRODUCTO          DESTINO  \\\n",
       "0    2012-04-18        2013-04-17  360.0  CREDINEGOCIO  COMPRA INSUMOS    \n",
       "1    2012-04-18        2013-04-17  360.0  CREDINEGOCIO  COMPRA INSUMOS    \n",
       "2    2012-04-18        2013-04-17  360.0  CREDINEGOCIO  COMPRA INSUMOS    \n",
       "3    2012-04-18        2013-04-17  360.0  CREDINEGOCIO  COMPRA INSUMOS    \n",
       "4    2012-04-18        2013-04-17  360.0  CREDINEGOCIO  COMPRA INSUMOS    \n",
       "\n",
       "     MONTO  SCAPITAL   TASA_EFECTIVA_ANUAL  COBRA_IVA  \\\n",
       "0  12000.0       0.0                   0.0          N   \n",
       "1  12000.0       0.0                   0.0          N   \n",
       "2  12000.0       0.0                   0.0          N   \n",
       "3  12000.0       0.0                   0.0          N   \n",
       "4  12000.0       0.0                   0.0          N   \n",
       "\n",
       "                                             NOM_ACT  \\\n",
       "0  COMERCIANTE                                   ...   \n",
       "1  CAMPESINO                                     ...   \n",
       "2  CAMPESINO                                     ...   \n",
       "3  CAMPESINO                                     ...   \n",
       "4  CAMPESINO                                     ...   \n",
       "\n",
       "                                          DACTIVIDAD  \n",
       "0  CAMPESINO Y COMERCIANTE (CULTIVO DE MAIZ Y SORGO)  \n",
       "1           SIEMBRA DE MAIZ,JITOMATE,TOMATE Y PEPINO  \n",
       "2         SIEMBRA DE LOS CULTIVOS DE MAIZ, JITOMATE.  \n",
       "3       SIEMBRA MAIZ, TOMATE, FRIJOL Y CHELE CRIOLLO  \n",
       "4                SEMBRARA MAIZ, AL CULTIVO DE ABEJAS  "
      ]
     },
     "execution_count": 39,
     "metadata": {},
     "output_type": "execute_result"
    }
   ],
   "source": [
    "df.head()"
   ]
  },
  {
   "cell_type": "code",
   "execution_count": 41,
   "metadata": {},
   "outputs": [
    {
     "data": {
      "text/plain": [
       "Index(['FECHA_EMISION', 'FECHA_ULTIMO_PAGO', 'PLAZO', 'PRODUCTO', 'DESTINO',\n",
       "       'MONTO', 'SCAPITAL', ' TASA_EFECTIVA_ANUAL', ' COBRA_IVA', 'NOM_ACT',\n",
       "       'DACTIVIDAD'],\n",
       "      dtype='object')"
      ]
     },
     "execution_count": 41,
     "metadata": {},
     "output_type": "execute_result"
    }
   ],
   "source": [
    "df.columns"
   ]
  },
  {
   "attachments": {},
   "cell_type": "markdown",
   "metadata": {},
   "source": []
  },
  {
   "cell_type": "code",
   "execution_count": 16,
   "metadata": {},
   "outputs": [],
   "source": [
    "query=\"\"\"\n",
    "SELECT * FROM df WHERE  SCAPITAL>0\n",
    "\"\"\""
   ]
  },
  {
   "cell_type": "code",
   "execution_count": 17,
   "metadata": {},
   "outputs": [
    {
     "data": {
      "text/html": [
       "<div>\n",
       "<style scoped>\n",
       "    .dataframe tbody tr th:only-of-type {\n",
       "        vertical-align: middle;\n",
       "    }\n",
       "\n",
       "    .dataframe tbody tr th {\n",
       "        vertical-align: top;\n",
       "    }\n",
       "\n",
       "    .dataframe thead th {\n",
       "        text-align: right;\n",
       "    }\n",
       "</style>\n",
       "<table border=\"1\" class=\"dataframe\">\n",
       "  <thead>\n",
       "    <tr style=\"text-align: right;\">\n",
       "      <th></th>\n",
       "      <th>FECHA_EMISION</th>\n",
       "      <th>FECHA_ULTIMO_PAGO</th>\n",
       "      <th>PLAZO</th>\n",
       "      <th>PRODUCTO</th>\n",
       "      <th>DESTINO</th>\n",
       "      <th>MONTO</th>\n",
       "      <th>SCAPITAL</th>\n",
       "      <th>TASA_EFECTIVA_ANUAL</th>\n",
       "      <th>COBRA_IVA</th>\n",
       "      <th>NOM_ACT</th>\n",
       "      <th>DACTIVIDAD</th>\n",
       "    </tr>\n",
       "  </thead>\n",
       "  <tbody>\n",
       "    <tr>\n",
       "      <th>111145</th>\n",
       "      <td>2019-01-21 00:00:00.000000</td>\n",
       "      <td>2021-12-16 00:00:00.000000</td>\n",
       "      <td>180.0</td>\n",
       "      <td>CREDITO AGROPECUARIO</td>\n",
       "      <td>OTROS</td>\n",
       "      <td>9500.0</td>\n",
       "      <td>7700.00</td>\n",
       "      <td>0.0</td>\n",
       "      <td>N</td>\n",
       "      <td>CAMPESINO                                     ...</td>\n",
       "      <td>SIEMBRA DE MAIZ</td>\n",
       "    </tr>\n",
       "    <tr>\n",
       "      <th>138867</th>\n",
       "      <td>2023-04-17 00:00:00.000000</td>\n",
       "      <td>2023-05-02 00:00:00.000000</td>\n",
       "      <td>300.0</td>\n",
       "      <td>CREDITO AL CONSUMO</td>\n",
       "      <td>OTROS</td>\n",
       "      <td>10000.0</td>\n",
       "      <td>9516.88</td>\n",
       "      <td>0.0</td>\n",
       "      <td>Y</td>\n",
       "      <td>CAMPESINO                                     ...</td>\n",
       "      <td>PRODUCTOR DE MAIZ, PEPINO Y FRIJOL</td>\n",
       "    </tr>\n",
       "    <tr>\n",
       "      <th>287799</th>\n",
       "      <td>2023-04-25 00:00:00.000000</td>\n",
       "      <td>2023-04-25 00:00:00.000000</td>\n",
       "      <td>180.0</td>\n",
       "      <td>CREDITO AGROPECUARIO</td>\n",
       "      <td>COMPRA INSUMOS</td>\n",
       "      <td>20000.0</td>\n",
       "      <td>20000.00</td>\n",
       "      <td>0.0</td>\n",
       "      <td>N</td>\n",
       "      <td>CAMPESINO                                     ...</td>\n",
       "      <td>PRODUCTOR DE MAIZ Y SORGO</td>\n",
       "    </tr>\n",
       "    <tr>\n",
       "      <th>175119</th>\n",
       "      <td>2022-12-29 00:00:00.000000</td>\n",
       "      <td>2022-12-29 00:00:00.000000</td>\n",
       "      <td>360.0</td>\n",
       "      <td>CREDITO AGROPECUARIO</td>\n",
       "      <td>AGUACATE</td>\n",
       "      <td>50000.0</td>\n",
       "      <td>50000.00</td>\n",
       "      <td>0.0</td>\n",
       "      <td>N</td>\n",
       "      <td>CAMPESINO                                     ...</td>\n",
       "      <td>PRODUCTORA DE MAIZ 7HA</td>\n",
       "    </tr>\n",
       "    <tr>\n",
       "      <th>58953</th>\n",
       "      <td>2022-07-22 00:00:00.000000</td>\n",
       "      <td>2022-07-22 00:00:00.000000</td>\n",
       "      <td>360.0</td>\n",
       "      <td>CREDITO AGROPECUARIO</td>\n",
       "      <td>COMPRA CASA</td>\n",
       "      <td>25000.0</td>\n",
       "      <td>25000.00</td>\n",
       "      <td>0.0</td>\n",
       "      <td>N</td>\n",
       "      <td>CAMPESINO                                     ...</td>\n",
       "      <td>SIEMBRA DE MAIZ , SORGO, CEBOLLA, CALABAZA</td>\n",
       "    </tr>\n",
       "    <tr>\n",
       "      <th>42170</th>\n",
       "      <td>2022-05-09 00:00:00.000000</td>\n",
       "      <td>2023-04-10 00:00:00.000000</td>\n",
       "      <td>360.0</td>\n",
       "      <td>CREDIVIVIENDA</td>\n",
       "      <td>PAGO DE RENTA NEGOCIO</td>\n",
       "      <td>35000.0</td>\n",
       "      <td>2916.19</td>\n",
       "      <td>0.0</td>\n",
       "      <td>N</td>\n",
       "      <td>CAMPESINO                                     ...</td>\n",
       "      <td>CULTIVO DE MAIZ</td>\n",
       "    </tr>\n",
       "    <tr>\n",
       "      <th>78816</th>\n",
       "      <td>2022-10-04 00:00:00.000000</td>\n",
       "      <td>2022-10-04 00:00:00.000000</td>\n",
       "      <td>360.0</td>\n",
       "      <td>CREDITO AGROPECUARIO</td>\n",
       "      <td>GASTOS VINCULADOS AL GANADO</td>\n",
       "      <td>9500.0</td>\n",
       "      <td>9500.00</td>\n",
       "      <td>0.0</td>\n",
       "      <td>N</td>\n",
       "      <td>CAMPESINO                                     ...</td>\n",
       "      <td>SIEMBRA DE MAIZ POZOLERO</td>\n",
       "    </tr>\n",
       "    <tr>\n",
       "      <th>284368</th>\n",
       "      <td>2023-04-21 00:00:00.000000</td>\n",
       "      <td>2023-04-21 00:00:00.000000</td>\n",
       "      <td>240.0</td>\n",
       "      <td>CREDITO AGROPECUARIO</td>\n",
       "      <td>MAIZ</td>\n",
       "      <td>20000.0</td>\n",
       "      <td>20000.00</td>\n",
       "      <td>0.0</td>\n",
       "      <td>N</td>\n",
       "      <td>CAMPESINO                                     ...</td>\n",
       "      <td>SIEMBRA DE CEBOLLA MAIZ EJOTE</td>\n",
       "    </tr>\n",
       "    <tr>\n",
       "      <th>152709</th>\n",
       "      <td>2022-12-01 00:00:00.000000</td>\n",
       "      <td>2023-05-04 00:00:00.000000</td>\n",
       "      <td>360.0</td>\n",
       "      <td>CREDIVIVIENDA</td>\n",
       "      <td>AMPLIACIÓN/ REMODELACIÓN CASA</td>\n",
       "      <td>9500.0</td>\n",
       "      <td>4946.79</td>\n",
       "      <td>0.0</td>\n",
       "      <td>N</td>\n",
       "      <td>CAMPESINO                                     ...</td>\n",
       "      <td>SIEMBRA DE MAIZ</td>\n",
       "    </tr>\n",
       "    <tr>\n",
       "      <th>89126</th>\n",
       "      <td>2022-11-09 00:00:00.000000</td>\n",
       "      <td>2022-11-09 00:00:00.000000</td>\n",
       "      <td>300.0</td>\n",
       "      <td>CREDITO AGROPECUARIO</td>\n",
       "      <td>COMPRA INSUMOS</td>\n",
       "      <td>80000.0</td>\n",
       "      <td>80000.00</td>\n",
       "      <td>0.0</td>\n",
       "      <td>N</td>\n",
       "      <td>CAMPESINO                                     ...</td>\n",
       "      <td>SIEMBRA DE MAIZ</td>\n",
       "    </tr>\n",
       "  </tbody>\n",
       "</table>\n",
       "</div>"
      ],
      "text/plain": [
       "                     FECHA_EMISION           FECHA_ULTIMO_PAGO  PLAZO  \\\n",
       "111145  2019-01-21 00:00:00.000000  2021-12-16 00:00:00.000000  180.0   \n",
       "138867  2023-04-17 00:00:00.000000  2023-05-02 00:00:00.000000  300.0   \n",
       "287799  2023-04-25 00:00:00.000000  2023-04-25 00:00:00.000000  180.0   \n",
       "175119  2022-12-29 00:00:00.000000  2022-12-29 00:00:00.000000  360.0   \n",
       "58953   2022-07-22 00:00:00.000000  2022-07-22 00:00:00.000000  360.0   \n",
       "42170   2022-05-09 00:00:00.000000  2023-04-10 00:00:00.000000  360.0   \n",
       "78816   2022-10-04 00:00:00.000000  2022-10-04 00:00:00.000000  360.0   \n",
       "284368  2023-04-21 00:00:00.000000  2023-04-21 00:00:00.000000  240.0   \n",
       "152709  2022-12-01 00:00:00.000000  2023-05-04 00:00:00.000000  360.0   \n",
       "89126   2022-11-09 00:00:00.000000  2022-11-09 00:00:00.000000  300.0   \n",
       "\n",
       "                    PRODUCTO                        DESTINO    MONTO  \\\n",
       "111145  CREDITO AGROPECUARIO                          OTROS   9500.0   \n",
       "138867    CREDITO AL CONSUMO                          OTROS  10000.0   \n",
       "287799  CREDITO AGROPECUARIO                COMPRA INSUMOS   20000.0   \n",
       "175119  CREDITO AGROPECUARIO                      AGUACATE   50000.0   \n",
       "58953   CREDITO AGROPECUARIO                    COMPRA CASA  25000.0   \n",
       "42170          CREDIVIVIENDA          PAGO DE RENTA NEGOCIO  35000.0   \n",
       "78816   CREDITO AGROPECUARIO    GASTOS VINCULADOS AL GANADO   9500.0   \n",
       "284368  CREDITO AGROPECUARIO                          MAIZ   20000.0   \n",
       "152709         CREDIVIVIENDA  AMPLIACIÓN/ REMODELACIÓN CASA   9500.0   \n",
       "89126   CREDITO AGROPECUARIO                COMPRA INSUMOS   80000.0   \n",
       "\n",
       "        SCAPITAL   TASA_EFECTIVA_ANUAL  COBRA_IVA  \\\n",
       "111145   7700.00                   0.0          N   \n",
       "138867   9516.88                   0.0          Y   \n",
       "287799  20000.00                   0.0          N   \n",
       "175119  50000.00                   0.0          N   \n",
       "58953   25000.00                   0.0          N   \n",
       "42170    2916.19                   0.0          N   \n",
       "78816    9500.00                   0.0          N   \n",
       "284368  20000.00                   0.0          N   \n",
       "152709   4946.79                   0.0          N   \n",
       "89126   80000.00                   0.0          N   \n",
       "\n",
       "                                                  NOM_ACT  \\\n",
       "111145  CAMPESINO                                     ...   \n",
       "138867  CAMPESINO                                     ...   \n",
       "287799  CAMPESINO                                     ...   \n",
       "175119  CAMPESINO                                     ...   \n",
       "58953   CAMPESINO                                     ...   \n",
       "42170   CAMPESINO                                     ...   \n",
       "78816   CAMPESINO                                     ...   \n",
       "284368  CAMPESINO                                     ...   \n",
       "152709  CAMPESINO                                     ...   \n",
       "89126   CAMPESINO                                     ...   \n",
       "\n",
       "                                        DACTIVIDAD  \n",
       "111145                             SIEMBRA DE MAIZ  \n",
       "138867          PRODUCTOR DE MAIZ, PEPINO Y FRIJOL  \n",
       "287799                   PRODUCTOR DE MAIZ Y SORGO  \n",
       "175119                      PRODUCTORA DE MAIZ 7HA  \n",
       "58953   SIEMBRA DE MAIZ , SORGO, CEBOLLA, CALABAZA  \n",
       "42170                              CULTIVO DE MAIZ  \n",
       "78816                     SIEMBRA DE MAIZ POZOLERO  \n",
       "284368               SIEMBRA DE CEBOLLA MAIZ EJOTE  \n",
       "152709                             SIEMBRA DE MAIZ  \n",
       "89126                              SIEMBRA DE MAIZ  "
      ]
     },
     "execution_count": 17,
     "metadata": {},
     "output_type": "execute_result"
    }
   ],
   "source": [
    "df_isnumos=sqldf(query)\n",
    "df_isnumos.sample(10)"
   ]
  },
  {
   "cell_type": "code",
   "execution_count": 20,
   "metadata": {},
   "outputs": [
    {
     "data": {
      "text/html": [
       "<div>\n",
       "<style scoped>\n",
       "    .dataframe tbody tr th:only-of-type {\n",
       "        vertical-align: middle;\n",
       "    }\n",
       "\n",
       "    .dataframe tbody tr th {\n",
       "        vertical-align: top;\n",
       "    }\n",
       "\n",
       "    .dataframe thead th {\n",
       "        text-align: right;\n",
       "    }\n",
       "</style>\n",
       "<table border=\"1\" class=\"dataframe\">\n",
       "  <thead>\n",
       "    <tr style=\"text-align: right;\">\n",
       "      <th></th>\n",
       "      <th>FECHA_EMISION</th>\n",
       "      <th>FECHA_ULTIMO_PAGO</th>\n",
       "      <th>PLAZO</th>\n",
       "      <th>PRODUCTO</th>\n",
       "      <th>DESTINO</th>\n",
       "      <th>MONTO</th>\n",
       "      <th>SCAPITAL</th>\n",
       "      <th>TASA_EFECTIVA_ANUAL</th>\n",
       "      <th>COBRA_IVA</th>\n",
       "      <th>NOM_ACT</th>\n",
       "      <th>DACTIVIDAD</th>\n",
       "    </tr>\n",
       "  </thead>\n",
       "  <tbody>\n",
       "    <tr>\n",
       "      <th>1614</th>\n",
       "      <td>2021-04-10 00:00:00.000000</td>\n",
       "      <td>2022-04-06 00:00:00.000000</td>\n",
       "      <td>360.0</td>\n",
       "      <td>CREDITO AGROPECUARIO</td>\n",
       "      <td>COMPRA INSUMOS</td>\n",
       "      <td>100000.0</td>\n",
       "      <td>100000.0</td>\n",
       "      <td>0.0</td>\n",
       "      <td>N</td>\n",
       "      <td>CAMPESINO                                     ...</td>\n",
       "      <td>SIEMBRA DE 10 HA DE MAIZ POZOLERO Y TOMATE DE ...</td>\n",
       "    </tr>\n",
       "    <tr>\n",
       "      <th>11905</th>\n",
       "      <td>2023-04-29 00:00:00.000000</td>\n",
       "      <td>2023-04-29 00:00:00.000000</td>\n",
       "      <td>360.0</td>\n",
       "      <td>CREDINEGOCIO</td>\n",
       "      <td>COMPRA INSUMOS</td>\n",
       "      <td>15000.0</td>\n",
       "      <td>15000.0</td>\n",
       "      <td>0.0</td>\n",
       "      <td>N</td>\n",
       "      <td>CAMPESINO                                     ...</td>\n",
       "      <td>PRODUCTOR AGRICOLA DE MAIZ ELOTERO</td>\n",
       "    </tr>\n",
       "    <tr>\n",
       "      <th>6655</th>\n",
       "      <td>2023-01-06 00:00:00.000000</td>\n",
       "      <td>2023-01-06 00:00:00.000000</td>\n",
       "      <td>360.0</td>\n",
       "      <td>CREDITO AGROPECUARIO</td>\n",
       "      <td>COMPRA INSUMOS</td>\n",
       "      <td>40000.0</td>\n",
       "      <td>40000.0</td>\n",
       "      <td>0.0</td>\n",
       "      <td>N</td>\n",
       "      <td>COMERCIANTE                                   ...</td>\n",
       "      <td>BORDADOS Y SIEMBRA DE MAIZ.</td>\n",
       "    </tr>\n",
       "    <tr>\n",
       "      <th>11552</th>\n",
       "      <td>2023-04-27 00:00:00.000000</td>\n",
       "      <td>2023-04-27 00:00:00.000000</td>\n",
       "      <td>360.0</td>\n",
       "      <td>CREDITO AGROPECUARIO</td>\n",
       "      <td>COMPRA INSUMOS</td>\n",
       "      <td>100000.0</td>\n",
       "      <td>100000.0</td>\n",
       "      <td>0.0</td>\n",
       "      <td>N</td>\n",
       "      <td>CAMPESINO                                     ...</td>\n",
       "      <td>SIEMBRA DE MAIZ ,</td>\n",
       "    </tr>\n",
       "    <tr>\n",
       "      <th>771</th>\n",
       "      <td>2021-03-29 00:00:00.000000</td>\n",
       "      <td>2022-05-19 00:00:00.000000</td>\n",
       "      <td>180.0</td>\n",
       "      <td>CREDITO AGROPECUARIO</td>\n",
       "      <td>COMPRA INSUMOS</td>\n",
       "      <td>45000.0</td>\n",
       "      <td>36675.0</td>\n",
       "      <td>0.0</td>\n",
       "      <td>N</td>\n",
       "      <td>CAMPESINO                                     ...</td>\n",
       "      <td>SIEMBRA DE MAIZ, JITOMATE Y TOMATE</td>\n",
       "    </tr>\n",
       "  </tbody>\n",
       "</table>\n",
       "</div>"
      ],
      "text/plain": [
       "                    FECHA_EMISION           FECHA_ULTIMO_PAGO  PLAZO  \\\n",
       "1614   2021-04-10 00:00:00.000000  2022-04-06 00:00:00.000000  360.0   \n",
       "11905  2023-04-29 00:00:00.000000  2023-04-29 00:00:00.000000  360.0   \n",
       "6655   2023-01-06 00:00:00.000000  2023-01-06 00:00:00.000000  360.0   \n",
       "11552  2023-04-27 00:00:00.000000  2023-04-27 00:00:00.000000  360.0   \n",
       "771    2021-03-29 00:00:00.000000  2022-05-19 00:00:00.000000  180.0   \n",
       "\n",
       "                   PRODUCTO          DESTINO     MONTO  SCAPITAL  \\\n",
       "1614   CREDITO AGROPECUARIO  COMPRA INSUMOS   100000.0  100000.0   \n",
       "11905          CREDINEGOCIO  COMPRA INSUMOS    15000.0   15000.0   \n",
       "6655   CREDITO AGROPECUARIO  COMPRA INSUMOS    40000.0   40000.0   \n",
       "11552  CREDITO AGROPECUARIO  COMPRA INSUMOS   100000.0  100000.0   \n",
       "771    CREDITO AGROPECUARIO  COMPRA INSUMOS    45000.0   36675.0   \n",
       "\n",
       "        TASA_EFECTIVA_ANUAL  COBRA_IVA  \\\n",
       "1614                    0.0          N   \n",
       "11905                   0.0          N   \n",
       "6655                    0.0          N   \n",
       "11552                   0.0          N   \n",
       "771                     0.0          N   \n",
       "\n",
       "                                                 NOM_ACT  \\\n",
       "1614   CAMPESINO                                     ...   \n",
       "11905  CAMPESINO                                     ...   \n",
       "6655   COMERCIANTE                                   ...   \n",
       "11552  CAMPESINO                                     ...   \n",
       "771    CAMPESINO                                     ...   \n",
       "\n",
       "                                              DACTIVIDAD  \n",
       "1614   SIEMBRA DE 10 HA DE MAIZ POZOLERO Y TOMATE DE ...  \n",
       "11905                 PRODUCTOR AGRICOLA DE MAIZ ELOTERO  \n",
       "6655                         BORDADOS Y SIEMBRA DE MAIZ.  \n",
       "11552                                  SIEMBRA DE MAIZ ,  \n",
       "771                   SIEMBRA DE MAIZ, JITOMATE Y TOMATE  "
      ]
     },
     "execution_count": 20,
     "metadata": {},
     "output_type": "execute_result"
    }
   ],
   "source": [
    "query=\"\"\"\n",
    "SELECT * FROM df \n",
    "WHERE  SCAPITAL>0\n",
    "AND DESTINO LIKE '%INSUMO%'\n",
    "AND FECHA_EMISION >='2020-01-01'\n",
    "\"\"\"\n",
    "q1=sqldf(query)\n",
    "q1.sample(5)"
   ]
  },
  {
   "cell_type": "code",
   "execution_count": 42,
   "metadata": {},
   "outputs": [],
   "source": [
    "filt =df['DESTINO'].str.contains('INSUMO', na=False)"
   ]
  },
  {
   "cell_type": "code",
   "execution_count": 24,
   "metadata": {},
   "outputs": [],
   "source": [
    "#df.reset_index(inplace=True)"
   ]
  },
  {
   "cell_type": "code",
   "execution_count": 43,
   "metadata": {},
   "outputs": [
    {
     "data": {
      "text/html": [
       "<div>\n",
       "<style scoped>\n",
       "    .dataframe tbody tr th:only-of-type {\n",
       "        vertical-align: middle;\n",
       "    }\n",
       "\n",
       "    .dataframe tbody tr th {\n",
       "        vertical-align: top;\n",
       "    }\n",
       "\n",
       "    .dataframe thead th {\n",
       "        text-align: right;\n",
       "    }\n",
       "</style>\n",
       "<table border=\"1\" class=\"dataframe\">\n",
       "  <thead>\n",
       "    <tr style=\"text-align: right;\">\n",
       "      <th></th>\n",
       "      <th>FECHA_EMISION</th>\n",
       "      <th>FECHA_ULTIMO_PAGO</th>\n",
       "      <th>PLAZO</th>\n",
       "      <th>PRODUCTO</th>\n",
       "      <th>DESTINO</th>\n",
       "      <th>MONTO</th>\n",
       "      <th>SCAPITAL</th>\n",
       "      <th>TASA_EFECTIVA_ANUAL</th>\n",
       "      <th>COBRA_IVA</th>\n",
       "      <th>NOM_ACT</th>\n",
       "      <th>DACTIVIDAD</th>\n",
       "    </tr>\n",
       "  </thead>\n",
       "  <tbody>\n",
       "    <tr>\n",
       "      <th>2618404</th>\n",
       "      <td>2022-05-28</td>\n",
       "      <td>2022-06-30</td>\n",
       "      <td>306.0</td>\n",
       "      <td>CREDITO A LA PALABRA</td>\n",
       "      <td>COMPRA INSUMOS</td>\n",
       "      <td>40000.0</td>\n",
       "      <td>0.0</td>\n",
       "      <td>0.0</td>\n",
       "      <td>N</td>\n",
       "      <td>CAMPESINO                                     ...</td>\n",
       "      <td>SIEMBRA DE MAIZ</td>\n",
       "    </tr>\n",
       "  </tbody>\n",
       "</table>\n",
       "</div>"
      ],
      "text/plain": [
       "        FECHA_EMISION FECHA_ULTIMO_PAGO  PLAZO              PRODUCTO  \\\n",
       "2618404    2022-05-28        2022-06-30  306.0  CREDITO A LA PALABRA   \n",
       "\n",
       "                 DESTINO    MONTO  SCAPITAL   TASA_EFECTIVA_ANUAL  COBRA_IVA  \\\n",
       "2618404  COMPRA INSUMOS   40000.0       0.0                   0.0          N   \n",
       "\n",
       "                                                   NOM_ACT       DACTIVIDAD  \n",
       "2618404  CAMPESINO                                     ...  SIEMBRA DE MAIZ  "
      ]
     },
     "execution_count": 43,
     "metadata": {},
     "output_type": "execute_result"
    }
   ],
   "source": [
    "df[filt].sample()"
   ]
  },
  {
   "cell_type": "code",
   "execution_count": 44,
   "metadata": {},
   "outputs": [
    {
     "data": {
      "text/plain": [
       "06    153157\n",
       "05    151523\n",
       "07    100182\n",
       "03     65537\n",
       "04     61262\n",
       "08     56412\n",
       "02     46747\n",
       "01     44552\n",
       "09     32581\n",
       "10     26083\n",
       "12     25871\n",
       "11     20029\n",
       "Name: FECHA_EMISION, dtype: int64"
      ]
     },
     "execution_count": 44,
     "metadata": {},
     "output_type": "execute_result"
    }
   ],
   "source": [
    "df[filt]['FECHA_EMISION'].dt.strftime('%m').value_counts()"
   ]
  },
  {
   "cell_type": "code",
   "execution_count": 45,
   "metadata": {},
   "outputs": [
    {
     "data": {
      "text/plain": [
       "COMPRA INSUMOS                                 783936\n",
       "COMPRA DE MERCANCIA                            604101\n",
       "COMPRA CASA                                    502678\n",
       "OTROS                                          242841\n",
       "COMPRA DE GANADO                               157885\n",
       "PAGO DE RENTA NEGOCIO                          149740\n",
       "COMPRA DE ANIMALES DE TRASPATIO                132831\n",
       "GASTOS VINCULADOS AL GANADO                    129690\n",
       "COMPRA SEMILLAS                                112649\n",
       "AMPLIACIÓN/ REMODELACIÓN CASA                   93854\n",
       "COMPRA MATERIA PRIMA                            74513\n",
       "PAGO EMPLEADOS                                  57628\n",
       "MIGRACIÓN                                       52800\n",
       "COMPRA/ AMPLIACIÓN/ REMODELACIÓN NEGOCIO        48805\n",
       "ALIMENTACIÓN (DESPENSA)                         47963\n",
       "COMPRA/ REFACCIÓN VEHICULO                      35632\n",
       "PEPINO                                          34379\n",
       "COMPRA/ REFACCIÓN LINEA BLANCA O MUEBLES        29469\n",
       "MAIZ                                            26491\n",
       "GASTOS ESCOLARES                                25377\n",
       "FIESTA O CELEBRACIONES                          20522\n",
       "COMPRA/ REFACCIÓN MATERIAL DE TRABAJO           20357\n",
       "COMPRA/ REFACCIÓN MATERIAL AGRICOLA             19307\n",
       "PAGO JORNALEROS                                 18890\n",
       "GASTOS MEDICOS                                  15903\n",
       "AGUACATE                                        12343\n",
       "SORGO                                           11018\n",
       "COMPRA TERRENO                                   9381\n",
       "PAGO DE SERVICIOS                                6226\n",
       "CAÑA                                             5994\n",
       "CEBOLLA                                          5540\n",
       "PAGO DEUDA                                       4355\n",
       "JITOMATE                                         3928\n",
       "FRUTALES                                         3053\n",
       "EJOTE                                            2574\n",
       "COMPRA / AMPLIACION / REMODELACION VIVIENDA      1989\n",
       "GASTOS LEGALES                                   1200\n",
       "CALABAZA                                         1149\n",
       "CAMOTE                                             96\n",
       "Name: DESTINO, dtype: int64"
      ]
     },
     "execution_count": 45,
     "metadata": {},
     "output_type": "execute_result"
    }
   ],
   "source": [
    "df['DESTINO'].value_counts()"
   ]
  },
  {
   "cell_type": "code",
   "execution_count": 46,
   "metadata": {},
   "outputs": [
    {
     "data": {
      "text/plain": [
       "05    19235\n",
       "06    17017\n",
       "04    15817\n",
       "12     8602\n",
       "02     8534\n",
       "10     8286\n",
       "01     7533\n",
       "07     7346\n",
       "08     5886\n",
       "03     5179\n",
       "11     4941\n",
       "09     4273\n",
       "Name: FECHA_EMISION, dtype: int64"
      ]
     },
     "execution_count": 46,
     "metadata": {},
     "output_type": "execute_result"
    }
   ],
   "source": [
    "filt =df['DESTINO'].str.contains('SEMILLA', na=False)\n",
    "df[filt]['FECHA_EMISION'].dt.strftime('%m').value_counts()"
   ]
  },
  {
   "cell_type": "code",
   "execution_count": 47,
   "metadata": {},
   "outputs": [
    {
     "data": {
      "text/plain": [
       "<Axes: >"
      ]
     },
     "execution_count": 47,
     "metadata": {},
     "output_type": "execute_result"
    },
    {
     "data": {
      "image/png": "[encoded data removed]",
      "text/plain": [
       "<Figure size 640x480 with 1 Axes>"
      ]
     },
     "metadata": {},
     "output_type": "display_data"
    }
   ],
   "source": [
    "df[filt]['FECHA_EMISION'].dt.strftime('%m').value_counts().plot(kind='bar')"
   ]
  },
  {
   "cell_type": "code",
   "execution_count": 48,
   "metadata": {},
   "outputs": [
    {
     "data": {
      "text/plain": [
       "<Axes: >"
      ]
     },
     "execution_count": 48,
     "metadata": {},
     "output_type": "execute_result"
    },
    {
     "data": {
      "image/png": "[encoded data removed]",
      "text/plain": [
       "<Figure size 640x480 with 1 Axes>"
      ]
     },
     "metadata": {},
     "output_type": "display_data"
    }
   ],
   "source": [
    "filt =df['DESTINO'].str.contains('JORNAL', na=False)\n",
    "df[filt]['FECHA_EMISION'].dt.strftime('%m').value_counts().plot(kind='bar')"
   ]
  },
  {
   "cell_type": "code",
   "execution_count": 49,
   "metadata": {},
   "outputs": [
    {
     "data": {
      "text/html": [
       "<div>\n",
       "<style scoped>\n",
       "    .dataframe tbody tr th:only-of-type {\n",
       "        vertical-align: middle;\n",
       "    }\n",
       "\n",
       "    .dataframe tbody tr th {\n",
       "        vertical-align: top;\n",
       "    }\n",
       "\n",
       "    .dataframe thead th {\n",
       "        text-align: right;\n",
       "    }\n",
       "</style>\n",
       "<table border=\"1\" class=\"dataframe\">\n",
       "  <thead>\n",
       "    <tr style=\"text-align: right;\">\n",
       "      <th></th>\n",
       "      <th>PLAZO</th>\n",
       "      <th>MONTO</th>\n",
       "      <th>SCAPITAL</th>\n",
       "      <th>TASA_EFECTIVA_ANUAL</th>\n",
       "    </tr>\n",
       "  </thead>\n",
       "  <tbody>\n",
       "    <tr>\n",
       "      <th>count</th>\n",
       "      <td>3.507087e+06</td>\n",
       "      <td>3.507087e+06</td>\n",
       "      <td>3.507087e+06</td>\n",
       "      <td>3.507087e+06</td>\n",
       "    </tr>\n",
       "    <tr>\n",
       "      <th>mean</th>\n",
       "      <td>2.772004e+02</td>\n",
       "      <td>2.471049e+04</td>\n",
       "      <td>3.083210e+03</td>\n",
       "      <td>1.599618e-03</td>\n",
       "    </tr>\n",
       "    <tr>\n",
       "      <th>std</th>\n",
       "      <td>1.024200e+02</td>\n",
       "      <td>3.001327e+04</td>\n",
       "      <td>1.794570e+04</td>\n",
       "      <td>2.190571e-01</td>\n",
       "    </tr>\n",
       "    <tr>\n",
       "      <th>min</th>\n",
       "      <td>5.000000e+00</td>\n",
       "      <td>5.000000e+02</td>\n",
       "      <td>0.000000e+00</td>\n",
       "      <td>0.000000e+00</td>\n",
       "    </tr>\n",
       "    <tr>\n",
       "      <th>25%</th>\n",
       "      <td>1.800000e+02</td>\n",
       "      <td>8.000000e+03</td>\n",
       "      <td>0.000000e+00</td>\n",
       "      <td>0.000000e+00</td>\n",
       "    </tr>\n",
       "    <tr>\n",
       "      <th>50%</th>\n",
       "      <td>3.000000e+02</td>\n",
       "      <td>1.000000e+04</td>\n",
       "      <td>0.000000e+00</td>\n",
       "      <td>0.000000e+00</td>\n",
       "    </tr>\n",
       "    <tr>\n",
       "      <th>75%</th>\n",
       "      <td>3.600000e+02</td>\n",
       "      <td>3.000000e+04</td>\n",
       "      <td>0.000000e+00</td>\n",
       "      <td>0.000000e+00</td>\n",
       "    </tr>\n",
       "    <tr>\n",
       "      <th>max</th>\n",
       "      <td>1.080000e+03</td>\n",
       "      <td>2.000000e+05</td>\n",
       "      <td>2.000000e+05</td>\n",
       "      <td>3.000000e+01</td>\n",
       "    </tr>\n",
       "  </tbody>\n",
       "</table>\n",
       "</div>"
      ],
      "text/plain": [
       "              PLAZO         MONTO      SCAPITAL   TASA_EFECTIVA_ANUAL\n",
       "count  3.507087e+06  3.507087e+06  3.507087e+06          3.507087e+06\n",
       "mean   2.772004e+02  2.471049e+04  3.083210e+03          1.599618e-03\n",
       "std    1.024200e+02  3.001327e+04  1.794570e+04          2.190571e-01\n",
       "min    5.000000e+00  5.000000e+02  0.000000e+00          0.000000e+00\n",
       "25%    1.800000e+02  8.000000e+03  0.000000e+00          0.000000e+00\n",
       "50%    3.000000e+02  1.000000e+04  0.000000e+00          0.000000e+00\n",
       "75%    3.600000e+02  3.000000e+04  0.000000e+00          0.000000e+00\n",
       "max    1.080000e+03  2.000000e+05  2.000000e+05          3.000000e+01"
      ]
     },
     "execution_count": 49,
     "metadata": {},
     "output_type": "execute_result"
    }
   ],
   "source": [
    "df.describe()"
   ]
  },
  {
   "cell_type": "code",
   "execution_count": 50,
   "metadata": {},
   "outputs": [
    {
     "data": {
      "text/plain": [
       "<Axes: >"
      ]
     },
     "execution_count": 50,
     "metadata": {},
     "output_type": "execute_result"
    },
    {
     "data": {
      "image/png": "[encoded data removed]",
      "text/plain": [
       "<Figure size 640x480 with 1 Axes>"
      ]
     },
     "metadata": {},
     "output_type": "display_data"
    }
   ],
   "source": [
    "df['DESTINO'].value_counts().plot(kind='barh')"
   ]
  },
  {
   "cell_type": "code",
   "execution_count": 51,
   "metadata": {},
   "outputs": [
    {
     "data": {
      "text/plain": [
       "<Axes: >"
      ]
     },
     "execution_count": 51,
     "metadata": {},
     "output_type": "execute_result"
    },
    {
     "data": {
      "image/png": "[encoded data removed]",
      "text/plain": [
       "<Figure size 640x480 with 1 Axes>"
      ]
     },
     "metadata": {},
     "output_type": "display_data"
    }
   ],
   "source": [
    "filt =(df['DESTINO'].str.contains('INSUMOS', na=False)) | (df['DESTINO'].str.contains('MERCANCIA', na=False))\n",
    "df[filt]['FECHA_EMISION'].dt.strftime('%m').value_counts().plot(kind='bar')"
   ]
  },
  {
   "cell_type": "code",
   "execution_count": 53,
   "metadata": {},
   "outputs": [
    {
     "name": "stdout",
     "output_type": "stream",
     "text": [
      "<class 'pandas.core.frame.DataFrame'>\n",
      "RangeIndex: 3507087 entries, 0 to 3507086\n",
      "Data columns (total 11 columns):\n",
      " #   Column                Dtype         \n",
      "---  ------                -----         \n",
      " 0   FECHA_EMISION         datetime64[ns]\n",
      " 1   FECHA_ULTIMO_PAGO     datetime64[ns]\n",
      " 2   PLAZO                 float64       \n",
      " 3   PRODUCTO              object        \n",
      " 4   DESTINO               object        \n",
      " 5   MONTO                 float64       \n",
      " 6   SCAPITAL              float64       \n",
      " 7    TASA_EFECTIVA_ANUAL  float64       \n",
      " 8    COBRA_IVA            object        \n",
      " 9   NOM_ACT               object        \n",
      " 10  DACTIVIDAD            object        \n",
      "dtypes: datetime64[ns](2), float64(4), object(5)\n",
      "memory usage: 294.3+ MB\n"
     ]
    }
   ],
   "source": [
    "df.info()"
   ]
  },
  {
   "cell_type": "code",
   "execution_count": 61,
   "metadata": {},
   "outputs": [
    {
     "data": {
      "text/html": [
       "<div>\n",
       "<style scoped>\n",
       "    .dataframe tbody tr th:only-of-type {\n",
       "        vertical-align: middle;\n",
       "    }\n",
       "\n",
       "    .dataframe tbody tr th {\n",
       "        vertical-align: top;\n",
       "    }\n",
       "\n",
       "    .dataframe thead th {\n",
       "        text-align: right;\n",
       "    }\n",
       "</style>\n",
       "<table border=\"1\" class=\"dataframe\">\n",
       "  <thead>\n",
       "    <tr style=\"text-align: right;\">\n",
       "      <th></th>\n",
       "      <th>Mes</th>\n",
       "    </tr>\n",
       "  </thead>\n",
       "  <tbody>\n",
       "    <tr>\n",
       "      <th>0</th>\n",
       "      <td>08</td>\n",
       "    </tr>\n",
       "  </tbody>\n",
       "</table>\n",
       "</div>"
      ],
      "text/plain": [
       "  Mes\n",
       "0  08"
      ]
     },
     "execution_count": 61,
     "metadata": {},
     "output_type": "execute_result"
    }
   ],
   "source": [
    "query=\"\"\"\n",
    "SELECT strftime('%m', '2018-08-01') Mes FROM df limit 1\n",
    "\"\"\"\n",
    "q1=sqldf(query)\n",
    "q1.sample()"
   ]
  },
  {
   "cell_type": "code",
   "execution_count": 64,
   "metadata": {},
   "outputs": [
    {
     "data": {
      "text/html": [
       "<div>\n",
       "<style scoped>\n",
       "    .dataframe tbody tr th:only-of-type {\n",
       "        vertical-align: middle;\n",
       "    }\n",
       "\n",
       "    .dataframe tbody tr th {\n",
       "        vertical-align: top;\n",
       "    }\n",
       "\n",
       "    .dataframe thead th {\n",
       "        text-align: right;\n",
       "    }\n",
       "</style>\n",
       "<table border=\"1\" class=\"dataframe\">\n",
       "  <thead>\n",
       "    <tr style=\"text-align: right;\">\n",
       "      <th></th>\n",
       "      <th>MES</th>\n",
       "      <th>NUM</th>\n",
       "    </tr>\n",
       "  </thead>\n",
       "  <tbody>\n",
       "    <tr>\n",
       "      <th>4</th>\n",
       "      <td>05</td>\n",
       "      <td>191217</td>\n",
       "    </tr>\n",
       "    <tr>\n",
       "      <th>11</th>\n",
       "      <td>12</td>\n",
       "      <td>92472</td>\n",
       "    </tr>\n",
       "    <tr>\n",
       "      <th>8</th>\n",
       "      <td>09</td>\n",
       "      <td>82375</td>\n",
       "    </tr>\n",
       "    <tr>\n",
       "      <th>1</th>\n",
       "      <td>02</td>\n",
       "      <td>86308</td>\n",
       "    </tr>\n",
       "    <tr>\n",
       "      <th>2</th>\n",
       "      <td>03</td>\n",
       "      <td>109385</td>\n",
       "    </tr>\n",
       "    <tr>\n",
       "      <th>10</th>\n",
       "      <td>11</td>\n",
       "      <td>69990</td>\n",
       "    </tr>\n",
       "    <tr>\n",
       "      <th>0</th>\n",
       "      <td>01</td>\n",
       "      <td>90426</td>\n",
       "    </tr>\n",
       "    <tr>\n",
       "      <th>7</th>\n",
       "      <td>08</td>\n",
       "      <td>113873</td>\n",
       "    </tr>\n",
       "    <tr>\n",
       "      <th>3</th>\n",
       "      <td>04</td>\n",
       "      <td>135059</td>\n",
       "    </tr>\n",
       "    <tr>\n",
       "      <th>6</th>\n",
       "      <td>07</td>\n",
       "      <td>144660</td>\n",
       "    </tr>\n",
       "  </tbody>\n",
       "</table>\n",
       "</div>"
      ],
      "text/plain": [
       "   MES     NUM\n",
       "4   05  191217\n",
       "11  12   92472\n",
       "8   09   82375\n",
       "1   02   86308\n",
       "2   03  109385\n",
       "10  11   69990\n",
       "0   01   90426\n",
       "7   08  113873\n",
       "3   04  135059\n",
       "6   07  144660"
      ]
     },
     "execution_count": 64,
     "metadata": {},
     "output_type": "execute_result"
    }
   ],
   "source": [
    "query=\"\"\"\n",
    "SELECT strftime('%m', FECHA_EMISION) MES, COUNT(*) NUM FROM df \n",
    "WHERE  DESTINO LIKE '%MERCANCIA%'\n",
    "OR DESTINO LIKE '%INSUMO%'\n",
    "GROUP BY 1\n",
    "\n",
    "\"\"\"\n",
    "q1=sqldf(query)\n",
    "q1.sample(10)"
   ]
  },
  {
   "cell_type": "code",
   "execution_count": 65,
   "metadata": {},
   "outputs": [
    {
     "data": {
      "text/plain": [
       "01    1\n",
       "02    1\n",
       "03    1\n",
       "04    1\n",
       "05    1\n",
       "06    1\n",
       "07    1\n",
       "08    1\n",
       "09    1\n",
       "10    1\n",
       "11    1\n",
       "12    1\n",
       "Name: MES, dtype: int64"
      ]
     },
     "execution_count": 65,
     "metadata": {},
     "output_type": "execute_result"
    }
   ],
   "source": []
  },
  {
   "cell_type": "code",
   "execution_count": 68,
   "metadata": {},
   "outputs": [
    {
     "data": {
      "image/png": "[encoded data removed]",
      "text/plain": [
       "<Figure size 640x480 with 1 Axes>"
      ]
     },
     "metadata": {},
     "output_type": "display_data"
    }
   ],
   "source": [
    "plt.barh(q1['MES'], q1['NUM'], color=\"#998844\", label=\"Ventas\")\n",
    "plt.legend()\n",
    "plt.title(\"Compra de Insumos\")\n",
    "plt.xlabel(\"Num. Creditos\")\n",
    "plt.ylabel(\"Mes\")\n",
    "#q1.plot(kind='barh')\n",
    "plt.show()"
   ]
  },
  {
   "cell_type": "code",
   "execution_count": 69,
   "metadata": {},
   "outputs": [
    {
     "data": {
      "text/plain": [
       "<Axes: >"
      ]
     },
     "execution_count": 69,
     "metadata": {},
     "output_type": "execute_result"
    },
    {
     "data": {
      "image/png": "[encoded data removed]",
      "text/plain": [
       "<Figure size 640x480 with 1 Axes>"
      ]
     },
     "metadata": {},
     "output_type": "display_data"
    }
   ],
   "source": [
    "filt =df['DESTINO'].str.contains('GANADO', na=False)\n",
    "df[filt]['FECHA_EMISION'].dt.strftime('%m').value_counts().plot(kind='bar')"
   ]
  }
 ],
 "metadata": {
  "kernelspec": {
   "display_name": "Python 3",
   "language": "python",
   "name": "python3"
  },
  "language_info": {
   "codemirror_mode": {
    "name": "ipython",
    "version": 3
   },
   "file_extension": ".py",
   "mimetype": "text/x-python",
   "name": "python",
   "nbconvert_exporter": "python",
   "pygments_lexer": "ipython3",
   "version": "3.10.8"
  },
  "orig_nbformat": 4
 },
 "nbformat": 4,
 "nbformat_minor": 2
}
