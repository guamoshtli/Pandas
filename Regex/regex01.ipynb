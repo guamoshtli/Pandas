{
 "cells": [
  {
   "cell_type": "code",
   "execution_count": 1,
   "metadata": {},
   "outputs": [],
   "source": [
    "import re"
   ]
  },
  {
   "cell_type": "markdown",
   "metadata": {},
   "source": [
    "https://www.youtube.com/watch?v=Mc2j8Q-MHB4&list=LL&index=7\n",
    "\n",
    "https://regex101.com/\n",
    "\n",
    "https://www.youtube.com/watch?v=sa-TUpSx1JA\n"
   ]
  },
  {
   "cell_type": "markdown",
   "metadata": {},
   "source": [
    "The special sequences consist of '\\' and a character from the list below. If the ordinary character is not an ASCII digit or an ASCII letter, then the resulting RE will match the second character. For example, \\$ matches the character '$'.\n",
    "\n",
    "#### \\number\n",
    "Matches the contents of the group of the same number. Groups are numbered starting from 1. For example, (.+) \\1 matches 'the the' or '55 55', but not 'thethe' (note the space after the group). This special sequence can only be used to match one of the first 99 groups. If the first digit of number is 0, or number is 3 octal digits long, it will not be interpreted as a group match, but as the character with octal value number. Inside the '[' and ']' of a character class, all numeric escapes are treated as characters.\n",
    "\n",
    "#### \\A\n",
    "Matches only at the start of the string.\n",
    "\n",
    "#### \\b\n",
    "Matches the empty string, but only at the beginning or end of a word. A word is defined as a sequence of word characters. Note that formally, \\b is defined as the boundary between a \\w and a \\W character (or vice versa), or between \\w and the beginning/end of the string. This means that r'\\bfoo\\b' matches 'foo', 'foo.', '(foo)', 'bar foo baz' but not 'foobar' or 'foo3'.\n",
    "\n",
    "By default Unicode alphanumerics are the ones used in Unicode patterns, but this can be changed by using the ASCII flag. Word boundaries are determined by the current locale if the LOCALE flag is used. Inside a character range, \\b represents the backspace character, for compatibility with Python’s string literals.\n",
    "\n",
    "#### \\B\n",
    "Matches the empty string, but only when it is not at the beginning or end of a word. This means that r'py\\B' matches 'python', 'py3', 'py2', but not 'py', 'py.', or 'py!'. \\B is just the opposite of \\b, so word characters in Unicode patterns are Unicode alphanumerics or the underscore, although this can be changed by using the ASCII flag. Word boundaries are determined by the current locale if the LOCALE flag is used.\n",
    "\n",
    "####  \\d\n",
    "For Unicode (str) patterns:\n",
    "Matches any Unicode decimal digit (that is, any character in Unicode character category [Nd]). This includes [0-9], and also many other digit characters. If the ASCII flag is used only [0-9] is matched.\n",
    "\n",
    "For 8-bit (bytes) patterns:\n",
    "Matches any decimal digit; this is equivalent to [0-9].\n",
    "\n",
    "#### \\D\n",
    "Matches any character which is not a decimal digit. This is the opposite of \\d. If the ASCII flag is used this becomes the equivalent of [^0-9].\n",
    "\n",
    "#### \\s\n",
    "For Unicode (str) patterns:\n",
    "Matches Unicode whitespace characters (which includes [ \\t\\n\\r\\f\\v], and also many other characters, for example the non-breaking spaces mandated by typography rules in many languages). If the ASCII flag is used, only [ \\t\\n\\r\\f\\v] is matched.\n",
    "\n",
    "For 8-bit (bytes) patterns:\n",
    "Matches characters considered whitespace in the ASCII character set; this is equivalent to [ \\t\\n\\r\\f\\v].\n",
    "\n",
    "#### \\S\n",
    "Matches any character which is not a whitespace character. This is the opposite of \\s. If the ASCII flag is used this becomes the equivalent of [^ \\t\\n\\r\\f\\v].\n",
    "\n",
    "####  \\w\n",
    "For Unicode (str) patterns:\n",
    "Matches Unicode word characters; this includes most characters that can be part of a word in any language, as well as numbers and the underscore. If the ASCII flag is used, only [a-zA-Z0-9_] is matched.\n",
    "\n",
    "For 8-bit (bytes) patterns:\n",
    "Matches characters considered alphanumeric in the ASCII character set; this is equivalent to [a-zA-Z0-9_]. If the LOCALE flag is used, matches characters considered alphanumeric in the current locale and the underscore.\n",
    "\n",
    "#### \\W\n",
    "Matches any character which is not a word character. This is the opposite of \\w. If the ASCII flag is used this becomes the equivalent of [^a-zA-Z0-9_]. If the LOCALE flag is used, matches characters which are neither alphanumeric in the current locale nor the underscore.\n",
    "\n",
    "####  \\Z\n",
    "Matches only at the end of the string.The special sequences consist of '\\' and a character from the list below. If the ordinary character is not an ASCII digit or an ASCII letter, then the resulting RE will match the second character. For example, \\$ matches the character '$'.\n",
    "\n",
    "#### \\number\n",
    "Matches the contents of the group of the same number. Groups are numbered starting from 1. For example, (.+) \\1 matches 'the the' or '55 55', but not 'thethe' (note the space after the group). This special sequence can only be used to match one of the first 99 groups. If the first digit of number is 0, or number is 3 octal digits long, it will not be interpreted as a group match, but as the character with octal value number. Inside the '[' and ']' of a character class, all numeric escapes are treated as characters.\n",
    "\n"
   ]
  },
  {
   "cell_type": "markdown",
   "metadata": {},
   "source": [
    "## Identifiers\tModifiers\tWhite space characters\t\n",
    "* \\d= any number (a digit) \t\n",
    "* \\d represents a digit.Ex: \n",
    "* \\d{1,5} it will declare digit between 1,5 like 424,444,545 etc.\n",
    "* \\n = new line\t\n",
    "* Escape required:\n",
    ". + * ? [] $ ^ () {} | \\\n",
    "\n",
    "* \\D= anything but a number (a non-digit)\t\n",
    "*    + = matches 1 or more\t\\s= space\n",
    "\\s = space\n",
    "\\t =tab\n",
    "(tab,space,newline etc.)\t\n",
    "? = matches 0 or 1\t\n",
    "\\S= anything but a space\t\n",
    "* = 0 or more\t\n",
    "* \\e = escape\t\n",
    "\n",
    "* \\w = letters ( Match alphanumeric character, including “_”)\t\n",
    "* $ match end of a string\t\n",
    "* \\r = carriage return\t\n",
    "* \\W =anything but letters ( Matches a non-alphanumeric character excluding “_”)\t\n",
    "* ^ match start of a string\t\\f= form feed\t\n",
    "* . = anything but letters (periods)\t\n",
    "* | matches either or x/y\t—————–\t\n"
   ]
  },
  {
   "cell_type": "code",
   "execution_count": 6,
   "metadata": {},
   "outputs": [],
   "source": [
    "texto = '''Use pandas python DataFrame.astype(int) and DataFrame.apply() \n",
    "methods to convert a column to int (float/string to integer/int64/int32 dtype) data type. \n",
    "If you are converting float,192.168.5.24 I believe you would know float is bigger than int type, decimal.\n",
    "Python\n",
    "Python!\n",
    "Python!!\n",
    "Python!!!\n",
    "Python!!!!\n",
    "--Python\n",
    "--Python--\n",
    "-Python-\n",
    "Python.\n",
    "Python...\n",
    "PYthOn\n",
    "pYthON\n",
    "555-11-98-74\n",
    "195-197-198\n",
    "196-206-306\n",
    "001-197-198-2658\n",
    "-248-25-16-8745-25\n",
    "195\n",
    "15-02-2021\n",
    "265\n",
    "365247\n",
    "2022-0110\n",
    "198.126.178.211\n",
    "gonzalo@mail.com\n",
    "1\n",
    "\n",
    "and converting into int would lose any value after the decimal.'''"
   ]
  },
  {
   "cell_type": "code",
   "execution_count": 8,
   "metadata": {},
   "outputs": [
    {
     "data": {
      "text/plain": [
       "<re.Match object; span=(126, 128), match='64'>"
      ]
     },
     "execution_count": 8,
     "metadata": {},
     "output_type": "execute_result"
    }
   ],
   "source": [
    "# \\d  digitos 0- 9\n",
    "re.search(r'\\d+' , texto)\n"
   ]
  },
  {
   "cell_type": "code",
   "execution_count": 11,
   "metadata": {},
   "outputs": [
    {
     "data": {
      "text/plain": [
       "['64',\n",
       " '32',\n",
       " '192',\n",
       " '168',\n",
       " '5',\n",
       " '24',\n",
       " '555',\n",
       " '11',\n",
       " '98',\n",
       " '74',\n",
       " '195',\n",
       " '197',\n",
       " '198',\n",
       " '196',\n",
       " '206',\n",
       " '306',\n",
       " '001',\n",
       " '197',\n",
       " '198',\n",
       " '2658',\n",
       " '248',\n",
       " '25',\n",
       " '16',\n",
       " '8745',\n",
       " '25',\n",
       " '195',\n",
       " '15',\n",
       " '02',\n",
       " '2021',\n",
       " '265',\n",
       " '365247',\n",
       " '2022',\n",
       " '0110',\n",
       " '198',\n",
       " '126',\n",
       " '178',\n",
       " '211',\n",
       " '1']"
      ]
     },
     "execution_count": 11,
     "metadata": {},
     "output_type": "execute_result"
    }
   ],
   "source": [
    "re.findall(r'\\d+' , texto)"
   ]
  },
  {
   "cell_type": "markdown",
   "metadata": {},
   "source": [
    "#### \\b match al inicio o fin de la palabra"
   ]
  },
  {
   "cell_type": "code",
   "execution_count": 12,
   "metadata": {},
   "outputs": [
    {
     "data": {
      "text/plain": [
       "['Use ',\n",
       " 'pand',\n",
       " ' pyt',\n",
       " ' Dat',\n",
       " '.ast',\n",
       " '(int',\n",
       " ') an',\n",
       " ' Dat',\n",
       " '.app',\n",
       " 'meth',\n",
       " ' to ',\n",
       " 'conv',\n",
       " ' a c',\n",
       " ' to ',\n",
       " 'int ',\n",
       " 'floa',\n",
       " '/str',\n",
       " ' to ',\n",
       " 'inte',\n",
       " '/int',\n",
       " '/int',\n",
       " ' dty',\n",
       " ') da',\n",
       " ' typ',\n",
       " 'If y',\n",
       " ' are',\n",
       " ' con',\n",
       " ' flo',\n",
       " ',192',\n",
       " '.168',\n",
       " '.5.2',\n",
       " ' I b',\n",
       " ' you',\n",
       " ' wou',\n",
       " ' kno',\n",
       " ' flo',\n",
       " ' is ',\n",
       " 'bigg',\n",
       " ' tha',\n",
       " ' int',\n",
       " ' typ',\n",
       " ', de',\n",
       " 'Pyth',\n",
       " 'Pyth',\n",
       " 'Pyth',\n",
       " 'Pyth',\n",
       " 'Pyth',\n",
       " '!!!!',\n",
       " 'Pyth',\n",
       " 'Pyth',\n",
       " 'Pyth',\n",
       " 'Pyth',\n",
       " 'Pyth',\n",
       " 'PYth',\n",
       " 'pYth',\n",
       " '555-',\n",
       " '11-9',\n",
       " '195-',\n",
       " '197-',\n",
       " '196-',\n",
       " '206-',\n",
       " '001-',\n",
       " '197-',\n",
       " '198-',\n",
       " '2658',\n",
       " '248-',\n",
       " '25-1',\n",
       " '-874',\n",
       " '15-0',\n",
       " '-202',\n",
       " '3652',\n",
       " '2022',\n",
       " '-011',\n",
       " '198.',\n",
       " '126.',\n",
       " '178.',\n",
       " 'gonz',\n",
       " '@mai',\n",
       " '.com',\n",
       " 'and ',\n",
       " 'conv',\n",
       " ' int',\n",
       " ' int',\n",
       " ' wou',\n",
       " ' los',\n",
       " ' any',\n",
       " ' val',\n",
       " ' aft',\n",
       " ' the',\n",
       " ' dec']"
      ]
     },
     "execution_count": 12,
     "metadata": {},
     "output_type": "execute_result"
    }
   ],
   "source": [
    "re.findall(r'\\b.{4}' , texto)"
   ]
  },
  {
   "cell_type": "markdown",
   "metadata": {},
   "source": [
    "#### \\B  inverse of \\b  Match  en medio de la palabra o entre palabras"
   ]
  },
  {
   "cell_type": "code",
   "execution_count": 13,
   "metadata": {},
   "outputs": [
    {
     "data": {
      "text/plain": [
       "['se p',\n",
       " 'anda',\n",
       " 's py',\n",
       " 'thon',\n",
       " 'ataF',\n",
       " 'rame',\n",
       " 'styp',\n",
       " 'e(in',\n",
       " 't) a',\n",
       " 'nd D',\n",
       " 'ataF',\n",
       " 'rame',\n",
       " 'pply',\n",
       " 'etho',\n",
       " 'ds t',\n",
       " 'o co',\n",
       " 'nver',\n",
       " 't a ',\n",
       " 'olum',\n",
       " 'n to',\n",
       " 'nt (',\n",
       " 'loat',\n",
       " 'trin',\n",
       " 'g to',\n",
       " 'nteg',\n",
       " 'er/i',\n",
       " 'nt64',\n",
       " 'nt32',\n",
       " 'type',\n",
       " ' dat',\n",
       " 'a ty',\n",
       " 'pe. ',\n",
       " 'f yo',\n",
       " 'u ar',\n",
       " 'e co',\n",
       " 'nver',\n",
       " 'ting',\n",
       " 'loat',\n",
       " '92.1',\n",
       " '68.5',\n",
       " '4 I ',\n",
       " 'elie',\n",
       " 've y',\n",
       " 'ou w',\n",
       " 'ould',\n",
       " 'now ',\n",
       " 'loat',\n",
       " 's bi',\n",
       " 'gger',\n",
       " 'han ',\n",
       " 'nt t',\n",
       " 'ype,',\n",
       " ' dec',\n",
       " 'imal',\n",
       " 'ytho',\n",
       " 'ytho',\n",
       " 'ytho',\n",
       " 'ytho',\n",
       " 'n!!!',\n",
       " 'ytho',\n",
       " 'n!!!',\n",
       " '--Py',\n",
       " 'thon',\n",
       " '--Py',\n",
       " 'thon',\n",
       " '-Pyt',\n",
       " 'hon-',\n",
       " 'ytho',\n",
       " 'ytho',\n",
       " 'n...',\n",
       " 'YthO',\n",
       " 'YthO',\n",
       " '55-1',\n",
       " '1-98',\n",
       " '95-1',\n",
       " '97-1',\n",
       " '96-2',\n",
       " '06-3',\n",
       " '01-1',\n",
       " '97-1',\n",
       " '98-2',\n",
       " '-248',\n",
       " '5-16',\n",
       " '745-',\n",
       " '5-02',\n",
       " '6524',\n",
       " '022-',\n",
       " '98.1',\n",
       " '26.1',\n",
       " '78.2',\n",
       " 'onza',\n",
       " 'lo@m',\n",
       " 'ail.',\n",
       " 'nd c',\n",
       " 'onve',\n",
       " 'rtin',\n",
       " 'g in',\n",
       " 'to i',\n",
       " 'nt w',\n",
       " 'ould',\n",
       " 'ose ',\n",
       " 'ny v',\n",
       " 'alue',\n",
       " 'fter',\n",
       " 'he d',\n",
       " 'ecim']"
      ]
     },
     "execution_count": 13,
     "metadata": {},
     "output_type": "execute_result"
    }
   ],
   "source": [
    "re.findall(r'\\B.{4}' , texto)"
   ]
  },
  {
   "cell_type": "code",
   "execution_count": 15,
   "metadata": {},
   "outputs": [
    {
     "data": {
      "text/plain": [
       "['Use pa',\n",
       " 'ndas p',\n",
       " 'ython ',\n",
       " 'DataFr',\n",
       " 'ame.as',\n",
       " 'type(i',\n",
       " 'nt) an',\n",
       " 'd Data',\n",
       " 'Frame.',\n",
       " 'apply(',\n",
       " '\\nmetho',\n",
       " 'ds to ',\n",
       " 'conver',\n",
       " 't a co',\n",
       " 'lumn t',\n",
       " 'o int ',\n",
       " '(float',\n",
       " '/strin',\n",
       " 'g to i',\n",
       " 'nteger',\n",
       " '/int64',\n",
       " '/int32',\n",
       " ' dtype',\n",
       " ') data',\n",
       " ' type.',\n",
       " '\\nIf yo',\n",
       " 'u are ',\n",
       " 'conver',\n",
       " 'ting f',\n",
       " 'loat,1',\n",
       " '.168.5',\n",
       " '.24 I ',\n",
       " 'believ',\n",
       " 'e you ',\n",
       " 'would ',\n",
       " 'know f',\n",
       " 'loat i',\n",
       " 's bigg',\n",
       " 'er tha',\n",
       " 'n int ',\n",
       " 'type, ',\n",
       " 'decima',\n",
       " '\\nPytho',\n",
       " '\\nPytho',\n",
       " '\\nPytho',\n",
       " '\\nPytho',\n",
       " '\\nPytho',\n",
       " '\\n--Pyt',\n",
       " '\\n--Pyt',\n",
       " '\\n-Pyth',\n",
       " '\\nPytho',\n",
       " '\\nPytho',\n",
       " '\\nPYthO',\n",
       " '\\npYthO',\n",
       " '\\n555-1',\n",
       " '-98-74',\n",
       " '\\n195-1',\n",
       " '\\n196-2',\n",
       " '\\n001-1',\n",
       " '-198-2',\n",
       " '\\n-248-',\n",
       " '-16-87',\n",
       " '\\n15-02',\n",
       " '\\n36524',\n",
       " '\\n2022-',\n",
       " '\\n198.1',\n",
       " '.178.2',\n",
       " '\\ngonza',\n",
       " 'lo@mai',\n",
       " '\\nand c',\n",
       " 'onvert',\n",
       " 'ing in',\n",
       " 'to int',\n",
       " ' would',\n",
       " ' lose ',\n",
       " 'any va',\n",
       " 'lue af',\n",
       " 'ter th',\n",
       " 'e deci']"
      ]
     },
     "execution_count": 15,
     "metadata": {},
     "output_type": "execute_result"
    }
   ],
   "source": [
    "re.findall(r'\\D.{5}' , texto)"
   ]
  },
  {
   "cell_type": "code",
   "execution_count": 16,
   "metadata": {},
   "outputs": [
    {
     "data": {
      "text/plain": [
       "['.',\n",
       " '.',\n",
       " '.',\n",
       " '.',\n",
       " '.',\n",
       " '.',\n",
       " '.',\n",
       " '.',\n",
       " '.',\n",
       " '.',\n",
       " '.',\n",
       " '.',\n",
       " '.',\n",
       " '.',\n",
       " '.',\n",
       " '.']"
      ]
     },
     "execution_count": 16,
     "metadata": {},
     "output_type": "execute_result"
    }
   ],
   "source": [
    "re.findall(r'\\.' , texto)"
   ]
  },
  {
   "cell_type": "markdown",
   "metadata": {},
   "source": [
    "#### ^ inicio y $ fin"
   ]
  },
  {
   "cell_type": "code",
   "execution_count": 17,
   "metadata": {},
   "outputs": [
    {
     "data": {
      "text/plain": [
       "[' converting into int would lose any value after the decimal.']"
      ]
     },
     "execution_count": 17,
     "metadata": {},
     "output_type": "execute_result"
    }
   ],
   "source": [
    "re.findall(r'\\ .+$' , texto)"
   ]
  },
  {
   "cell_type": "code",
   "execution_count": 19,
   "metadata": {},
   "outputs": [
    {
     "data": {
      "text/plain": [
       "'Use pandas python DataFrame.astype(int) and DataFrame.apply() \\nmethods to convert a column to int (float/string to integer/int64/int32 dtype) data type. \\nIf you are converting float,192.168.5.24 I believe you would know float is bigger than int type, decimal.\\nPython\\nPython!\\nPython!!\\nPython!!!\\nPython!!!!\\n--Python\\n--Python--\\n-Python-\\nPython.\\nPython...\\nPYthOn\\npYthON\\n555-11-98-74\\n195-197-198\\n196-206-306\\n001-197-198-2658\\n-248-25-16-8745-25\\n195\\n15-02-2021\\n265\\n365247\\n2022-0110\\n198.126.178.211\\ngonzalo@mail.com\\n1\\n\\nand converting into int would lose any value after the decimal.'"
      ]
     },
     "execution_count": 19,
     "metadata": {},
     "output_type": "execute_result"
    }
   ],
   "source": [
    "texto"
   ]
  },
  {
   "cell_type": "code",
   "execution_count": 18,
   "metadata": {},
   "outputs": [
    {
     "data": {
      "text/plain": [
       "['Use pandas python DataFrame.astype(int) and DataFrame.apply() ']"
      ]
     },
     "execution_count": 18,
     "metadata": {},
     "output_type": "execute_result"
    }
   ],
   "source": [
    "re.findall(r'\\b^.+' , texto)"
   ]
  },
  {
   "cell_type": "code",
   "execution_count": 22,
   "metadata": {},
   "outputs": [
    {
     "data": {
      "text/plain": [
       "['64/int32 dtype',\n",
       " '192.168.5.24 I ',\n",
       " '001-197-198-265',\n",
       " '248-25-16-8745-',\n",
       " '198.126.178.211']"
      ]
     },
     "execution_count": 22,
     "metadata": {},
     "output_type": "execute_result"
    }
   ],
   "source": [
    "re.findall(r'\\d+.{12}' , texto)"
   ]
  },
  {
   "cell_type": "code",
   "execution_count": 33,
   "metadata": {},
   "outputs": [
    {
     "data": {
      "text/plain": [
       "['64/int32 dtype) data type. ',\n",
       " '192.168.5.24 I believe you would know float is bigger than int type, decimal.',\n",
       " '555-11-98-74',\n",
       " '195-197-198',\n",
       " '196-206-306',\n",
       " '001-197-198-2658',\n",
       " '248-25-16-8745-25',\n",
       " '195',\n",
       " '15-02-2021',\n",
       " '265',\n",
       " '365247',\n",
       " '2022-0110',\n",
       " '198.126.178.211',\n",
       " '1']"
      ]
     },
     "execution_count": 33,
     "metadata": {},
     "output_type": "execute_result"
    }
   ],
   "source": [
    "re.findall(r'\\d+.*' , texto)"
   ]
  },
  {
   "cell_type": "markdown",
   "metadata": {},
   "source": [
    "#### * 0 o más "
   ]
  },
  {
   "cell_type": "code",
   "execution_count": 23,
   "metadata": {},
   "outputs": [
    {
     "data": {
      "text/plain": [
       "['Python',\n",
       " 'Python!',\n",
       " 'Python!!',\n",
       " 'Python!!!',\n",
       " 'Python!!!!',\n",
       " 'Python',\n",
       " 'Python',\n",
       " 'Python',\n",
       " 'Python',\n",
       " 'Python']"
      ]
     },
     "execution_count": 23,
     "metadata": {},
     "output_type": "execute_result"
    }
   ],
   "source": [
    "re.findall(r'\\bPython!*' , texto)"
   ]
  },
  {
   "cell_type": "markdown",
   "metadata": {},
   "source": [
    "#### + 1 o más"
   ]
  },
  {
   "cell_type": "code",
   "execution_count": 24,
   "metadata": {},
   "outputs": [
    {
     "data": {
      "text/plain": [
       "['Python!', 'Python!!', 'Python!!!', 'Python!!!!']"
      ]
     },
     "execution_count": 24,
     "metadata": {},
     "output_type": "execute_result"
    }
   ],
   "source": [
    "re.findall(r'\\bPython!+' , texto)"
   ]
  },
  {
   "cell_type": "markdown",
   "metadata": {},
   "source": [
    "#### ? 0 o 1"
   ]
  },
  {
   "cell_type": "code",
   "execution_count": 25,
   "metadata": {},
   "outputs": [
    {
     "data": {
      "text/plain": [
       "['Python',\n",
       " 'Python!',\n",
       " 'Python!',\n",
       " 'Python!',\n",
       " 'Python!',\n",
       " 'Python',\n",
       " 'Python',\n",
       " 'Python',\n",
       " 'Python',\n",
       " 'Python']"
      ]
     },
     "execution_count": 25,
     "metadata": {},
     "output_type": "execute_result"
    }
   ],
   "source": [
    "re.findall(r'\\bPython!?' , texto)"
   ]
  },
  {
   "cell_type": "markdown",
   "metadata": {},
   "source": [
    "#### {x} numero exacto "
   ]
  },
  {
   "cell_type": "code",
   "execution_count": 26,
   "metadata": {},
   "outputs": [
    {
     "data": {
      "text/plain": [
       "['Python!!!', 'Python!!!']"
      ]
     },
     "execution_count": 26,
     "metadata": {},
     "output_type": "execute_result"
    }
   ],
   "source": [
    "re.findall(r'\\bPython!{3}' , texto)"
   ]
  },
  {
   "cell_type": "markdown",
   "metadata": {},
   "source": [
    "#### {x,y}  de x a y veces"
   ]
  },
  {
   "cell_type": "code",
   "execution_count": 27,
   "metadata": {},
   "outputs": [
    {
     "data": {
      "text/plain": [
       "['Python!!', 'Python!!!', 'Python!!!!']"
      ]
     },
     "execution_count": 27,
     "metadata": {},
     "output_type": "execute_result"
    }
   ],
   "source": [
    "re.findall(r'\\bPython!{2,4}' , texto)"
   ]
  },
  {
   "cell_type": "code",
   "execution_count": 28,
   "metadata": {},
   "outputs": [
    {
     "data": {
      "text/plain": [
       "['Python!!', 'Python!!!', 'Python!!!!']"
      ]
     },
     "execution_count": 28,
     "metadata": {},
     "output_type": "execute_result"
    }
   ],
   "source": [
    "re.findall(r'\\bPython!{2,}' , texto)"
   ]
  },
  {
   "cell_type": "code",
   "execution_count": 29,
   "metadata": {},
   "outputs": [
    {
     "data": {
      "text/plain": [
       "['Python!!', 'Python!!!', 'Python!!!!']"
      ]
     },
     "execution_count": 29,
     "metadata": {},
     "output_type": "execute_result"
    }
   ],
   "source": [
    "re.findall(r'\\bPython!!!*' , texto)"
   ]
  },
  {
   "cell_type": "code",
   "execution_count": 389,
   "metadata": {},
   "outputs": [
    {
     "data": {
      "text/plain": [
       "['Python!!', 'Python!!!', 'Python!!!!']"
      ]
     },
     "execution_count": 389,
     "metadata": {},
     "output_type": "execute_result"
    }
   ],
   "source": [
    "re.findall(r'\\bPython!!+' , texto)"
   ]
  },
  {
   "cell_type": "code",
   "execution_count": 390,
   "metadata": {},
   "outputs": [
    {
     "name": "stdout",
     "output_type": "stream",
     "text": [
      "Use pandas python DataFrame.astype(int) and DataFrame.apply() \n",
      "methods to convert a column to int (float/string to integer/int64/int32 dtype) data type. \n",
      "If you are converting float,192.168.5.24 I believe you would know float is bigger than int type, decimal.\n",
      "Python\n",
      "Python!\n",
      "Python!!\n",
      "Python!!!\n",
      "Python!!!!\n",
      "--Python\n",
      "--Python--\n",
      "-Python-\n",
      "Python.\n",
      "Python...\n",
      "PYthOn\n",
      "pYthON\n",
      "555-11-98-74\n",
      "195-197-198\n",
      "196-206-306\n",
      "001-197-198-2658\n",
      "-248-25-16-8745-25\n",
      "195\n",
      "265\n",
      "365247\n",
      "\n",
      "and converting into int would lose any value after the decimal.\n"
     ]
    }
   ],
   "source": [
    "print(texto)"
   ]
  },
  {
   "cell_type": "markdown",
   "metadata": {},
   "source": [
    "#### . (cualquier caracter)"
   ]
  },
  {
   "cell_type": "markdown",
   "metadata": {},
   "source": [
    "#### + is greedy (codicioso), toma la mayar cantidad de coincidencias pe."
   ]
  },
  {
   "cell_type": "code",
   "execution_count": 34,
   "metadata": {},
   "outputs": [
    {
     "data": {
      "text/plain": [
       "['-11-98-', '-197-', '-206-', '-197-198-', '-25-16-8745-', '-02-']"
      ]
     },
     "execution_count": 34,
     "metadata": {},
     "output_type": "execute_result"
    }
   ],
   "source": [
    "re.findall(r'\\b-.+-' , texto)"
   ]
  },
  {
   "cell_type": "code",
   "execution_count": 35,
   "metadata": {},
   "outputs": [
    {
     "data": {
      "text/plain": [
       "['--Python--',\n",
       " '-Python-',\n",
       " '-11-98-',\n",
       " '-197-',\n",
       " '-206-',\n",
       " '-197-198-',\n",
       " '-248-25-16-8745-',\n",
       " '-02-']"
      ]
     },
     "execution_count": 35,
     "metadata": {},
     "output_type": "execute_result"
    }
   ],
   "source": [
    "re.findall(r'\\-.+-' , texto)"
   ]
  },
  {
   "cell_type": "markdown",
   "metadata": {},
   "source": [
    "#### ? is lazy (peresozo), toma la menor cantidad de coincidencias pe."
   ]
  },
  {
   "cell_type": "code",
   "execution_count": 36,
   "metadata": {},
   "outputs": [
    {
     "data": {
      "text/plain": [
       "['-11-', '-197-', '-206-', '-197-', '-25-', '-8745-', '-02-']"
      ]
     },
     "execution_count": 36,
     "metadata": {},
     "output_type": "execute_result"
    }
   ],
   "source": [
    "re.findall(r'\\b-.+?-' , texto)"
   ]
  },
  {
   "cell_type": "code",
   "execution_count": 37,
   "metadata": {},
   "outputs": [
    {
     "data": {
      "text/plain": [
       "['--Python-',\n",
       " '-Python-',\n",
       " '-11-',\n",
       " '-197-',\n",
       " '-206-',\n",
       " '-197-',\n",
       " '-248-',\n",
       " '-16-',\n",
       " '-02-']"
      ]
     },
     "execution_count": 37,
     "metadata": {},
     "output_type": "execute_result"
    }
   ],
   "source": [
    "re.findall(r'\\-.+?-' , texto)"
   ]
  },
  {
   "cell_type": "code",
   "execution_count": 38,
   "metadata": {},
   "outputs": [
    {
     "data": {
      "text/plain": [
       "['--Python-',\n",
       " '-Python-',\n",
       " '-11-',\n",
       " '-197-',\n",
       " '-206-',\n",
       " '-197-',\n",
       " '-248-',\n",
       " '-16-',\n",
       " '-02-']"
      ]
     },
     "execution_count": 38,
     "metadata": {},
     "output_type": "execute_result"
    }
   ],
   "source": [
    "re.findall(r'\\-.+?-' , texto)"
   ]
  },
  {
   "cell_type": "code",
   "execution_count": 39,
   "metadata": {},
   "outputs": [
    {
     "data": {
      "text/plain": [
       "['192',\n",
       " '168',\n",
       " '555',\n",
       " '195',\n",
       " '197',\n",
       " '198',\n",
       " '196',\n",
       " '206',\n",
       " '306',\n",
       " '001',\n",
       " '197',\n",
       " '198',\n",
       " '265',\n",
       " '248',\n",
       " '874',\n",
       " '195',\n",
       " '202',\n",
       " '265',\n",
       " '365',\n",
       " '247',\n",
       " '202',\n",
       " '011',\n",
       " '198',\n",
       " '126',\n",
       " '178',\n",
       " '211']"
      ]
     },
     "execution_count": 39,
     "metadata": {},
     "output_type": "execute_result"
    }
   ],
   "source": [
    "re.findall(r'\\d{3}' , texto)"
   ]
  },
  {
   "cell_type": "code",
   "execution_count": 40,
   "metadata": {},
   "outputs": [
    {
     "data": {
      "text/plain": [
       "['195-197', '196-206', '001-197', '198-265', '022-011']"
      ]
     },
     "execution_count": 40,
     "metadata": {},
     "output_type": "execute_result"
    }
   ],
   "source": [
    "re.findall(r'\\d{3}-\\d{3}' , texto)"
   ]
  },
  {
   "cell_type": "code",
   "execution_count": 41,
   "metadata": {},
   "outputs": [
    {
     "data": {
      "text/plain": [
       "['-197-198', '-206-306', '-197-198']"
      ]
     },
     "execution_count": 41,
     "metadata": {},
     "output_type": "execute_result"
    }
   ],
   "source": [
    "re.findall(r'\\-\\d{3}-\\d{3}' , texto)"
   ]
  },
  {
   "cell_type": "code",
   "execution_count": 42,
   "metadata": {},
   "outputs": [
    {
     "data": {
      "text/plain": [
       "['-197-198-']"
      ]
     },
     "execution_count": 42,
     "metadata": {},
     "output_type": "execute_result"
    }
   ],
   "source": [
    "re.findall(r'\\-\\d{3}-\\d{3}-' , texto)"
   ]
  },
  {
   "cell_type": "code",
   "execution_count": 43,
   "metadata": {},
   "outputs": [
    {
     "name": "stdout",
     "output_type": "stream",
     "text": [
      "Use pandas python DataFrame.astype(int) and DataFrame.apply() \n",
      "methods to convert a column to int (float/string to integer/int64/int32 dtype) data type. \n",
      "If you are converting float,192.168.5.24 I believe you would know float is bigger than int type, decimal.\n",
      "Python\n",
      "Python!\n",
      "Python!!\n",
      "Python!!!\n",
      "Python!!!!\n",
      "--Python\n",
      "--Python--\n",
      "-Python-\n",
      "Python.\n",
      "Python...\n",
      "PYthOn\n",
      "pYthON\n",
      "555-11-98-74\n",
      "195-197-198\n",
      "196-206-306\n",
      "001-197-198-2658\n",
      "-248-25-16-8745-25\n",
      "195\n",
      "15-02-2021\n",
      "265\n",
      "365247\n",
      "2022-0110\n",
      "198.126.178.211\n",
      "gonzalo@mail.com\n",
      "1\n",
      "\n",
      "and converting into int would lose any value after the decimal.\n"
     ]
    }
   ],
   "source": [
    "print(texto)"
   ]
  },
  {
   "cell_type": "code",
   "execution_count": 44,
   "metadata": {},
   "outputs": [
    {
     "data": {
      "text/plain": [
       "['25-16-8745', '15-02-2021']"
      ]
     },
     "execution_count": 44,
     "metadata": {},
     "output_type": "execute_result"
    }
   ],
   "source": [
    "re.findall(r'\\d{2}-\\d{2}-\\d{4}' , texto)"
   ]
  },
  {
   "cell_type": "markdown",
   "metadata": {},
   "source": [
    "#### () Agrupa el resultado de una selección:"
   ]
  },
  {
   "cell_type": "code",
   "execution_count": 45,
   "metadata": {},
   "outputs": [
    {
     "data": {
      "text/plain": [
       "['195', '196', '001']"
      ]
     },
     "execution_count": 45,
     "metadata": {},
     "output_type": "execute_result"
    }
   ],
   "source": [
    "re.findall(r'(\\d{3})-\\d{3}-\\d{3}' , texto)"
   ]
  },
  {
   "cell_type": "code",
   "execution_count": 46,
   "metadata": {},
   "outputs": [
    {
     "data": {
      "text/plain": [
       "['192',\n",
       " '168',\n",
       " '555',\n",
       " '195',\n",
       " '197',\n",
       " '198',\n",
       " '196',\n",
       " '206',\n",
       " '306',\n",
       " '001',\n",
       " '197',\n",
       " '198',\n",
       " '265',\n",
       " '248',\n",
       " '874',\n",
       " '195',\n",
       " '202',\n",
       " '265',\n",
       " '365',\n",
       " '247',\n",
       " '202',\n",
       " '011',\n",
       " '198',\n",
       " '126',\n",
       " '178',\n",
       " '211']"
      ]
     },
     "execution_count": 46,
     "metadata": {},
     "output_type": "execute_result"
    }
   ],
   "source": [
    "re.findall(r'(\\d{3})' , texto)"
   ]
  },
  {
   "cell_type": "markdown",
   "metadata": {},
   "source": [
    "#### [ ]  busca todo los carcteres dentro, pe"
   ]
  },
  {
   "cell_type": "code",
   "execution_count": 50,
   "metadata": {},
   "outputs": [
    {
     "data": {
      "text/plain": [
       "['306', '001', '021', '365', '022', '011']"
      ]
     },
     "execution_count": 50,
     "metadata": {},
     "output_type": "execute_result"
    }
   ],
   "source": [
    "re.findall(r'[03]\\d{2}' , texto)"
   ]
  },
  {
   "cell_type": "code",
   "execution_count": 48,
   "metadata": {},
   "outputs": [
    {
     "data": {
      "text/plain": [
       "['-306', '-011']"
      ]
     },
     "execution_count": 48,
     "metadata": {},
     "output_type": "execute_result"
    }
   ],
   "source": [
    "re.findall(r'\\-[03]\\d{2}' , texto)"
   ]
  },
  {
   "cell_type": "code",
   "execution_count": 51,
   "metadata": {},
   "outputs": [
    {
     "data": {
      "text/plain": [
       "['e',\n",
       " 'panda',\n",
       " 'p',\n",
       " 'hon',\n",
       " 'a',\n",
       " 'a',\n",
       " 'rame',\n",
       " 'a',\n",
       " 'pe',\n",
       " 'in',\n",
       " 'and',\n",
       " 'a',\n",
       " 'a',\n",
       " 'rame',\n",
       " 'appl',\n",
       " 'me',\n",
       " 'hod',\n",
       " 'o',\n",
       " 'con',\n",
       " 'er',\n",
       " 'a',\n",
       " 'col',\n",
       " 'mn',\n",
       " 'o',\n",
       " 'in',\n",
       " 'floa',\n",
       " 'ring',\n",
       " 'o',\n",
       " 'in',\n",
       " 'eger',\n",
       " 'in',\n",
       " 'in',\n",
       " 'd',\n",
       " 'pe',\n",
       " 'da',\n",
       " 'a',\n",
       " 'pe',\n",
       " 'f',\n",
       " 'o',\n",
       " 'are',\n",
       " 'con',\n",
       " 'er',\n",
       " 'ing',\n",
       " 'floa',\n",
       " 'belie',\n",
       " 'e',\n",
       " 'o',\n",
       " 'o',\n",
       " 'ld',\n",
       " 'kno',\n",
       " 'floa',\n",
       " 'i',\n",
       " 'bigger',\n",
       " 'han',\n",
       " 'in',\n",
       " 'pe',\n",
       " 'decimal',\n",
       " 'hon',\n",
       " 'hon',\n",
       " 'hon',\n",
       " 'hon',\n",
       " 'hon',\n",
       " 'hon',\n",
       " 'hon',\n",
       " 'hon',\n",
       " 'hon',\n",
       " 'hon',\n",
       " 'h',\n",
       " 'n',\n",
       " 'p',\n",
       " 'h',\n",
       " 'gon',\n",
       " 'alo',\n",
       " 'mail',\n",
       " 'com',\n",
       " 'and',\n",
       " 'con',\n",
       " 'er',\n",
       " 'ing',\n",
       " 'in',\n",
       " 'o',\n",
       " 'in',\n",
       " 'o',\n",
       " 'ld',\n",
       " 'lo',\n",
       " 'e',\n",
       " 'an',\n",
       " 'al',\n",
       " 'e',\n",
       " 'af',\n",
       " 'er',\n",
       " 'he',\n",
       " 'decimal']"
      ]
     },
     "execution_count": 51,
     "metadata": {},
     "output_type": "execute_result"
    }
   ],
   "source": [
    "re.findall(r'[a-r]+', texto)"
   ]
  },
  {
   "cell_type": "code",
   "execution_count": 52,
   "metadata": {},
   "outputs": [
    {
     "data": {
      "text/plain": [
       "['64',\n",
       " '32',\n",
       " '192',\n",
       " '168',\n",
       " '5',\n",
       " '24',\n",
       " '555',\n",
       " '11',\n",
       " '98',\n",
       " '74',\n",
       " '195',\n",
       " '197',\n",
       " '198',\n",
       " '196',\n",
       " '206',\n",
       " '306',\n",
       " '001',\n",
       " '197',\n",
       " '198',\n",
       " '2658',\n",
       " '248',\n",
       " '25',\n",
       " '16',\n",
       " '8745',\n",
       " '25',\n",
       " '195',\n",
       " '15',\n",
       " '02',\n",
       " '2021',\n",
       " '265',\n",
       " '365247',\n",
       " '2022',\n",
       " '0110',\n",
       " '198',\n",
       " '126',\n",
       " '178',\n",
       " '211',\n",
       " '1']"
      ]
     },
     "execution_count": 52,
     "metadata": {},
     "output_type": "execute_result"
    }
   ],
   "source": [
    "re.findall(r'[0-9]+', texto)"
   ]
  },
  {
   "cell_type": "code",
   "execution_count": 53,
   "metadata": {},
   "outputs": [
    {
     "data": {
      "text/plain": [
       "['2658', '8745', '2021', '3652', '2022', '0110']"
      ]
     },
     "execution_count": 53,
     "metadata": {},
     "output_type": "execute_result"
    }
   ],
   "source": [
    "re.findall(r'[0-9]{4}', texto)"
   ]
  },
  {
   "cell_type": "code",
   "execution_count": 54,
   "metadata": {},
   "outputs": [
    {
     "data": {
      "text/plain": [
       "['pand',\n",
       " 'rame',\n",
       " 'rame',\n",
       " 'appl',\n",
       " 'floa',\n",
       " 'ring ',\n",
       " 'eger',\n",
       " 'floa',\n",
       " 'beli',\n",
       " 'floa',\n",
       " 'bigg',\n",
       " 'deci',\n",
       " 'mail',\n",
       " 'deci']"
      ]
     },
     "execution_count": 54,
     "metadata": {},
     "output_type": "execute_result"
    }
   ],
   "source": [
    "re.findall(r'[a-r]{4} ?', texto)"
   ]
  },
  {
   "cell_type": "code",
   "execution_count": 55,
   "metadata": {},
   "outputs": [
    {
     "data": {
      "text/plain": [
       "['python ',\n",
       " 'and ',\n",
       " 'column ',\n",
       " 'int ',\n",
       " 'to ',\n",
       " 'data ',\n",
       " 'converting ',\n",
       " 'know ',\n",
       " 'int ',\n",
       " 'Python\\n',\n",
       " 'Python\\n',\n",
       " 'pYthON\\n',\n",
       " 'com\\n',\n",
       " 'would ',\n",
       " 'the ']"
      ]
     },
     "execution_count": 55,
     "metadata": {},
     "output_type": "execute_result"
    }
   ],
   "source": [
    "re.findall(r'([a-zA-Z]+\\s){1,5}', texto)"
   ]
  },
  {
   "cell_type": "markdown",
   "metadata": {},
   "source": [
    "Exactly 4 characters and a space"
   ]
  },
  {
   "cell_type": "code",
   "execution_count": 56,
   "metadata": {},
   "outputs": [
    {
     "data": {
      "text/plain": [
       "[' data ', ' know ', ' than ', ' into ', ' lose ']"
      ]
     },
     "execution_count": 56,
     "metadata": {},
     "output_type": "execute_result"
    }
   ],
   "source": [
    "four_s=re.findall(r'\\s[\\S]{4}\\s{1}', texto)\n",
    "four_s"
   ]
  },
  {
   "cell_type": "code",
   "execution_count": 57,
   "metadata": {},
   "outputs": [
    {
     "data": {
      "text/plain": [
       "['data', 'know', 'than', 'into', 'lose']"
      ]
     },
     "execution_count": 57,
     "metadata": {},
     "output_type": "execute_result"
    }
   ],
   "source": [
    "#four = four_s.replace(' ', '')\n",
    "four=[]\n",
    "for c in four_s:\n",
    "    four.append(c.strip())\n",
    "four"
   ]
  },
  {
   "cell_type": "markdown",
   "metadata": {},
   "source": [
    "#### [^ ] Negacion"
   ]
  },
  {
   "cell_type": "code",
   "execution_count": 67,
   "metadata": {},
   "outputs": [
    {
     "data": {
      "text/plain": [
       "['() \\n',\n",
       " ',192',\n",
       " '!!!\\n',\n",
       " '!!!!',\n",
       " '\\n555',\n",
       " '74\\n1',\n",
       " '198\\n',\n",
       " '306\\n',\n",
       " '2658',\n",
       " '8745',\n",
       " '25\\n1',\n",
       " '95\\n1',\n",
       " '2021',\n",
       " '\\n265',\n",
       " '\\n365',\n",
       " '247\\n',\n",
       " '2022',\n",
       " '0110',\n",
       " '\\n198',\n",
       " '211\\n',\n",
       " '\\n1\\n\\n']"
      ]
     },
     "execution_count": 67,
     "metadata": {},
     "output_type": "execute_result"
    }
   ],
   "source": [
    "re.findall(r'[^a-zA-Z-.]{4}', texto)"
   ]
  },
  {
   "cell_type": "markdown",
   "metadata": {},
   "source": [
    "validar usuario"
   ]
  },
  {
   "cell_type": "code",
   "execution_count": 68,
   "metadata": {},
   "outputs": [],
   "source": [
    "texto = '''\n",
    "abc\n",
    "kjgfds1\n",
    "usuario123\n",
    "234user\n",
    "gonzalo5248\n",
    "'''"
   ]
  },
  {
   "cell_type": "code",
   "execution_count": 69,
   "metadata": {},
   "outputs": [
    {
     "data": {
      "text/plain": [
       "['usuario123', 'gonzalo5248']"
      ]
     },
     "execution_count": 69,
     "metadata": {},
     "output_type": "execute_result"
    }
   ],
   "source": [
    "re.findall(r'[a-z1-9]{8,15}', texto)"
   ]
  },
  {
   "cell_type": "markdown",
   "metadata": {},
   "source": [
    "filtrar títulos de personas"
   ]
  },
  {
   "cell_type": "code",
   "execution_count": 76,
   "metadata": {},
   "outputs": [],
   "source": [
    "texto = '''\n",
    "\n",
    "Mr.Andersen\n",
    "Mr. Smith \n",
    "Mr. Robinson\n",
    "Ms. Sanchez\n",
    "Ms Davis\n",
    "Msr. duval\n",
    "Mr T.\n",
    "Abcd\n",
    "karen.rodriguez@mail.com\n",
    "523-254-5874\n",
    "265 321 9854\n",
    "Aleluya\n",
    "joseline1287.gsr@hotmail.org\n",
    "jessy.rios98@kraken.mx.org\n",
    "1974gsr85@mail.com\n",
    "\n",
    "'''"
   ]
  },
  {
   "cell_type": "code",
   "execution_count": 75,
   "metadata": {},
   "outputs": [
    {
     "data": {
      "text/plain": [
       "[('Mr. Smith', 'r'),\n",
       " ('Mr. Robinson', 'r'),\n",
       " ('Ms. Sanchez', 's'),\n",
       " ('Ms Davis', 's'),\n",
       " ('Msr. duval', 'sr'),\n",
       " ('Mr T.', 'r')]"
      ]
     },
     "execution_count": 75,
     "metadata": {},
     "output_type": "execute_result"
    }
   ],
   "source": [
    "x= re.findall(r'(M(r|s|sr)\\.?\\s[A-za-z.]+)', texto)\n",
    "x"
   ]
  },
  {
   "cell_type": "code",
   "execution_count": 77,
   "metadata": {},
   "outputs": [
    {
     "data": {
      "text/plain": [
       "['karen.rodriguez@mail.com',\n",
       " 'joseline1287.gsr@hotmail.org',\n",
       " 'jessy.rios98@kraken.mx.org',\n",
       " '1974gsr85@mail.com']"
      ]
     },
     "execution_count": 77,
     "metadata": {},
     "output_type": "execute_result"
    }
   ],
   "source": [
    "re.findall(r'[a-z1-9.]+[@][a-z.]+[a-z]+', texto)"
   ]
  },
  {
   "cell_type": "code",
   "execution_count": 81,
   "metadata": {},
   "outputs": [
    {
     "data": {
      "text/plain": [
       "['Mr. Smith', 'Mr. Robinson', 'Ms. Sanchez', 'Ms Davis', 'Msr. duval', 'Mr T']"
      ]
     },
     "execution_count": 81,
     "metadata": {},
     "output_type": "execute_result"
    }
   ],
   "source": [
    "x=re.findall(r'[Mm][a-z.]{1,3}\\s[a-zA-Z]*' , texto)\n",
    "x"
   ]
  },
  {
   "cell_type": "code",
   "execution_count": 82,
   "metadata": {},
   "outputs": [
    {
     "data": {
      "text/plain": [
       "<re.Match object; span=(14, 23), match='Mr. Smith'>"
      ]
     },
     "execution_count": 82,
     "metadata": {},
     "output_type": "execute_result"
    }
   ],
   "source": [
    "x=re.search(r'(Mr|Ms|Msr)\\.?\\s[A-Z]\\w+', texto)\n",
    "x"
   ]
  },
  {
   "cell_type": "code",
   "execution_count": 83,
   "metadata": {},
   "outputs": [
    {
     "data": {
      "text/plain": [
       "['523-254-5874', '265 321 9854']"
      ]
     },
     "execution_count": 83,
     "metadata": {},
     "output_type": "execute_result"
    }
   ],
   "source": [
    "re.findall('\\d{3}.?\\d{3}.?\\d{4}', texto)"
   ]
  },
  {
   "cell_type": "code",
   "execution_count": 84,
   "metadata": {},
   "outputs": [
    {
     "data": {
      "text/plain": [
       "['Ndufa10']"
      ]
     },
     "execution_count": 84,
     "metadata": {},
     "output_type": "execute_result"
    }
   ],
   "source": [
    "str = \"\"\"\n",
    "gi|13195623|ref|NM_024197.1| Mus musculus NADH dehydrogenase (ubiquinone) 1 alp\n",
    "ha subcomplex 10 (Ndufa10), mRNAGCCGGCGCAGACGGCGAAGTCATGGCCTTGAGGTTGCTGAGACTCGTC\n",
    "CCGGCGTCGGCTCCCGCGCGCGGCCTCGCGGCCGGAGCCCAGCGCGTGGG (etc)\"\"\"\n",
    "m = re.findall(r'(?<=\\().*?(?=\\),)', str)\n",
    "m"
   ]
  }
 ],
 "metadata": {
  "kernelspec": {
   "display_name": "Python 3.10.6 64-bit (windows store)",
   "language": "python",
   "name": "python3"
  },
  "language_info": {
   "codemirror_mode": {
    "name": "ipython",
    "version": 3
   },
   "file_extension": ".py",
   "mimetype": "text/x-python",
   "name": "python",
   "nbconvert_exporter": "python",
   "pygments_lexer": "ipython3",
   "version": "3.10.8"
  },
  "orig_nbformat": 4,
  "vscode": {
   "interpreter": {
    "hash": "014dbba80d74da3648dd64d986c7955956caba1a84678fdab057142c84f82175"
   }
  }
 },
 "nbformat": 4,
 "nbformat_minor": 2
}
