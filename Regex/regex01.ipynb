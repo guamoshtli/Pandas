{
 "cells": [
  {
   "cell_type": "code",
   "execution_count": 373,
   "metadata": {},
   "outputs": [],
   "source": [
    "import re"
   ]
  },
  {
   "cell_type": "markdown",
   "metadata": {},
   "source": [
    "https://www.youtube.com/watch?v=Mc2j8Q-MHB4&list=LL&index=7\n",
    "\n",
    "https://regex101.com/\n",
    "\n",
    "https://www.youtube.com/watch?v=sa-TUpSx1JA\n"
   ]
  },
  {
   "cell_type": "markdown",
   "metadata": {},
   "source": [
    "The special sequences consist of '\\' and a character from the list below. If the ordinary character is not an ASCII digit or an ASCII letter, then the resulting RE will match the second character. For example, \\$ matches the character '$'.\n",
    "\n",
    "#### \\number\n",
    "Matches the contents of the group of the same number. Groups are numbered starting from 1. For example, (.+) \\1 matches 'the the' or '55 55', but not 'thethe' (note the space after the group). This special sequence can only be used to match one of the first 99 groups. If the first digit of number is 0, or number is 3 octal digits long, it will not be interpreted as a group match, but as the character with octal value number. Inside the '[' and ']' of a character class, all numeric escapes are treated as characters.\n",
    "\n",
    "#### \\A\n",
    "Matches only at the start of the string.\n",
    "\n",
    "#### \\b\n",
    "Matches the empty string, but only at the beginning or end of a word. A word is defined as a sequence of word characters. Note that formally, \\b is defined as the boundary between a \\w and a \\W character (or vice versa), or between \\w and the beginning/end of the string. This means that r'\\bfoo\\b' matches 'foo', 'foo.', '(foo)', 'bar foo baz' but not 'foobar' or 'foo3'.\n",
    "\n",
    "By default Unicode alphanumerics are the ones used in Unicode patterns, but this can be changed by using the ASCII flag. Word boundaries are determined by the current locale if the LOCALE flag is used. Inside a character range, \\b represents the backspace character, for compatibility with Python’s string literals.\n",
    "\n",
    "#### \\B\n",
    "Matches the empty string, but only when it is not at the beginning or end of a word. This means that r'py\\B' matches 'python', 'py3', 'py2', but not 'py', 'py.', or 'py!'. \\B is just the opposite of \\b, so word characters in Unicode patterns are Unicode alphanumerics or the underscore, although this can be changed by using the ASCII flag. Word boundaries are determined by the current locale if the LOCALE flag is used.\n",
    "\n",
    "####  \\d\n",
    "For Unicode (str) patterns:\n",
    "Matches any Unicode decimal digit (that is, any character in Unicode character category [Nd]). This includes [0-9], and also many other digit characters. If the ASCII flag is used only [0-9] is matched.\n",
    "\n",
    "For 8-bit (bytes) patterns:\n",
    "Matches any decimal digit; this is equivalent to [0-9].\n",
    "\n",
    "#### \\D\n",
    "Matches any character which is not a decimal digit. This is the opposite of \\d. If the ASCII flag is used this becomes the equivalent of [^0-9].\n",
    "\n",
    "#### \\s\n",
    "For Unicode (str) patterns:\n",
    "Matches Unicode whitespace characters (which includes [ \\t\\n\\r\\f\\v], and also many other characters, for example the non-breaking spaces mandated by typography rules in many languages). If the ASCII flag is used, only [ \\t\\n\\r\\f\\v] is matched.\n",
    "\n",
    "For 8-bit (bytes) patterns:\n",
    "Matches characters considered whitespace in the ASCII character set; this is equivalent to [ \\t\\n\\r\\f\\v].\n",
    "\n",
    "#### \\S\n",
    "Matches any character which is not a whitespace character. This is the opposite of \\s. If the ASCII flag is used this becomes the equivalent of [^ \\t\\n\\r\\f\\v].\n",
    "\n",
    "####  \\w\n",
    "For Unicode (str) patterns:\n",
    "Matches Unicode word characters; this includes most characters that can be part of a word in any language, as well as numbers and the underscore. If the ASCII flag is used, only [a-zA-Z0-9_] is matched.\n",
    "\n",
    "For 8-bit (bytes) patterns:\n",
    "Matches characters considered alphanumeric in the ASCII character set; this is equivalent to [a-zA-Z0-9_]. If the LOCALE flag is used, matches characters considered alphanumeric in the current locale and the underscore.\n",
    "\n",
    "#### \\W\n",
    "Matches any character which is not a word character. This is the opposite of \\w. If the ASCII flag is used this becomes the equivalent of [^a-zA-Z0-9_]. If the LOCALE flag is used, matches characters which are neither alphanumeric in the current locale nor the underscore.\n",
    "\n",
    "####  \\Z\n",
    "Matches only at the end of the string.The special sequences consist of '\\' and a character from the list below. If the ordinary character is not an ASCII digit or an ASCII letter, then the resulting RE will match the second character. For example, \\$ matches the character '$'.\n",
    "\n",
    "#### \\number\n",
    "Matches the contents of the group of the same number. Groups are numbered starting from 1. For example, (.+) \\1 matches 'the the' or '55 55', but not 'thethe' (note the space after the group). This special sequence can only be used to match one of the first 99 groups. If the first digit of number is 0, or number is 3 octal digits long, it will not be interpreted as a group match, but as the character with octal value number. Inside the '[' and ']' of a character class, all numeric escapes are treated as characters.\n",
    "\n"
   ]
  },
  {
   "cell_type": "markdown",
   "metadata": {},
   "source": [
    "## Identifiers\tModifiers\tWhite space characters\t\n",
    "* \\d= any number (a digit) \t\n",
    "* \\d represents a digit.Ex: \n",
    "* \\d{1,5} it will declare digit between 1,5 like 424,444,545 etc.\n",
    "* \\n = new line\t\n",
    "* Escape required:\n",
    ". + * ? [] $ ^ () {} | \\\n",
    "\n",
    "* \\D= anything but a number (a non-digit)\t\n",
    "*    + = matches 1 or more\t\\s= space\n",
    "\\s = space\n",
    "\\t =tab\n",
    "(tab,space,newline etc.)\t\n",
    "? = matches 0 or 1\t\n",
    "\\S= anything but a space\t\n",
    "* = 0 or more\t\n",
    "* \\e = escape\t\n",
    "\n",
    "* \\w = letters ( Match alphanumeric character, including “_”)\t\n",
    "* $ match end of a string\t\n",
    "* \\r = carriage return\t\n",
    "* \\W =anything but letters ( Matches a non-alphanumeric character excluding “_”)\t\n",
    "* ^ match start of a string\t\\f= form feed\t\n",
    "* . = anything but letters (periods)\t\n",
    "* | matches either or x/y\t—————–\t\n"
   ]
  },
  {
   "cell_type": "code",
   "execution_count": 440,
   "metadata": {},
   "outputs": [],
   "source": [
    "texto = '''Use pandas python DataFrame.astype(int) and DataFrame.apply() \n",
    "methods to convert a column to int (float/string to integer/int64/int32 dtype) data type. \n",
    "If you are converting float,192.168.5.24 I believe you would know float is bigger than int type, decimal.\n",
    "Python\n",
    "Python!\n",
    "Python!!\n",
    "Python!!!\n",
    "Python!!!!\n",
    "--Python\n",
    "--Python--\n",
    "-Python-\n",
    "Python.\n",
    "Python...\n",
    "PYthOn\n",
    "pYthON\n",
    "555-11-98-74\n",
    "195-197-198\n",
    "196-206-306\n",
    "001-197-198-2658\n",
    "-248-25-16-8745-25\n",
    "195\n",
    "15-02-2021\n",
    "265\n",
    "365247\n",
    "2022-0110\n",
    "\n",
    "and converting into int would lose any value after the decimal.'''"
   ]
  },
  {
   "cell_type": "code",
   "execution_count": 375,
   "metadata": {},
   "outputs": [
    {
     "name": "stdout",
     "output_type": "stream",
     "text": [
      "<re.Match object; span=(126, 128), match='64'>\n"
     ]
    }
   ],
   "source": [
    "# \\d  digitos 0- 9\n",
    "r = re.search(r'\\d+' , texto)\n",
    "print(r)"
   ]
  },
  {
   "cell_type": "code",
   "execution_count": 376,
   "metadata": {},
   "outputs": [
    {
     "data": {
      "text/plain": [
       "['6',\n",
       " '4',\n",
       " '3',\n",
       " '2',\n",
       " '1',\n",
       " '9',\n",
       " '2',\n",
       " '1',\n",
       " '6',\n",
       " '8',\n",
       " '5',\n",
       " '2',\n",
       " '4',\n",
       " '5',\n",
       " '5',\n",
       " '5',\n",
       " '1',\n",
       " '1',\n",
       " '9',\n",
       " '8',\n",
       " '7',\n",
       " '4',\n",
       " '1',\n",
       " '9',\n",
       " '5',\n",
       " '1',\n",
       " '9',\n",
       " '7',\n",
       " '1',\n",
       " '9',\n",
       " '8',\n",
       " '1',\n",
       " '9',\n",
       " '6',\n",
       " '2',\n",
       " '0',\n",
       " '6',\n",
       " '3',\n",
       " '0',\n",
       " '6',\n",
       " '0',\n",
       " '0',\n",
       " '1',\n",
       " '1',\n",
       " '9',\n",
       " '7',\n",
       " '1',\n",
       " '9',\n",
       " '8',\n",
       " '2',\n",
       " '6',\n",
       " '5',\n",
       " '8',\n",
       " '2',\n",
       " '4',\n",
       " '8',\n",
       " '2',\n",
       " '5',\n",
       " '1',\n",
       " '6',\n",
       " '8',\n",
       " '7',\n",
       " '4',\n",
       " '5',\n",
       " '2',\n",
       " '5',\n",
       " '1',\n",
       " '9',\n",
       " '5',\n",
       " '2',\n",
       " '6',\n",
       " '5',\n",
       " '3',\n",
       " '6',\n",
       " '5',\n",
       " '2',\n",
       " '4',\n",
       " '7']"
      ]
     },
     "execution_count": 376,
     "metadata": {},
     "output_type": "execute_result"
    }
   ],
   "source": [
    "re.findall(r'\\d' , texto)"
   ]
  },
  {
   "cell_type": "markdown",
   "metadata": {},
   "source": [
    "#### \\b match al inicio o fin de la palabra"
   ]
  },
  {
   "cell_type": "code",
   "execution_count": 436,
   "metadata": {},
   "outputs": [
    {
     "data": {
      "text/plain": [
       "['Use ',\n",
       " 'pand',\n",
       " ' pyt',\n",
       " ' Dat',\n",
       " '.ast',\n",
       " '(int',\n",
       " ') an',\n",
       " ' Dat',\n",
       " '.app',\n",
       " 'meth',\n",
       " ' to ',\n",
       " 'conv',\n",
       " ' a c',\n",
       " ' to ',\n",
       " 'int ',\n",
       " 'floa',\n",
       " '/str',\n",
       " ' to ',\n",
       " 'inte',\n",
       " '/int',\n",
       " '/int',\n",
       " ' dty',\n",
       " ') da',\n",
       " ' typ',\n",
       " 'If y',\n",
       " ' are',\n",
       " ' con',\n",
       " ' flo',\n",
       " ',192',\n",
       " '.168',\n",
       " '.5.2',\n",
       " ' I b',\n",
       " ' you',\n",
       " ' wou',\n",
       " ' kno',\n",
       " ' flo',\n",
       " ' is ',\n",
       " 'bigg',\n",
       " ' tha',\n",
       " ' int',\n",
       " ' typ',\n",
       " ', de',\n",
       " 'Pyth',\n",
       " 'Pyth',\n",
       " 'Pyth',\n",
       " 'Pyth',\n",
       " 'Pyth',\n",
       " '!!!!',\n",
       " 'Pyth',\n",
       " 'Pyth',\n",
       " 'Pyth',\n",
       " 'Pyth',\n",
       " 'Pyth',\n",
       " 'PYth',\n",
       " 'pYth',\n",
       " '555-',\n",
       " '11-9',\n",
       " '195-',\n",
       " '197-',\n",
       " '196-',\n",
       " '206-',\n",
       " '001-',\n",
       " '197-',\n",
       " '198-',\n",
       " '2658',\n",
       " '248-',\n",
       " '25-1',\n",
       " '-874',\n",
       " '3652',\n",
       " 'and ',\n",
       " 'conv',\n",
       " ' int',\n",
       " ' int',\n",
       " ' wou',\n",
       " ' los',\n",
       " ' any',\n",
       " ' val',\n",
       " ' aft',\n",
       " ' the',\n",
       " ' dec']"
      ]
     },
     "execution_count": 436,
     "metadata": {},
     "output_type": "execute_result"
    }
   ],
   "source": [
    "re.findall(r'\\b.{4}' , texto)"
   ]
  },
  {
   "cell_type": "markdown",
   "metadata": {},
   "source": [
    "#### \\B  inverse of \\b  Match  en medio de la palabra o entre palabras"
   ]
  },
  {
   "cell_type": "code",
   "execution_count": 437,
   "metadata": {},
   "outputs": [
    {
     "data": {
      "text/plain": [
       "['se p',\n",
       " 'anda',\n",
       " 's py',\n",
       " 'thon',\n",
       " 'ataF',\n",
       " 'rame',\n",
       " 'styp',\n",
       " 'e(in',\n",
       " 't) a',\n",
       " 'nd D',\n",
       " 'ataF',\n",
       " 'rame',\n",
       " 'pply',\n",
       " 'etho',\n",
       " 'ds t',\n",
       " 'o co',\n",
       " 'nver',\n",
       " 't a ',\n",
       " 'olum',\n",
       " 'n to',\n",
       " 'nt (',\n",
       " 'loat',\n",
       " 'trin',\n",
       " 'g to',\n",
       " 'nteg',\n",
       " 'er/i',\n",
       " 'nt64',\n",
       " 'nt32',\n",
       " 'type',\n",
       " ' dat',\n",
       " 'a ty',\n",
       " 'pe. ',\n",
       " 'f yo',\n",
       " 'u ar',\n",
       " 'e co',\n",
       " 'nver',\n",
       " 'ting',\n",
       " 'loat',\n",
       " '92.1',\n",
       " '68.5',\n",
       " '4 I ',\n",
       " 'elie',\n",
       " 've y',\n",
       " 'ou w',\n",
       " 'ould',\n",
       " 'now ',\n",
       " 'loat',\n",
       " 's bi',\n",
       " 'gger',\n",
       " 'han ',\n",
       " 'nt t',\n",
       " 'ype,',\n",
       " ' dec',\n",
       " 'imal',\n",
       " 'ytho',\n",
       " 'ytho',\n",
       " 'ytho',\n",
       " 'ytho',\n",
       " 'n!!!',\n",
       " 'ytho',\n",
       " 'n!!!',\n",
       " '--Py',\n",
       " 'thon',\n",
       " '--Py',\n",
       " 'thon',\n",
       " '-Pyt',\n",
       " 'hon-',\n",
       " 'ytho',\n",
       " 'ytho',\n",
       " 'n...',\n",
       " 'YthO',\n",
       " 'YthO',\n",
       " '55-1',\n",
       " '1-98',\n",
       " '95-1',\n",
       " '97-1',\n",
       " '96-2',\n",
       " '06-3',\n",
       " '01-1',\n",
       " '97-1',\n",
       " '98-2',\n",
       " '-248',\n",
       " '5-16',\n",
       " '745-',\n",
       " '6524',\n",
       " 'nd c',\n",
       " 'onve',\n",
       " 'rtin',\n",
       " 'g in',\n",
       " 'to i',\n",
       " 'nt w',\n",
       " 'ould',\n",
       " 'ose ',\n",
       " 'ny v',\n",
       " 'alue',\n",
       " 'fter',\n",
       " 'he d',\n",
       " 'ecim']"
      ]
     },
     "execution_count": 437,
     "metadata": {},
     "output_type": "execute_result"
    }
   ],
   "source": [
    "re.findall(r'\\B.{4}' , texto)"
   ]
  },
  {
   "cell_type": "code",
   "execution_count": 377,
   "metadata": {},
   "outputs": [
    {
     "data": {
      "text/plain": [
       "['U',\n",
       " 's',\n",
       " 'e',\n",
       " ' ',\n",
       " 'p',\n",
       " 'a',\n",
       " 'n',\n",
       " 'd',\n",
       " 'a',\n",
       " 's',\n",
       " ' ',\n",
       " 'p',\n",
       " 'y',\n",
       " 't',\n",
       " 'h',\n",
       " 'o',\n",
       " 'n',\n",
       " ' ',\n",
       " 'D',\n",
       " 'a',\n",
       " 't',\n",
       " 'a',\n",
       " 'F',\n",
       " 'r',\n",
       " 'a',\n",
       " 'm',\n",
       " 'e',\n",
       " '.',\n",
       " 'a',\n",
       " 's',\n",
       " 't',\n",
       " 'y',\n",
       " 'p',\n",
       " 'e',\n",
       " '(',\n",
       " 'i',\n",
       " 'n',\n",
       " 't',\n",
       " ')',\n",
       " ' ',\n",
       " 'a',\n",
       " 'n',\n",
       " 'd',\n",
       " ' ',\n",
       " 'D',\n",
       " 'a',\n",
       " 't',\n",
       " 'a',\n",
       " 'F',\n",
       " 'r',\n",
       " 'a',\n",
       " 'm',\n",
       " 'e',\n",
       " '.',\n",
       " 'a',\n",
       " 'p',\n",
       " 'p',\n",
       " 'l',\n",
       " 'y',\n",
       " '(',\n",
       " ')',\n",
       " ' ',\n",
       " '\\n',\n",
       " 'm',\n",
       " 'e',\n",
       " 't',\n",
       " 'h',\n",
       " 'o',\n",
       " 'd',\n",
       " 's',\n",
       " ' ',\n",
       " 't',\n",
       " 'o',\n",
       " ' ',\n",
       " 'c',\n",
       " 'o',\n",
       " 'n',\n",
       " 'v',\n",
       " 'e',\n",
       " 'r',\n",
       " 't',\n",
       " ' ',\n",
       " 'a',\n",
       " ' ',\n",
       " 'c',\n",
       " 'o',\n",
       " 'l',\n",
       " 'u',\n",
       " 'm',\n",
       " 'n',\n",
       " ' ',\n",
       " 't',\n",
       " 'o',\n",
       " ' ',\n",
       " 'i',\n",
       " 'n',\n",
       " 't',\n",
       " ' ',\n",
       " '(',\n",
       " 'f',\n",
       " 'l',\n",
       " 'o',\n",
       " 'a',\n",
       " 't',\n",
       " '/',\n",
       " 's',\n",
       " 't',\n",
       " 'r',\n",
       " 'i',\n",
       " 'n',\n",
       " 'g',\n",
       " ' ',\n",
       " 't',\n",
       " 'o',\n",
       " ' ',\n",
       " 'i',\n",
       " 'n',\n",
       " 't',\n",
       " 'e',\n",
       " 'g',\n",
       " 'e',\n",
       " 'r',\n",
       " '/',\n",
       " 'i',\n",
       " 'n',\n",
       " 't',\n",
       " '/',\n",
       " 'i',\n",
       " 'n',\n",
       " 't',\n",
       " ' ',\n",
       " 'd',\n",
       " 't',\n",
       " 'y',\n",
       " 'p',\n",
       " 'e',\n",
       " ')',\n",
       " ' ',\n",
       " 'd',\n",
       " 'a',\n",
       " 't',\n",
       " 'a',\n",
       " ' ',\n",
       " 't',\n",
       " 'y',\n",
       " 'p',\n",
       " 'e',\n",
       " '.',\n",
       " ' ',\n",
       " '\\n',\n",
       " 'I',\n",
       " 'f',\n",
       " ' ',\n",
       " 'y',\n",
       " 'o',\n",
       " 'u',\n",
       " ' ',\n",
       " 'a',\n",
       " 'r',\n",
       " 'e',\n",
       " ' ',\n",
       " 'c',\n",
       " 'o',\n",
       " 'n',\n",
       " 'v',\n",
       " 'e',\n",
       " 'r',\n",
       " 't',\n",
       " 'i',\n",
       " 'n',\n",
       " 'g',\n",
       " ' ',\n",
       " 'f',\n",
       " 'l',\n",
       " 'o',\n",
       " 'a',\n",
       " 't',\n",
       " ',',\n",
       " '.',\n",
       " '.',\n",
       " '.',\n",
       " ' ',\n",
       " 'I',\n",
       " ' ',\n",
       " 'b',\n",
       " 'e',\n",
       " 'l',\n",
       " 'i',\n",
       " 'e',\n",
       " 'v',\n",
       " 'e',\n",
       " ' ',\n",
       " 'y',\n",
       " 'o',\n",
       " 'u',\n",
       " ' ',\n",
       " 'w',\n",
       " 'o',\n",
       " 'u',\n",
       " 'l',\n",
       " 'd',\n",
       " ' ',\n",
       " 'k',\n",
       " 'n',\n",
       " 'o',\n",
       " 'w',\n",
       " ' ',\n",
       " 'f',\n",
       " 'l',\n",
       " 'o',\n",
       " 'a',\n",
       " 't',\n",
       " ' ',\n",
       " 'i',\n",
       " 's',\n",
       " ' ',\n",
       " 'b',\n",
       " 'i',\n",
       " 'g',\n",
       " 'g',\n",
       " 'e',\n",
       " 'r',\n",
       " ' ',\n",
       " 't',\n",
       " 'h',\n",
       " 'a',\n",
       " 'n',\n",
       " ' ',\n",
       " 'i',\n",
       " 'n',\n",
       " 't',\n",
       " ' ',\n",
       " 't',\n",
       " 'y',\n",
       " 'p',\n",
       " 'e',\n",
       " ',',\n",
       " ' ',\n",
       " 'd',\n",
       " 'e',\n",
       " 'c',\n",
       " 'i',\n",
       " 'm',\n",
       " 'a',\n",
       " 'l',\n",
       " '.',\n",
       " '\\n',\n",
       " 'P',\n",
       " 'y',\n",
       " 't',\n",
       " 'h',\n",
       " 'o',\n",
       " 'n',\n",
       " '\\n',\n",
       " 'P',\n",
       " 'y',\n",
       " 't',\n",
       " 'h',\n",
       " 'o',\n",
       " 'n',\n",
       " '!',\n",
       " '\\n',\n",
       " 'P',\n",
       " 'y',\n",
       " 't',\n",
       " 'h',\n",
       " 'o',\n",
       " 'n',\n",
       " '!',\n",
       " '!',\n",
       " '\\n',\n",
       " 'P',\n",
       " 'y',\n",
       " 't',\n",
       " 'h',\n",
       " 'o',\n",
       " 'n',\n",
       " '!',\n",
       " '!',\n",
       " '!',\n",
       " '\\n',\n",
       " 'P',\n",
       " 'y',\n",
       " 't',\n",
       " 'h',\n",
       " 'o',\n",
       " 'n',\n",
       " '!',\n",
       " '!',\n",
       " '!',\n",
       " '!',\n",
       " '\\n',\n",
       " '-',\n",
       " '-',\n",
       " 'P',\n",
       " 'y',\n",
       " 't',\n",
       " 'h',\n",
       " 'o',\n",
       " 'n',\n",
       " '\\n',\n",
       " '-',\n",
       " '-',\n",
       " 'P',\n",
       " 'y',\n",
       " 't',\n",
       " 'h',\n",
       " 'o',\n",
       " 'n',\n",
       " '-',\n",
       " '-',\n",
       " '\\n',\n",
       " '-',\n",
       " 'P',\n",
       " 'y',\n",
       " 't',\n",
       " 'h',\n",
       " 'o',\n",
       " 'n',\n",
       " '-',\n",
       " '\\n',\n",
       " 'P',\n",
       " 'y',\n",
       " 't',\n",
       " 'h',\n",
       " 'o',\n",
       " 'n',\n",
       " '.',\n",
       " '\\n',\n",
       " 'P',\n",
       " 'y',\n",
       " 't',\n",
       " 'h',\n",
       " 'o',\n",
       " 'n',\n",
       " '.',\n",
       " '.',\n",
       " '.',\n",
       " '\\n',\n",
       " 'P',\n",
       " 'Y',\n",
       " 't',\n",
       " 'h',\n",
       " 'O',\n",
       " 'n',\n",
       " '\\n',\n",
       " 'p',\n",
       " 'Y',\n",
       " 't',\n",
       " 'h',\n",
       " 'O',\n",
       " 'N',\n",
       " '\\n',\n",
       " '-',\n",
       " '-',\n",
       " '-',\n",
       " '\\n',\n",
       " '-',\n",
       " '-',\n",
       " '\\n',\n",
       " '-',\n",
       " '-',\n",
       " '\\n',\n",
       " '-',\n",
       " '-',\n",
       " '-',\n",
       " '\\n',\n",
       " '-',\n",
       " '-',\n",
       " '-',\n",
       " '-',\n",
       " '-',\n",
       " '\\n',\n",
       " '\\n',\n",
       " '\\n',\n",
       " '\\n',\n",
       " '\\n',\n",
       " 'a',\n",
       " 'n',\n",
       " 'd',\n",
       " ' ',\n",
       " 'c',\n",
       " 'o',\n",
       " 'n',\n",
       " 'v',\n",
       " 'e',\n",
       " 'r',\n",
       " 't',\n",
       " 'i',\n",
       " 'n',\n",
       " 'g',\n",
       " ' ',\n",
       " 'i',\n",
       " 'n',\n",
       " 't',\n",
       " 'o',\n",
       " ' ',\n",
       " 'i',\n",
       " 'n',\n",
       " 't',\n",
       " ' ',\n",
       " 'w',\n",
       " 'o',\n",
       " 'u',\n",
       " 'l',\n",
       " 'd',\n",
       " ' ',\n",
       " 'l',\n",
       " 'o',\n",
       " 's',\n",
       " 'e',\n",
       " ' ',\n",
       " 'a',\n",
       " 'n',\n",
       " 'y',\n",
       " ' ',\n",
       " 'v',\n",
       " 'a',\n",
       " 'l',\n",
       " 'u',\n",
       " 'e',\n",
       " ' ',\n",
       " 'a',\n",
       " 'f',\n",
       " 't',\n",
       " 'e',\n",
       " 'r',\n",
       " ' ',\n",
       " 't',\n",
       " 'h',\n",
       " 'e',\n",
       " ' ',\n",
       " 'd',\n",
       " 'e',\n",
       " 'c',\n",
       " 'i',\n",
       " 'm',\n",
       " 'a',\n",
       " 'l',\n",
       " '.']"
      ]
     },
     "execution_count": 377,
     "metadata": {},
     "output_type": "execute_result"
    }
   ],
   "source": [
    "re.findall(r'\\D' , texto)"
   ]
  },
  {
   "cell_type": "code",
   "execution_count": 378,
   "metadata": {},
   "outputs": [
    {
     "data": {
      "text/plain": [
       "['.', '.', '.', '.', '.', '.', '.', '.', '.', '.', '.', '.']"
      ]
     },
     "execution_count": 378,
     "metadata": {},
     "output_type": "execute_result"
    }
   ],
   "source": [
    "re.findall(r'\\.' , texto)"
   ]
  },
  {
   "cell_type": "markdown",
   "metadata": {},
   "source": [
    "#### ^ inicio y $ fin"
   ]
  },
  {
   "cell_type": "code",
   "execution_count": 379,
   "metadata": {},
   "outputs": [
    {
     "data": {
      "text/plain": [
       "[' converting into int would lose any value after the decimal.']"
      ]
     },
     "execution_count": 379,
     "metadata": {},
     "output_type": "execute_result"
    }
   ],
   "source": [
    "re.findall(r'\\ .+$' , texto)"
   ]
  },
  {
   "cell_type": "code",
   "execution_count": 380,
   "metadata": {},
   "outputs": [
    {
     "data": {
      "text/plain": [
       "['Use pandas python DataFrame.astype(int) and DataFrame.apply() ']"
      ]
     },
     "execution_count": 380,
     "metadata": {},
     "output_type": "execute_result"
    }
   ],
   "source": [
    "re.findall(r'\\b^.+' , texto)"
   ]
  },
  {
   "cell_type": "code",
   "execution_count": 381,
   "metadata": {},
   "outputs": [
    {
     "data": {
      "text/plain": [
       "['64',\n",
       " '32',\n",
       " '192',\n",
       " '168',\n",
       " '5',\n",
       " '24',\n",
       " '555',\n",
       " '11',\n",
       " '98',\n",
       " '74',\n",
       " '195',\n",
       " '197',\n",
       " '198',\n",
       " '196',\n",
       " '206',\n",
       " '306',\n",
       " '001',\n",
       " '197',\n",
       " '198',\n",
       " '2658',\n",
       " '248',\n",
       " '25',\n",
       " '16',\n",
       " '8745',\n",
       " '25',\n",
       " '195',\n",
       " '265',\n",
       " '365247']"
      ]
     },
     "execution_count": 381,
     "metadata": {},
     "output_type": "execute_result"
    }
   ],
   "source": [
    "re.findall(r'\\d+' , texto)"
   ]
  },
  {
   "cell_type": "markdown",
   "metadata": {},
   "source": [
    "#### * 0 o más "
   ]
  },
  {
   "cell_type": "code",
   "execution_count": 382,
   "metadata": {},
   "outputs": [
    {
     "data": {
      "text/plain": [
       "['Python',\n",
       " 'Python!',\n",
       " 'Python!!',\n",
       " 'Python!!!',\n",
       " 'Python!!!!',\n",
       " 'Python',\n",
       " 'Python',\n",
       " 'Python',\n",
       " 'Python',\n",
       " 'Python']"
      ]
     },
     "execution_count": 382,
     "metadata": {},
     "output_type": "execute_result"
    }
   ],
   "source": [
    "re.findall(r'\\bPython!*' , texto)"
   ]
  },
  {
   "cell_type": "markdown",
   "metadata": {},
   "source": [
    "#### + 1 o más"
   ]
  },
  {
   "cell_type": "code",
   "execution_count": 383,
   "metadata": {},
   "outputs": [
    {
     "data": {
      "text/plain": [
       "['Python!', 'Python!!', 'Python!!!', 'Python!!!!']"
      ]
     },
     "execution_count": 383,
     "metadata": {},
     "output_type": "execute_result"
    }
   ],
   "source": [
    "re.findall(r'\\bPython!+' , texto)"
   ]
  },
  {
   "cell_type": "markdown",
   "metadata": {},
   "source": [
    "#### ? 0 o 1"
   ]
  },
  {
   "cell_type": "code",
   "execution_count": 384,
   "metadata": {},
   "outputs": [
    {
     "data": {
      "text/plain": [
       "['Python',\n",
       " 'Python!',\n",
       " 'Python!',\n",
       " 'Python!',\n",
       " 'Python!',\n",
       " 'Python',\n",
       " 'Python',\n",
       " 'Python',\n",
       " 'Python',\n",
       " 'Python']"
      ]
     },
     "execution_count": 384,
     "metadata": {},
     "output_type": "execute_result"
    }
   ],
   "source": [
    "re.findall(r'\\bPython!?' , texto)"
   ]
  },
  {
   "cell_type": "markdown",
   "metadata": {},
   "source": [
    "#### {x} numero exacto "
   ]
  },
  {
   "cell_type": "code",
   "execution_count": 385,
   "metadata": {},
   "outputs": [
    {
     "data": {
      "text/plain": [
       "['Python!!!', 'Python!!!']"
      ]
     },
     "execution_count": 385,
     "metadata": {},
     "output_type": "execute_result"
    }
   ],
   "source": [
    "re.findall(r'\\bPython!{3}' , texto)"
   ]
  },
  {
   "cell_type": "markdown",
   "metadata": {},
   "source": [
    "#### {x,y}  de x a y veces"
   ]
  },
  {
   "cell_type": "code",
   "execution_count": 386,
   "metadata": {},
   "outputs": [
    {
     "data": {
      "text/plain": [
       "['Python!!', 'Python!!!', 'Python!!!!']"
      ]
     },
     "execution_count": 386,
     "metadata": {},
     "output_type": "execute_result"
    }
   ],
   "source": [
    "re.findall(r'\\bPython!{2,4}' , texto)"
   ]
  },
  {
   "cell_type": "code",
   "execution_count": 387,
   "metadata": {},
   "outputs": [
    {
     "data": {
      "text/plain": [
       "['Python!!', 'Python!!!', 'Python!!!!']"
      ]
     },
     "execution_count": 387,
     "metadata": {},
     "output_type": "execute_result"
    }
   ],
   "source": [
    "re.findall(r'\\bPython!{2,}' , texto)"
   ]
  },
  {
   "cell_type": "code",
   "execution_count": 388,
   "metadata": {},
   "outputs": [
    {
     "data": {
      "text/plain": [
       "['Python!!', 'Python!!!', 'Python!!!!']"
      ]
     },
     "execution_count": 388,
     "metadata": {},
     "output_type": "execute_result"
    }
   ],
   "source": [
    "re.findall(r'\\bPython!!!*' , texto)"
   ]
  },
  {
   "cell_type": "code",
   "execution_count": 389,
   "metadata": {},
   "outputs": [
    {
     "data": {
      "text/plain": [
       "['Python!!', 'Python!!!', 'Python!!!!']"
      ]
     },
     "execution_count": 389,
     "metadata": {},
     "output_type": "execute_result"
    }
   ],
   "source": [
    "re.findall(r'\\bPython!!+' , texto)"
   ]
  },
  {
   "cell_type": "code",
   "execution_count": 390,
   "metadata": {},
   "outputs": [
    {
     "name": "stdout",
     "output_type": "stream",
     "text": [
      "Use pandas python DataFrame.astype(int) and DataFrame.apply() \n",
      "methods to convert a column to int (float/string to integer/int64/int32 dtype) data type. \n",
      "If you are converting float,192.168.5.24 I believe you would know float is bigger than int type, decimal.\n",
      "Python\n",
      "Python!\n",
      "Python!!\n",
      "Python!!!\n",
      "Python!!!!\n",
      "--Python\n",
      "--Python--\n",
      "-Python-\n",
      "Python.\n",
      "Python...\n",
      "PYthOn\n",
      "pYthON\n",
      "555-11-98-74\n",
      "195-197-198\n",
      "196-206-306\n",
      "001-197-198-2658\n",
      "-248-25-16-8745-25\n",
      "195\n",
      "265\n",
      "365247\n",
      "\n",
      "and converting into int would lose any value after the decimal.\n"
     ]
    }
   ],
   "source": [
    "print(texto)"
   ]
  },
  {
   "cell_type": "markdown",
   "metadata": {},
   "source": [
    "#### . (cualquier caracter)"
   ]
  },
  {
   "cell_type": "markdown",
   "metadata": {},
   "source": [
    "#### + is greedy (codicioso), toma la mayar cantidad de coincidencias pe."
   ]
  },
  {
   "cell_type": "code",
   "execution_count": 391,
   "metadata": {},
   "outputs": [
    {
     "data": {
      "text/plain": [
       "['-11-98-', '-197-', '-206-', '-197-198-', '-25-16-8745-']"
      ]
     },
     "execution_count": 391,
     "metadata": {},
     "output_type": "execute_result"
    }
   ],
   "source": [
    "re.findall(r'\\b-.+-' , texto)"
   ]
  },
  {
   "cell_type": "code",
   "execution_count": 392,
   "metadata": {},
   "outputs": [
    {
     "data": {
      "text/plain": [
       "['--Python--',\n",
       " '-Python-',\n",
       " '-11-98-',\n",
       " '-197-',\n",
       " '-206-',\n",
       " '-197-198-',\n",
       " '-248-25-16-8745-']"
      ]
     },
     "execution_count": 392,
     "metadata": {},
     "output_type": "execute_result"
    }
   ],
   "source": [
    "re.findall(r'\\-.+-' , texto)"
   ]
  },
  {
   "cell_type": "markdown",
   "metadata": {},
   "source": [
    "#### ? is lazy (peresozo), toma la menor cantidad de coincidencias pe."
   ]
  },
  {
   "cell_type": "code",
   "execution_count": 393,
   "metadata": {},
   "outputs": [
    {
     "data": {
      "text/plain": [
       "['-11-', '-197-', '-206-', '-197-', '-25-', '-8745-']"
      ]
     },
     "execution_count": 393,
     "metadata": {},
     "output_type": "execute_result"
    }
   ],
   "source": [
    "re.findall(r'\\b-.+?-' , texto)"
   ]
  },
  {
   "cell_type": "code",
   "execution_count": 394,
   "metadata": {},
   "outputs": [
    {
     "data": {
      "text/plain": [
       "['--Python-', '-Python-', '-11-', '-197-', '-206-', '-197-', '-248-', '-16-']"
      ]
     },
     "execution_count": 394,
     "metadata": {},
     "output_type": "execute_result"
    }
   ],
   "source": [
    "re.findall(r'\\-.+?-' , texto)"
   ]
  },
  {
   "cell_type": "code",
   "execution_count": 395,
   "metadata": {},
   "outputs": [
    {
     "data": {
      "text/plain": [
       "['--Python-', '-Python-', '-11-', '-197-', '-206-', '-197-', '-248-', '-16-']"
      ]
     },
     "execution_count": 395,
     "metadata": {},
     "output_type": "execute_result"
    }
   ],
   "source": [
    "re.findall(r'\\-.+?-' , texto)"
   ]
  },
  {
   "cell_type": "code",
   "execution_count": 396,
   "metadata": {},
   "outputs": [
    {
     "data": {
      "text/plain": [
       "['192',\n",
       " '168',\n",
       " '555',\n",
       " '195',\n",
       " '197',\n",
       " '198',\n",
       " '196',\n",
       " '206',\n",
       " '306',\n",
       " '001',\n",
       " '197',\n",
       " '198',\n",
       " '265',\n",
       " '248',\n",
       " '874',\n",
       " '195',\n",
       " '265',\n",
       " '365',\n",
       " '247']"
      ]
     },
     "execution_count": 396,
     "metadata": {},
     "output_type": "execute_result"
    }
   ],
   "source": [
    "re.findall(r'\\d{3}' , texto)"
   ]
  },
  {
   "cell_type": "code",
   "execution_count": 397,
   "metadata": {},
   "outputs": [
    {
     "data": {
      "text/plain": [
       "['195-197', '196-206', '001-197', '198-265']"
      ]
     },
     "execution_count": 397,
     "metadata": {},
     "output_type": "execute_result"
    }
   ],
   "source": [
    "re.findall(r'\\d{3}-\\d{3}' , texto)"
   ]
  },
  {
   "cell_type": "code",
   "execution_count": 398,
   "metadata": {},
   "outputs": [
    {
     "data": {
      "text/plain": [
       "['-197-198', '-206-306', '-197-198']"
      ]
     },
     "execution_count": 398,
     "metadata": {},
     "output_type": "execute_result"
    }
   ],
   "source": [
    "re.findall(r'\\-\\d{3}-\\d{3}' , texto)"
   ]
  },
  {
   "cell_type": "code",
   "execution_count": 442,
   "metadata": {},
   "outputs": [
    {
     "data": {
      "text/plain": [
       "['-197-198-']"
      ]
     },
     "execution_count": 442,
     "metadata": {},
     "output_type": "execute_result"
    }
   ],
   "source": [
    "re.findall(r'\\-\\d{3}-\\d{3}-' , texto)"
   ]
  },
  {
   "cell_type": "code",
   "execution_count": 445,
   "metadata": {},
   "outputs": [
    {
     "name": "stdout",
     "output_type": "stream",
     "text": [
      "Use pandas python DataFrame.astype(int) and DataFrame.apply() \n",
      "methods to convert a column to int (float/string to integer/int64/int32 dtype) data type. \n",
      "If you are converting float,192.168.5.24 I believe you would know float is bigger than int type, decimal.\n",
      "Python\n",
      "Python!\n",
      "Python!!\n",
      "Python!!!\n",
      "Python!!!!\n",
      "--Python\n",
      "--Python--\n",
      "-Python-\n",
      "Python.\n",
      "Python...\n",
      "PYthOn\n",
      "pYthON\n",
      "555-11-98-74\n",
      "195-197-198\n",
      "196-206-306\n",
      "001-197-198-2658\n",
      "-248-25-16-8745-25\n",
      "195\n",
      "15-02-2021\n",
      "265\n",
      "365247\n",
      "2022-0110\n",
      "\n",
      "and converting into int would lose any value after the decimal.\n"
     ]
    }
   ],
   "source": [
    "print(texto)"
   ]
  },
  {
   "cell_type": "code",
   "execution_count": 446,
   "metadata": {},
   "outputs": [
    {
     "data": {
      "text/plain": [
       "['25-16-8745', '15-02-2021']"
      ]
     },
     "execution_count": 446,
     "metadata": {},
     "output_type": "execute_result"
    }
   ],
   "source": [
    "re.findall(r'\\d{2}-\\d{2}-\\d{4}' , texto)"
   ]
  },
  {
   "cell_type": "markdown",
   "metadata": {},
   "source": [
    "#### () Agrupa el resultado de una selección:"
   ]
  },
  {
   "cell_type": "code",
   "execution_count": 400,
   "metadata": {},
   "outputs": [
    {
     "data": {
      "text/plain": [
       "['195', '196', '001']"
      ]
     },
     "execution_count": 400,
     "metadata": {},
     "output_type": "execute_result"
    }
   ],
   "source": [
    "re.findall(r'(\\d{3})-\\d{3}-\\d{3}' , texto)"
   ]
  },
  {
   "cell_type": "code",
   "execution_count": 401,
   "metadata": {},
   "outputs": [
    {
     "data": {
      "text/plain": [
       "['192',\n",
       " '168',\n",
       " '555',\n",
       " '195',\n",
       " '197',\n",
       " '198',\n",
       " '196',\n",
       " '206',\n",
       " '306',\n",
       " '001',\n",
       " '197',\n",
       " '198',\n",
       " '265',\n",
       " '248',\n",
       " '874',\n",
       " '195',\n",
       " '265',\n",
       " '365',\n",
       " '247']"
      ]
     },
     "execution_count": 401,
     "metadata": {},
     "output_type": "execute_result"
    }
   ],
   "source": [
    "re.findall(r'(\\d{3})' , texto)"
   ]
  },
  {
   "cell_type": "markdown",
   "metadata": {},
   "source": [
    "#### [ ]  busca todo los carcteres dentro, pe"
   ]
  },
  {
   "cell_type": "code",
   "execution_count": 402,
   "metadata": {},
   "outputs": [
    {
     "data": {
      "text/plain": [
       "['306', '001', '365']"
      ]
     },
     "execution_count": 402,
     "metadata": {},
     "output_type": "execute_result"
    }
   ],
   "source": [
    "re.findall(r'[03]\\d{2}' , texto)"
   ]
  },
  {
   "cell_type": "code",
   "execution_count": 403,
   "metadata": {},
   "outputs": [
    {
     "data": {
      "text/plain": [
       "['-306']"
      ]
     },
     "execution_count": 403,
     "metadata": {},
     "output_type": "execute_result"
    }
   ],
   "source": [
    "re.findall(r'\\-[03]\\d{2}' , texto)"
   ]
  },
  {
   "cell_type": "code",
   "execution_count": 404,
   "metadata": {},
   "outputs": [
    {
     "data": {
      "text/plain": [
       "['e',\n",
       " 'panda',\n",
       " 'p',\n",
       " 'hon',\n",
       " 'a',\n",
       " 'a',\n",
       " 'rame',\n",
       " 'a',\n",
       " 'pe',\n",
       " 'in',\n",
       " 'and',\n",
       " 'a',\n",
       " 'a',\n",
       " 'rame',\n",
       " 'appl',\n",
       " 'me',\n",
       " 'hod',\n",
       " 'o',\n",
       " 'con',\n",
       " 'er',\n",
       " 'a',\n",
       " 'col',\n",
       " 'mn',\n",
       " 'o',\n",
       " 'in',\n",
       " 'floa',\n",
       " 'ring',\n",
       " 'o',\n",
       " 'in',\n",
       " 'eger',\n",
       " 'in',\n",
       " 'in',\n",
       " 'd',\n",
       " 'pe',\n",
       " 'da',\n",
       " 'a',\n",
       " 'pe',\n",
       " 'f',\n",
       " 'o',\n",
       " 'are',\n",
       " 'con',\n",
       " 'er',\n",
       " 'ing',\n",
       " 'floa',\n",
       " 'belie',\n",
       " 'e',\n",
       " 'o',\n",
       " 'o',\n",
       " 'ld',\n",
       " 'kno',\n",
       " 'floa',\n",
       " 'i',\n",
       " 'bigger',\n",
       " 'han',\n",
       " 'in',\n",
       " 'pe',\n",
       " 'decimal',\n",
       " 'hon',\n",
       " 'hon',\n",
       " 'hon',\n",
       " 'hon',\n",
       " 'hon',\n",
       " 'hon',\n",
       " 'hon',\n",
       " 'hon',\n",
       " 'hon',\n",
       " 'hon',\n",
       " 'h',\n",
       " 'n',\n",
       " 'p',\n",
       " 'h',\n",
       " 'and',\n",
       " 'con',\n",
       " 'er',\n",
       " 'ing',\n",
       " 'in',\n",
       " 'o',\n",
       " 'in',\n",
       " 'o',\n",
       " 'ld',\n",
       " 'lo',\n",
       " 'e',\n",
       " 'an',\n",
       " 'al',\n",
       " 'e',\n",
       " 'af',\n",
       " 'er',\n",
       " 'he',\n",
       " 'decimal']"
      ]
     },
     "execution_count": 404,
     "metadata": {},
     "output_type": "execute_result"
    }
   ],
   "source": [
    "re.findall(r'[a-r]+', texto)"
   ]
  },
  {
   "cell_type": "code",
   "execution_count": 405,
   "metadata": {},
   "outputs": [
    {
     "data": {
      "text/plain": [
       "['64',\n",
       " '32',\n",
       " '192',\n",
       " '168',\n",
       " '5',\n",
       " '24',\n",
       " '555',\n",
       " '11',\n",
       " '98',\n",
       " '74',\n",
       " '195',\n",
       " '197',\n",
       " '198',\n",
       " '196',\n",
       " '206',\n",
       " '306',\n",
       " '001',\n",
       " '197',\n",
       " '198',\n",
       " '2658',\n",
       " '248',\n",
       " '25',\n",
       " '16',\n",
       " '8745',\n",
       " '25',\n",
       " '195',\n",
       " '265',\n",
       " '365247']"
      ]
     },
     "execution_count": 405,
     "metadata": {},
     "output_type": "execute_result"
    }
   ],
   "source": [
    "re.findall(r'[0-9]+', texto)"
   ]
  },
  {
   "cell_type": "code",
   "execution_count": 406,
   "metadata": {},
   "outputs": [
    {
     "data": {
      "text/plain": [
       "['2658', '8745', '3652']"
      ]
     },
     "execution_count": 406,
     "metadata": {},
     "output_type": "execute_result"
    }
   ],
   "source": [
    "re.findall(r'[0-9]{4}', texto)"
   ]
  },
  {
   "cell_type": "code",
   "execution_count": 407,
   "metadata": {},
   "outputs": [
    {
     "data": {
      "text/plain": [
       "['pand',\n",
       " 'rame',\n",
       " 'rame',\n",
       " 'appl',\n",
       " 'floa',\n",
       " 'ring ',\n",
       " 'eger',\n",
       " 'floa',\n",
       " 'beli',\n",
       " 'floa',\n",
       " 'bigg',\n",
       " 'deci',\n",
       " 'deci']"
      ]
     },
     "execution_count": 407,
     "metadata": {},
     "output_type": "execute_result"
    }
   ],
   "source": [
    "re.findall(r'[a-r]{4} ?', texto)"
   ]
  },
  {
   "cell_type": "code",
   "execution_count": 408,
   "metadata": {},
   "outputs": [
    {
     "data": {
      "text/plain": [
       "['python ',\n",
       " 'and ',\n",
       " 'column ',\n",
       " 'int ',\n",
       " 'to ',\n",
       " 'data ',\n",
       " 'converting ',\n",
       " 'know ',\n",
       " 'int ',\n",
       " 'Python\\n',\n",
       " 'Python\\n',\n",
       " 'pYthON\\n',\n",
       " 'would ',\n",
       " 'the ']"
      ]
     },
     "execution_count": 408,
     "metadata": {},
     "output_type": "execute_result"
    }
   ],
   "source": [
    "re.findall(r'([a-zA-Z]+\\s){1,5}', texto)"
   ]
  },
  {
   "cell_type": "markdown",
   "metadata": {},
   "source": [
    "Exactly 4 characters and a space"
   ]
  },
  {
   "cell_type": "code",
   "execution_count": 409,
   "metadata": {},
   "outputs": [
    {
     "data": {
      "text/plain": [
       "[' data ', ' know ', ' than ', ' into ', ' lose ']"
      ]
     },
     "execution_count": 409,
     "metadata": {},
     "output_type": "execute_result"
    }
   ],
   "source": [
    "four_s=re.findall(r'\\s[\\S]{4}\\s{1}', texto)\n",
    "four_s"
   ]
  },
  {
   "cell_type": "code",
   "execution_count": 410,
   "metadata": {},
   "outputs": [
    {
     "data": {
      "text/plain": [
       "['data', 'know', 'than', 'into', 'lose']"
      ]
     },
     "execution_count": 410,
     "metadata": {},
     "output_type": "execute_result"
    }
   ],
   "source": [
    "#four = four_s.replace(' ', '')\n",
    "four=[]\n",
    "for c in four_s:\n",
    "    four.append(c.strip())\n",
    "four"
   ]
  },
  {
   "cell_type": "markdown",
   "metadata": {},
   "source": [
    "#### [^ ] Negacion"
   ]
  },
  {
   "cell_type": "code",
   "execution_count": 430,
   "metadata": {},
   "outputs": [
    {
     "data": {
      "text/plain": [
       "['() \\n',\n",
       " ',192',\n",
       " '.168',\n",
       " '.5.2',\n",
       " '!!!\\n',\n",
       " '!!!!',\n",
       " '...\\n',\n",
       " '\\n555',\n",
       " '74\\n1',\n",
       " '198\\n',\n",
       " '306\\n',\n",
       " '2658',\n",
       " '8745',\n",
       " '25\\n1',\n",
       " '95\\n2',\n",
       " '65\\n3',\n",
       " '6524']"
      ]
     },
     "execution_count": 430,
     "metadata": {},
     "output_type": "execute_result"
    }
   ],
   "source": [
    "re.findall(r'[^a-zA-Z-]{4}', texto)"
   ]
  },
  {
   "cell_type": "markdown",
   "metadata": {},
   "source": [
    "validar usuario"
   ]
  },
  {
   "cell_type": "code",
   "execution_count": 452,
   "metadata": {},
   "outputs": [],
   "source": [
    "texto = '''\n",
    "abc\n",
    "kjgfds1\n",
    "usuario123\n",
    "234user\n",
    "gonzalo5248\n",
    "'''"
   ]
  },
  {
   "cell_type": "code",
   "execution_count": 453,
   "metadata": {},
   "outputs": [
    {
     "data": {
      "text/plain": [
       "['usuario123', 'gonzalo5248']"
      ]
     },
     "execution_count": 453,
     "metadata": {},
     "output_type": "execute_result"
    }
   ],
   "source": [
    "re.findall(r'[a-z1-9]{8,15}', texto)"
   ]
  },
  {
   "cell_type": "markdown",
   "metadata": {},
   "source": [
    "filtrar títulos de personas"
   ]
  },
  {
   "cell_type": "code",
   "execution_count": 542,
   "metadata": {},
   "outputs": [],
   "source": [
    "texto = '''\n",
    "\n",
    "Mr. Smith \n",
    "Mr. Robinson\n",
    "Ms. Sanchez\n",
    "Ms Davis\n",
    "Msr. duval\n",
    "Mr T.\n",
    "Abcd\n",
    "karen.rodriguez@mail.com\n",
    "523-254-5874\n",
    "265 321 9854\n",
    "Aleluya\n",
    "joseline1287.gsr@hotmail.org\n",
    "jessy.rios98@kraken.mx.org\n",
    "\n",
    "'''"
   ]
  },
  {
   "cell_type": "code",
   "execution_count": 610,
   "metadata": {},
   "outputs": [
    {
     "data": {
      "text/plain": [
       "[('Mr. Smith', 'r'),\n",
       " ('Mr. Robinson', 'r'),\n",
       " ('Ms. Sanchez', 's'),\n",
       " ('Ms Davis', 's'),\n",
       " ('Msr. duval', 'sr'),\n",
       " ('Mr T.', 'r')]"
      ]
     },
     "execution_count": 610,
     "metadata": {},
     "output_type": "execute_result"
    }
   ],
   "source": [
    "x= re.findall(r'(M(r|s|sr)\\.?\\s[A-za-z.]+)', texto)\n",
    "x"
   ]
  },
  {
   "cell_type": "code",
   "execution_count": 465,
   "metadata": {},
   "outputs": [
    {
     "data": {
      "text/plain": [
       "['karen.rodriguez@mail.com',\n",
       " 'joseline1287.gsr@hotmail.org',\n",
       " 'jessy.rios98@kraken.mx.org']"
      ]
     },
     "execution_count": 465,
     "metadata": {},
     "output_type": "execute_result"
    }
   ],
   "source": [
    "re.findall(r'[a-z1-9.]+[@][a-z.]+[a-z]+', texto)"
   ]
  },
  {
   "cell_type": "code",
   "execution_count": 595,
   "metadata": {},
   "outputs": [
    {
     "data": {
      "text/plain": [
       "['Mr. Smith', 'Mr. Robinson', 'Ms. Sanchez', 'Ms Davis', 'Mr T']"
      ]
     },
     "execution_count": 595,
     "metadata": {},
     "output_type": "execute_result"
    }
   ],
   "source": [
    "x=re.findall(r'[Mm][a-z.]{1,2}\\s[a-zA-Z]*' , texto)\n",
    "x"
   ]
  },
  {
   "cell_type": "code",
   "execution_count": 581,
   "metadata": {},
   "outputs": [
    {
     "data": {
      "text/plain": [
       "<re.Match object; span=(2, 11), match='Mr. Smith'>"
      ]
     },
     "execution_count": 581,
     "metadata": {},
     "output_type": "execute_result"
    }
   ],
   "source": [
    "x=re.search(r'(Mr|Ms|Msr)\\.?\\s[A-Z]\\w+', texto)\n",
    "x"
   ]
  },
  {
   "cell_type": "code",
   "execution_count": 480,
   "metadata": {},
   "outputs": [
    {
     "data": {
      "text/plain": [
       "['523-254-5874', '265 321 9854']"
      ]
     },
     "execution_count": 480,
     "metadata": {},
     "output_type": "execute_result"
    }
   ],
   "source": [
    "re.findall('\\d{3}.?\\d{3}.?\\d{4}', texto)"
   ]
  },
  {
   "cell_type": "code",
   "execution_count": 558,
   "metadata": {},
   "outputs": [
    {
     "data": {
      "text/plain": [
       "['Ndufa10']"
      ]
     },
     "execution_count": 558,
     "metadata": {},
     "output_type": "execute_result"
    }
   ],
   "source": [
    "str = \"\"\"\n",
    "gi|13195623|ref|NM_024197.1| Mus musculus NADH dehydrogenase (ubiquinone) 1 alp\n",
    "ha subcomplex 10 (Ndufa10), mRNAGCCGGCGCAGACGGCGAAGTCATGGCCTTGAGGTTGCTGAGACTCGTC\n",
    "CCGGCGTCGGCTCCCGCGCGCGGCCTCGCGGCCGGAGCCCAGCGCGTGGG (etc)\"\"\"\n",
    "m = re.findall(r'(?<=\\().*?(?=\\),)', str)\n",
    "m"
   ]
  }
 ],
 "metadata": {
  "kernelspec": {
   "display_name": "Python 3.10.6 64-bit (windows store)",
   "language": "python",
   "name": "python3"
  },
  "language_info": {
   "codemirror_mode": {
    "name": "ipython",
    "version": 3
   },
   "file_extension": ".py",
   "mimetype": "text/x-python",
   "name": "python",
   "nbconvert_exporter": "python",
   "pygments_lexer": "ipython3",
   "version": "3.10.6"
  },
  "orig_nbformat": 4,
  "vscode": {
   "interpreter": {
    "hash": "014dbba80d74da3648dd64d986c7955956caba1a84678fdab057142c84f82175"
   }
  }
 },
 "nbformat": 4,
 "nbformat_minor": 2
}
